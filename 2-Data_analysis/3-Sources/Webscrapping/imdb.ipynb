{
 "cells": [
  {
   "cell_type": "code",
   "execution_count": null,
   "id": "cca4b6f5",
   "metadata": {},
   "outputs": [],
   "source": [
    "'''\n",
    "#############  TEORÍA BEAUTIFUL SOUP ##############\n",
    "\n",
    "from bs4 import BeautifulSoup as bs\n",
    "import requests\n",
    "import pandas as pd\n",
    "# from splinter import Browser\n",
    "import numpy as np\n",
    "\n",
    "pd.set_option('max_colwidth', 800)\n",
    "-------\n",
    "\n",
    "url = \"https://www.filmaffinity.com/es/topgen.php\"\n",
    "\n",
    "response = requests.get(url)\n",
    "\n",
    "print(response)\n",
    "\n",
    "html = response.content\n",
    "print(html)\n",
    "\n",
    "soup = bs(html, 'html.parser')\n",
    "\n",
    "print(soup)\n",
    "\n",
    "soup.title\n",
    "soup.find_all('a')\n",
    "\n",
    "------------------------------------\n",
    "#/html/body/div[3]/div/div/main/div[2]/ul/li[1]/ul/li[2]/div/div[2]/div[1]/a\n",
    "\n",
    "soup.find('div', class_=\"mc-title\").get_text()\n",
    "\n",
    "len(soup.find_all('div', class_=\"mc-title\"))\n",
    "\n",
    "top10_dict = {\"Titulo\": [x.get_text() for x in soup.find_all('div', class_=\"mc-title\")[:10]],\n",
    "             \"Nota\": [x.get_text() for x in soup.find_all('div', class_=\"avg-rating\")[:10]]}\n",
    "df = pd.DataFrame(top10_dict)\n",
    "df.to_csv(\"top10.csv\")\n",
    "df\n",
    "\n",
    "df.dtypes\n",
    "'''"
   ]
  },
  {
   "cell_type": "code",
   "execution_count": null,
   "id": "56dc8aec",
   "metadata": {},
   "outputs": [],
   "source": [
    "IMDB: https://www.imdb.com/chart/top/?ref_=nv_mv_250"
   ]
  }
 ],
 "metadata": {
  "language_info": {
   "name": "python"
  }
 },
 "nbformat": 4,
 "nbformat_minor": 5
}
