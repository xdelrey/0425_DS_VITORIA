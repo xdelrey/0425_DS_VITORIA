{
 "cells": [
  {
   "cell_type": "markdown",
   "metadata": {},
   "source": [
    "![imagen](./img/ejercicios.png)"
   ]
  },
  {
   "cell_type": "code",
   "execution_count": 3,
   "metadata": {},
   "outputs": [
    {
     "data": {
      "text/plain": [
       "'2.2.5'"
      ]
     },
     "execution_count": 3,
     "metadata": {},
     "output_type": "execute_result"
    }
   ],
   "source": [
    "import numpy as np\n",
    "np.__version__"
   ]
  },
  {
   "cell_type": "markdown",
   "metadata": {},
   "source": [
    "## Ejercicio 1\n",
    "1. Crea un array que vaya del 0 al 9 y que se llame `my_array`\n",
    "2. Imprime por pantalla los elementos [9 7 5 3 1] en ese orden."
   ]
  },
  {
   "cell_type": "code",
   "execution_count": 5,
   "metadata": {},
   "outputs": [
    {
     "name": "stdout",
     "output_type": "stream",
     "text": [
      "[0 1 2 3 4 5 6 7 8 9]\n",
      "[9 7 5 3 1]\n",
      "[9 7 5 3 1]\n"
     ]
    }
   ],
   "source": [
    "my_array = np.arange(0,10)\n",
    "print(my_array)\n",
    "\n",
    "print(my_array[-1: 0: -2])\n",
    "print(my_array[:: -2])"
   ]
  },
  {
   "cell_type": "markdown",
   "metadata": {},
   "source": [
    "## Ejercicio 2\n",
    "Imprime por pantalla la secuencia [8 7] del array `my_array`"
   ]
  },
  {
   "cell_type": "code",
   "execution_count": 6,
   "metadata": {},
   "outputs": [
    {
     "name": "stdout",
     "output_type": "stream",
     "text": [
      "[8 7]\n"
     ]
    }
   ],
   "source": [
    "print(my_array[-2: -4: -1])"
   ]
  },
  {
   "cell_type": "markdown",
   "metadata": {},
   "source": [
    "## Ejercicio 3\n",
    "Imprime por pantalla la secuencia [2 1 0] de `my_array`"
   ]
  },
  {
   "cell_type": "code",
   "execution_count": 11,
   "metadata": {},
   "outputs": [
    {
     "name": "stdout",
     "output_type": "stream",
     "text": [
      "[2 1 0]\n"
     ]
    }
   ],
   "source": [
    "print(my_array[2:: -1])"
   ]
  },
  {
   "cell_type": "markdown",
   "metadata": {},
   "source": [
    "## Ejercicio 4\n",
    "1. Crea una matriz de 4x5, con una secuencia del 1 al 20\n",
    "2. Invierte totalmente la matriz. Tanto las filas, como las columnas"
   ]
  },
  {
   "cell_type": "code",
   "execution_count": 18,
   "metadata": {},
   "outputs": [
    {
     "name": "stdout",
     "output_type": "stream",
     "text": [
      "matriz de 4 x 5:\n",
      " [[ 1  2  3  4  5]\n",
      " [ 6  7  8  9 10]\n",
      " [11 12 13 14 15]\n",
      " [16 17 18 19 20]]\n",
      "-------------\n",
      "matriz de 4 x 5 invertida:\n",
      " [[20 19 18 17 16]\n",
      " [15 14 13 12 11]\n",
      " [10  9  8  7  6]\n",
      " [ 5  4  3  2  1]]\n",
      "[[20 19 18 17 16]\n",
      " [15 14 13 12 11]\n",
      " [10  9  8  7  6]\n",
      " [ 5  4  3  2  1]]\n",
      "[[ 1  6 11 16]\n",
      " [ 2  7 12 17]\n",
      " [ 3  8 13 18]\n",
      " [ 4  9 14 19]\n",
      " [ 5 10 15 20]]\n"
     ]
    }
   ],
   "source": [
    "# 1. Crea una matriz de 4x5, con una secuencia del 1 al 20\n",
    "matriz_4 = np.arange(1, 21)\n",
    "matriz_4 = matriz_4.reshape(4, 5)\n",
    "print('matriz de 4 x 5:\\n', matriz_4)\n",
    "\n",
    "print(\"-------------\")\n",
    "# 2. Invierte totalmente la matriz. Tanto las filas, como las columnas\n",
    "print('matriz de 4 x 5 invertida:\\n', matriz_4[::-1, ::-1])\n",
    "print(np.flip(matriz_4))\n",
    "print(matriz_4.T) #??????????????????????????????? transpose"
   ]
  },
  {
   "cell_type": "markdown",
   "metadata": {},
   "source": [
    "## Ejercicio 5\n",
    "\n",
    "Obtén el siguiente array, partiendo de la matriz del ejercicio 4\n",
    "```Python\n",
    "array([[1, 2],\n",
    "       [6, 7]])\n",
    "```"
   ]
  },
  {
   "cell_type": "code",
   "execution_count": 25,
   "metadata": {},
   "outputs": [
    {
     "name": "stdout",
     "output_type": "stream",
     "text": [
      "matriz original\n",
      " [[ 1  2  3  4  5]\n",
      " [ 6  7  8  9 10]\n",
      " [11 12 13 14 15]\n",
      " [16 17 18 19 20]]\n",
      "matriz modificada\n",
      " [[1 2]\n",
      " [6 7]]\n"
     ]
    }
   ],
   "source": [
    "print('matriz original\\n', matriz_4)\n",
    "matriz_5 = matriz_4[:2, :2]\n",
    "print('matriz modificada\\n', matriz_5)"
   ]
  },
  {
   "cell_type": "markdown",
   "metadata": {},
   "source": [
    "## Ejercicio 6\n",
    "Obtén el siguiente array, partiendo de la matriz del ejercicio 4\n",
    "```Python\n",
    "array([[ 1,  3,  5],\n",
    "       [11, 13, 15]])\n",
    "```"
   ]
  },
  {
   "cell_type": "code",
   "execution_count": 27,
   "metadata": {},
   "outputs": [
    {
     "name": "stdout",
     "output_type": "stream",
     "text": [
      "matriz original\n",
      " [[ 1  2  3  4  5]\n",
      " [ 6  7  8  9 10]\n",
      " [11 12 13 14 15]\n",
      " [16 17 18 19 20]]\n",
      "matriz modificada\n",
      " [[ 1  3  5]\n",
      " [11 13 15]]\n"
     ]
    }
   ],
   "source": [
    "print('matriz original\\n', matriz_4)\n",
    "matriz_6 = matriz_4[::2, ::2]\n",
    "print('matriz modificada\\n', matriz_6)"
   ]
  },
  {
   "cell_type": "markdown",
   "metadata": {},
   "source": [
    "## Ejercicio 7\n",
    "Obtén el siguiente array, partiendo de la matriz del ejercicio 4\n",
    "```Python\n",
    "array([[ 5,  4,  3,  2,  1],\n",
    "       [10,  9,  8,  7,  6],\n",
    "       [15, 14, 13, 12, 11]])\n",
    "```"
   ]
  },
  {
   "cell_type": "code",
   "execution_count": 20,
   "metadata": {},
   "outputs": [
    {
     "name": "stdout",
     "output_type": "stream",
     "text": [
      "matriz original\n",
      " [[ 1  2  3  4  5]\n",
      " [ 6  7  8  9 10]\n",
      " [11 12 13 14 15]\n",
      " [16 17 18 19 20]]\n",
      "matriz modificada\n",
      " [[ 5  4  3  2  1]\n",
      " [10  9  8  7  6]\n",
      " [15 14 13 12 11]]\n"
     ]
    }
   ],
   "source": [
    "print('matriz original\\n', matriz_4)\n",
    "matriz_7 = matriz_4[:3, ::-1]\n",
    "print('matriz modificada\\n', matriz_7)"
   ]
  },
  {
   "cell_type": "markdown",
   "metadata": {},
   "source": [
    "## Ejercicio 8\n",
    "Dado el siguiente array:\n",
    "\n",
    "```Python\n",
    "x = np.array([\"Loro\", \"Perro\", \"Gato\", \"Loro\", \"Perro\"])\n",
    "```\n",
    "\n",
    "Filtra el array para quedarte únicamente con los loros.\n",
    "\n",
    "Resuélvelo de dos maneras diferentes"
   ]
  },
  {
   "cell_type": "code",
   "execution_count": 29,
   "metadata": {},
   "outputs": [
    {
     "name": "stdout",
     "output_type": "stream",
     "text": [
      "Método 1: con una máscara que permita filtrar sólo los loros\n",
      "['Loro' 'Loro']\n",
      "-----------\n",
      "Método 2: filtrando directamente en una línea\n",
      "['Loro' 'Loro']\n",
      "-----------\n",
      "Método 3: utilizando Where\n",
      "['Loro' 'Loro']\n"
     ]
    }
   ],
   "source": [
    "x = np.array([\"Loro\", \"Perro\", \"Gato\", \"Loro\", \"Perro\"])\n",
    "\n",
    "print(\"Método 1: con una máscara que permita filtrar sólo los loros\")\n",
    "mascara = np.array(x == \"Loro\")\n",
    "solo_loros_1 = x[mascara]\n",
    "print(solo_loros_1)\n",
    "\n",
    "print(\"-----------\")\n",
    "\n",
    "print(\"Método 2: filtrando directamente en una línea\")\n",
    "solo_loros_2 = x[x == \"Loro\"]\n",
    "print(solo_loros_2)\n",
    "\n",
    "print(\"-----------\")\n",
    "\n",
    "print(\"Método 3: utilizando Where\")\n",
    "solo_loros_3 = x[np.where(x == \"Loro\")]\n",
    "print(solo_loros_3)"
   ]
  },
  {
   "cell_type": "markdown",
   "metadata": {},
   "source": [
    "## Ejercicio 9\n",
    "Crea una secuencia de 20 elementos y transfórmala en un array compuesto por 2 matrices de 5x2"
   ]
  },
  {
   "cell_type": "code",
   "execution_count": 34,
   "metadata": {},
   "outputs": [
    {
     "name": "stdout",
     "output_type": "stream",
     "text": [
      "matriz de 20 elementos:\n",
      " [ 0  1  2  3  4  5  6  7  8  9 10 11 12 13 14 15 16 17 18 19]\n",
      "-----------------\n",
      "array de 2 matrices de 5x2:\n",
      " [[[ 0  1]\n",
      "  [ 2  3]\n",
      "  [ 4  5]\n",
      "  [ 6  7]\n",
      "  [ 8  9]]\n",
      "\n",
      " [[10 11]\n",
      "  [12 13]\n",
      "  [14 15]\n",
      "  [16 17]\n",
      "  [18 19]]]\n",
      "-----------------\n",
      "dimensiones: 3\n",
      "forma: (2, 5, 2)\n",
      "tamaño: 20\n"
     ]
    }
   ],
   "source": [
    "# Crea una secuencia de 20 elementos\n",
    "matriz_9 = np.arange(20)\n",
    "print('matriz de 20 elementos:\\n', matriz_9)\n",
    "print(\"-----------------\")\n",
    "matriz_9 = matriz_9.reshape(2, 5, 2)\n",
    "print('array de 2 matrices de 5x2:\\n', matriz_9)\n",
    "print(\"-----------------\")\n",
    "print(\"dimensiones:\",matriz_9.ndim)\n",
    "print(\"forma:\",matriz_9.shape)\n",
    "print(\"tamaño:\",matriz_9.size)"
   ]
  },
  {
   "cell_type": "markdown",
   "metadata": {},
   "source": [
    "## Ejercicio 10\n",
    "\n",
    "Crea un array de 10 0s. ¿Cuánto ocupa en memoria?\n",
    "\n",
    "Sustituye el 4to elemento por 1, e imprime el array por pantalla"
   ]
  },
  {
   "cell_type": "code",
   "execution_count": 55,
   "metadata": {},
   "outputs": [
    {
     "name": "stdout",
     "output_type": "stream",
     "text": [
      "Array inicial: [0 0 0 0 0 0 0 0 0 0]\n",
      "Ocupa 80 bytes en memoria.\n",
      "Itemsize: 8\n",
      "\n",
      "Array modificado: [0 0 0 1 0 0 0 0 0 0]\n",
      "Ocupa 80 bytes en memoria.\n",
      "Itemsize: 8\n",
      "\n",
      "------------------\n",
      "\n",
      "Array de Floats: [0.81405305 0.74508827 0.21109583 0.32364224 0.22128144 0.9615916\n",
      " 0.50800365 0.73785814 0.83750666 0.78108518]\n",
      "Ocupa 80 bytes en memoria.\n",
      "Itemsize: 8\n"
     ]
    }
   ],
   "source": [
    "x = np.zeros(10, dtype=int)\n",
    "print(\"Array inicial:\", x)\n",
    "print(\"Ocupa\", x.nbytes, \"bytes en memoria.\")\n",
    "print(\"Itemsize:\", x.itemsize)\n",
    "\n",
    "x[3]= 1\n",
    "print(\"\\nArray modificado:\", x)\n",
    "print(\"Ocupa\", x.nbytes, \"bytes en memoria.\")\n",
    "print(\"Itemsize:\", x.itemsize)\n",
    "\n",
    "print(\"\\n------------------\")\n",
    "y = np.random.rand(10)\n",
    "print(\"\\nArray de Floats:\", y)\n",
    "print(\"Ocupa\", y.nbytes, \"bytes en memoria.\")\n",
    "print(\"Itemsize:\", y.itemsize)"
   ]
  },
  {
   "cell_type": "markdown",
   "metadata": {},
   "source": [
    "## Ejercicio 11\n",
    "\n",
    "Crea un vector que vaya del 10 al 49\n",
    "\n",
    "Inviértelo"
   ]
  },
  {
   "cell_type": "code",
   "execution_count": 65,
   "metadata": {},
   "outputs": [
    {
     "name": "stdout",
     "output_type": "stream",
     "text": [
      "Vector original:\n",
      " [10 11 12 13 14 15 16 17 18 19 20 21 22 23 24 25 26 27 28 29 30 31 32 33\n",
      " 34 35 36 37 38 39 40 41 42 43 44 45 46 47 48 49]\n",
      "Vector invertido:\n",
      " [49 48 47 46 45 44 43 42 41 40 39 38 37 36 35 34 33 32 31 30 29 28 27 26\n",
      " 25 24 23 22 21 20 19 18 17 16 15 14 13 12 11 10]\n"
     ]
    }
   ],
   "source": [
    "vector = np.arange(10, 50)\n",
    "print(\"Vector original:\\n\", vector)\n",
    "\n",
    "vector_invertido = vector[::-1]\n",
    "print(\"Vector invertido:\\n\", vector_invertido)\n"
   ]
  },
  {
   "cell_type": "markdown",
   "metadata": {},
   "source": [
    "## Ejercicio 12\n",
    "Encuentra los índices de los valores que no sean 0 del siguiente vector [1,2,0,0,4,0]. El output sería [0, 1, 4]. [Encuentra el método apropiado en la documentación.](https://numpy.org/doc/) Encapsúlalo en una función, con un argumento de entrada de un vector."
   ]
  },
  {
   "cell_type": "code",
   "execution_count": 71,
   "metadata": {},
   "outputs": [],
   "source": [
    "# método 1: con el método nonzero\n",
    "def indices_nonzero(vector):\n",
    "    return np.nonzero(vector)[0]\n",
    "\n",
    "# método 1: con el método where\n",
    "def indices_where(vector):\n",
    "    return np.where(vector != 0)[0]"
   ]
  },
  {
   "cell_type": "code",
   "execution_count": 74,
   "metadata": {},
   "outputs": [
    {
     "name": "stdout",
     "output_type": "stream",
     "text": [
      "vector original: [1 2 0 0 4 0]\n",
      "[0 1 4]\n",
      "0 1 4\n"
     ]
    }
   ],
   "source": [
    "vector_12 = np.array([1,2,0,0,4,0])\n",
    "print(\"vector original:\", vector_12)\n",
    "print(indices_where(vector_12))\n",
    "print(*indices_nonzero(vector_12))\n",
    "\n",
    "# el asterisco (*) es el operador de desempaquetado.\n",
    "# Lo que hace es tomar el iterable devuelto por la función y \"desempaquetar\" sus elementos,\n",
    "# pasándolos como argumentos individuales a la función print."
   ]
  },
  {
   "attachments": {},
   "cell_type": "markdown",
   "metadata": {},
   "source": [
    "## Ejercicio 13\n",
    "Crea una matriz de números aleatorios 10x10. Encuentra los valores mínimo y máximo."
   ]
  },
  {
   "cell_type": "code",
   "execution_count": 89,
   "metadata": {},
   "outputs": [
    {
     "name": "stdout",
     "output_type": "stream",
     "text": [
      "Matriz:\n",
      " [[83 57 62 65 44  3 72  5 55 92]\n",
      " [57 45 27 46 36 50 24 88 72 88]\n",
      " [76 53  2 66 55 85 27 54  8 11]\n",
      " [38 51 73 32 93 57 80 12 43 98]\n",
      " [42 25 53 14 83 11 74 70 43 15]\n",
      " [34 50 53 80 11  9 97 66 65 81]\n",
      " [55 23 93 58 90 77 44 80 53 21]\n",
      " [ 7 72 86 95  2 11 95 23 12 12]\n",
      " [33 90 14  2 55 55 21 14 76 45]\n",
      " [74 79 42 79 45 87 78 91 57 26]]\n",
      "\n",
      "Valor mínimo: 2\n",
      "Valor máximo: 98\n"
     ]
    }
   ],
   "source": [
    "# Crea una matriz de números aleatorios 10x10\n",
    "matriz_13 = np.random.randint(100, size =(10, 10))\n",
    "print(\"Matriz:\\n\", matriz_13)\n",
    "\n",
    "# Encuentra los valores mínimo y máximo\n",
    "minimo = np.min(matriz_13)\n",
    "maximo = np.max(matriz_13)\n",
    "\n",
    "print(\"\\nValor mínimo:\", minimo)\n",
    "print(\"Valor máximo:\", maximo)\n"
   ]
  },
  {
   "cell_type": "markdown",
   "metadata": {},
   "source": [
    "## Ejercicio 14\n",
    "Crea un vector aleatorio de tamaño 30 y calcula su media"
   ]
  },
  {
   "cell_type": "code",
   "execution_count": 101,
   "metadata": {},
   "outputs": [
    {
     "name": "stdout",
     "output_type": "stream",
     "text": [
      "Vector aleatorio:\n",
      " [72 55 48 45 49 72 14  9 46 89 42 62 75 84 38 54 80  0 96 46 61 23 45 16\n",
      " 39  2 76 40 67 37]\n",
      "\n",
      "Valor mínimo: 0\n",
      "Valor máximo: 96\n",
      "Media del vector: 49.4\n",
      "---------\n",
      "[0.50317952 0.98152779 0.68481509 0.73036834 0.62203903 0.63564114\n",
      " 0.51975316 0.32540296 0.26435539 0.69240628 0.24175737 0.39137843\n",
      " 0.29787165 0.37429519 0.57093019 0.95427803 0.9776985  0.78414912\n",
      " 0.55148015 0.17106576 0.34938256 0.3747591  0.01516567 0.34076378\n",
      " 0.13776334 0.98645424 0.19937302 0.72493939 0.42483374 0.16661305]\n",
      "---------\n",
      "[0.90717615 0.00153441 0.94153175 0.24841172 0.17167149 0.95913776\n",
      " 0.38445174 0.84870663 0.79648135 0.88550468 0.76404377 0.32697497\n",
      " 0.01572988 0.2234747  0.27057126 0.60152494 0.05497489 0.87194838\n",
      " 0.37186203 0.2458387  0.92835822 0.63873422 0.07717602 0.97052983\n",
      " 0.36672949 0.73983238 0.60420775 0.89908386 0.12096925 0.60265232]\n"
     ]
    }
   ],
   "source": [
    "vector_aleatorio = np.random.randint(100, size=30)\n",
    "print(\"Vector aleatorio:\\n\", vector_aleatorio)\n",
    "\n",
    "print(\"\\nValor mínimo:\", np.min(vector_aleatorio))\n",
    "print(\"Valor máximo:\", np.max(vector_aleatorio))\n",
    "\n",
    "media = np.mean(vector_aleatorio)\n",
    "print(\"Media del vector:\", media)\n",
    "\n",
    "print(\"---------\")\n",
    "vector_aleatorio_2 = np.random.random(30)\n",
    "print(vector_aleatorio_2 )\n",
    "\n",
    "print(\"---------\")\n",
    "vector_aleatorio_3 = np.random.rand(30)\n",
    "print(vector_aleatorio_3 )\n"
   ]
  },
  {
   "cell_type": "markdown",
   "metadata": {},
   "source": [
    "## Ejercicio 15\n",
    "Crea un array cuadrado de 2D, con las dimensiones que quieras, pero que todo el borde esté compuesto por 1s, y el interior por 0s"
   ]
  },
  {
   "cell_type": "code",
   "execution_count": 102,
   "metadata": {},
   "outputs": [
    {
     "name": "stdout",
     "output_type": "stream",
     "text": [
      "[[1 1 1 1 1 1 1 1 1 1]\n",
      " [1 0 0 0 0 0 0 0 0 1]\n",
      " [1 0 0 0 0 0 0 0 0 1]\n",
      " [1 0 0 0 0 0 0 0 0 1]\n",
      " [1 0 0 0 0 0 0 0 0 1]\n",
      " [1 0 0 0 0 0 0 0 0 1]\n",
      " [1 0 0 0 0 0 0 0 0 1]\n",
      " [1 0 0 0 0 0 0 0 0 1]\n",
      " [1 0 0 0 0 0 0 0 0 1]\n",
      " [1 1 1 1 1 1 1 1 1 1]]\n"
     ]
    }
   ],
   "source": [
    "cuadrado = np.zeros((10, 10), dtype=int)\n",
    "\n",
    "# primera fila\n",
    "cuadrado[0, :] = 1\n",
    "# última fila\n",
    "cuadrado[-1, :] = 1\n",
    "# primera columna\n",
    "cuadrado[:, 0] = 1\n",
    "# última columna\n",
    "cuadrado[:, -1] = 1\n",
    "print(cuadrado)\n"
   ]
  },
  {
   "cell_type": "markdown",
   "metadata": {},
   "source": [
    "## Ejercicio 16\n",
    "Crea una matriz de 8x8, y rellénala con 0s y 1s. Tienes que replicar:\n",
    "```Python\n",
    "[[0 1 0 1 0 1 0 1]\n",
    " [1 0 1 0 1 0 1 0]\n",
    " [0 1 0 1 0 1 0 1]\n",
    " [1 0 1 0 1 0 1 0]\n",
    " [0 1 0 1 0 1 0 1]\n",
    " [1 0 1 0 1 0 1 0]\n",
    " [0 1 0 1 0 1 0 1]\n",
    " [1 0 1 0 1 0 1 0]]\n",
    "```"
   ]
  },
  {
   "cell_type": "code",
   "execution_count": 104,
   "metadata": {},
   "outputs": [
    {
     "name": "stdout",
     "output_type": "stream",
     "text": [
      "[[0 1 0 1 0 1 0 1]\n",
      " [1 0 1 0 1 0 1 0]\n",
      " [0 1 0 1 0 1 0 1]\n",
      " [1 0 1 0 1 0 1 0]\n",
      " [0 1 0 1 0 1 0 1]\n",
      " [1 0 1 0 1 0 1 0]\n",
      " [0 1 0 1 0 1 0 1]\n",
      " [1 0 1 0 1 0 1 0]]\n"
     ]
    }
   ],
   "source": [
    "matriz_16 = np.zeros((8, 8), dtype=int)\n",
    "\n",
    "# ponemos a 1 los 0's alternando en cada columna / fila\n",
    "matriz_16[::2, 1::2] = 1 # las filas impares\n",
    "matriz_16[1::2, ::2] = 1 # las filas pares\n",
    "\n",
    "\n",
    "print(matriz_16)"
   ]
  },
  {
   "cell_type": "markdown",
   "metadata": {},
   "source": [
    "## Ejercicio 17\n",
    "Replica la matriz del apartado anterior, pero en este caso usando [la función `tile`](https://numpy.org/doc/stable/reference/generated/numpy.tile.html)"
   ]
  },
  {
   "cell_type": "code",
   "execution_count": 117,
   "metadata": {},
   "outputs": [
    {
     "name": "stdout",
     "output_type": "stream",
     "text": [
      "[['0' '1' '0' '1' '0' '1' '0' '1']\n",
      " ['1' '0' '1' '0' '1' '0' '1' '0']\n",
      " ['0' '1' '0' '1' '0' '1' '0' '1']\n",
      " ['1' '0' '1' '0' '1' '0' '1' '0']\n",
      " ['0' '1' '0' '1' '0' '1' '0' '1']\n",
      " ['1' '0' '1' '0' '1' '0' '1' '0']\n",
      " ['0' '1' '0' '1' '0' '1' '0' '1']\n",
      " ['1' '0' '1' '0' '1' '0' '1' '0']]\n",
      "\n",
      "----------\n",
      "\n",
      "[['◤' '◥' '◤' '◥' '◤' '◥' '◤' '◥']\n",
      " ['◣' '◢' '◣' '◢' '◣' '◢' '◣' '◢']\n",
      " ['◤' '◥' '◤' '◥' '◤' '◥' '◤' '◥']\n",
      " ['◣' '◢' '◣' '◢' '◣' '◢' '◣' '◢']\n",
      " ['◤' '◥' '◤' '◥' '◤' '◥' '◤' '◥']\n",
      " ['◣' '◢' '◣' '◢' '◣' '◢' '◣' '◢']\n",
      " ['◤' '◥' '◤' '◥' '◤' '◥' '◤' '◥']\n",
      " ['◣' '◢' '◣' '◢' '◣' '◢' '◣' '◢']]\n"
     ]
    }
   ],
   "source": [
    "# creamos el patrón a repetir\n",
    "matriz_17 = np.array([['0','1'],\n",
    "                   ['1', '0']])\n",
    "matriz_17 = np.tile(matriz_17, (4,4))\n",
    "print(matriz_17)\n",
    "\n",
    "print(\"\\n----------\\n\")\n",
    "# creamos el patrón a repetir\n",
    "matriz_17 = np.array([['◤','◥'],\n",
    "                   ['◣', '◢']])\n",
    "matriz_17 = np.tile(matriz_17, (4,4))\n",
    "print(matriz_17)"
   ]
  },
  {
   "cell_type": "markdown",
   "metadata": {},
   "source": [
    "## Ejercicio 18\n",
    "Crea una matriz aleatoria de 5x5 y normaliza sus valores. Para normalizar tienes que restar sus valores por la media(`np.mean`) y dividir el resultado por la desviación estándar(`np.std`)."
   ]
  },
  {
   "cell_type": "code",
   "execution_count": 89,
   "metadata": {},
   "outputs": [
    {
     "name": "stdout",
     "output_type": "stream",
     "text": [
      "Matriz original:\n",
      " [[0.98578598 0.69767626 0.98667558 0.41480538 0.53241181]\n",
      " [0.13664493 0.56155452 0.43550103 0.68267965 0.02348519]\n",
      " [0.98633784 0.54895021 0.57622906 0.99744342 0.77120551]\n",
      " [0.5035747  0.65086404 0.30436797 0.38882144 0.59320929]\n",
      " [0.32302778 0.0372207  0.67469001 0.81118412 0.16181825]]\n",
      "\n",
      "Matriz normalizada:\n",
      " [[ 1.53966817  0.5183623   1.54282167 -0.48437262 -0.06747544]\n",
      " [-1.47040981  0.03583112 -0.41100965  0.46520156 -1.87154415]\n",
      " [ 1.54162441 -0.00884929  0.08785015  1.58099203  0.77901249]\n",
      " [-0.16969866  0.35241999 -0.87585672 -0.57648181  0.14804253]\n",
      " [-0.8097105  -1.8228538   0.4368795   0.92073068 -1.38117415]]\n"
     ]
    }
   ],
   "source": [
    "# Crear matriz aleatoria 5x5\n",
    "matriz = np.random.rand(5, 5)\n",
    "print(\"Matriz original:\\n\", matriz)\n",
    "\n",
    "# Calcular media y desviación estándar\n",
    "media = np.mean(matriz)\n",
    "estandar = np.std(matriz)\n",
    "\n",
    "# Normalizar\n",
    "matriz_normalizada = (matriz - media) / estandar\n",
    "print(\"\\nMatriz normalizada:\\n\", matriz_normalizada)\n"
   ]
  },
  {
   "cell_type": "markdown",
   "metadata": {},
   "source": [
    "## Ejercicio 19\n",
    "1. Crea una secuencia de números que vayan del 0 al 10.\n",
    "2. Crea un nuevo array, que parta del anterior, pero sustituya por el valor -1, todos los elementos cuyo valor se encuentre entre el 3 y el 8.\n",
    "3. Crea un nuevo array que niegue todos los elementos entre el 3 y el 8"
   ]
  },
  {
   "cell_type": "code",
   "execution_count": 131,
   "metadata": {},
   "outputs": [
    {
     "name": "stdout",
     "output_type": "stream",
     "text": [
      "Array inicial: [ 0  1  2  3  4  5  6  7  8  9 10]\n",
      "[ 0  1  2 -1 -1 -1 -1 -1 -1  9 10]\n",
      "[ 0  1  2 -3 -4 -5 -6 -7 -8  9 10]\n"
     ]
    }
   ],
   "source": [
    "#1. Crea una secuencia de números que vayan del 0 al 10.\n",
    "x = np.arange(11)\n",
    "print(\"Array inicial:\", x)\n",
    "\n",
    "# 2. Crea un nuevo array, que parta del anterior, pero sustituya por el valor -1,\n",
    "# todos los elementos cuyo valor se encuentre entre el 3 y el 8.\n",
    "y = x.copy()\n",
    "y[(y >= 3) & (y <= 8)] = -1\n",
    "print(y)\n",
    "\n",
    "# 3. Crea un nuevo array que niegue todos los elementos entre el 3 y el 8\n",
    "z = x.copy()\n",
    "z[(z >= 3) & (z <= 8)] = x[(x >= 3) & (x <= 8)]* -1\n",
    "z[(z >= 3) & (z <= 8)] *= -1\n",
    "print(z)"
   ]
  },
  {
   "cell_type": "code",
   "execution_count": null,
   "metadata": {},
   "outputs": [],
   "source": []
  }
 ],
 "metadata": {
  "kernelspec": {
   "display_name": "Python 3",
   "language": "python",
   "name": "python3"
  },
  "language_info": {
   "codemirror_mode": {
    "name": "ipython",
    "version": 3
   },
   "file_extension": ".py",
   "mimetype": "text/x-python",
   "name": "python",
   "nbconvert_exporter": "python",
   "pygments_lexer": "ipython3",
   "version": "3.11.0"
  }
 },
 "nbformat": 4,
 "nbformat_minor": 4
}
