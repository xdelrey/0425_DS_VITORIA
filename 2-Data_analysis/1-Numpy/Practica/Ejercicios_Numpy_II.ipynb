{
 "cells": [
  {
   "cell_type": "markdown",
   "metadata": {},
   "source": [
    "![imagen](./img/ejercicios.png)"
   ]
  },
  {
   "cell_type": "code",
   "execution_count": 2,
   "metadata": {},
   "outputs": [
    {
     "data": {
      "text/plain": [
       "'2.2.5'"
      ]
     },
     "execution_count": 2,
     "metadata": {},
     "output_type": "execute_result"
    }
   ],
   "source": [
    "import numpy as np\n",
    "np.__version__"
   ]
  },
  {
   "cell_type": "markdown",
   "metadata": {},
   "source": [
    "## Ejercicio 1\n",
    "1. Crea un array que vaya del 0 al 9 y que se llame `my_array`\n",
    "2. Imprime por pantalla los elementos [9 7 5 3 1] en ese orden."
   ]
  },
  {
   "cell_type": "code",
   "execution_count": 6,
   "metadata": {},
   "outputs": [
    {
     "name": "stdout",
     "output_type": "stream",
     "text": [
      "[0 1 2 3 4 5 6 7 8 9]\n",
      "[9 7 5 3 1]\n"
     ]
    }
   ],
   "source": [
    "my_array = np.arange(0,10)\n",
    "print(my_array)\n",
    "\n",
    "print(my_array[-1: 0: -2])"
   ]
  },
  {
   "cell_type": "markdown",
   "metadata": {},
   "source": [
    "## Ejercicio 2\n",
    "Imprime por pantalla la secuencia [8 7] del array `my_array`"
   ]
  },
  {
   "cell_type": "code",
   "execution_count": 8,
   "metadata": {},
   "outputs": [
    {
     "name": "stdout",
     "output_type": "stream",
     "text": [
      "[8 7]\n"
     ]
    }
   ],
   "source": [
    "print(my_array[-2: -4: -1])"
   ]
  },
  {
   "cell_type": "markdown",
   "metadata": {},
   "source": [
    "## Ejercicio 3\n",
    "Imprime por pantalla la secuencia [2 1 0] de `my_array`"
   ]
  },
  {
   "cell_type": "code",
   "execution_count": 10,
   "metadata": {},
   "outputs": [
    {
     "name": "stdout",
     "output_type": "stream",
     "text": [
      "[2 1 0]\n"
     ]
    }
   ],
   "source": [
    "print(my_array[2:: -1])"
   ]
  },
  {
   "cell_type": "markdown",
   "metadata": {},
   "source": [
    "## Ejercicio 4\n",
    "1. Crea una matriz de 4x5, con una secuencia del 1 al 20\n",
    "2. Invierte totalmente la matriz. Tanto las filas, como las columnas"
   ]
  },
  {
   "cell_type": "code",
   "execution_count": null,
   "metadata": {},
   "outputs": [
    {
     "name": "stdout",
     "output_type": "stream",
     "text": [
      "matriz de 4 x 5:\n",
      " [[ 1  2  3  4  5]\n",
      " [ 6  7  8  9 10]\n",
      " [11 12 13 14 15]\n",
      " [16 17 18 19 20]]\n",
      "-------------\n",
      "matriz de 4 x 5 invertida:\n",
      " [[20 19 18 17 16]\n",
      " [15 14 13 12 11]\n",
      " [10  9  8  7  6]\n",
      " [ 5  4  3  2  1]]\n"
     ]
    },
    {
     "data": {
      "text/plain": [
       "array([[ 1,  2,  3,  4,  5],\n",
       "       [ 6,  7,  8,  9, 10],\n",
       "       [11, 12, 13, 14, 15],\n",
       "       [16, 17, 18, 19, 20]])"
      ]
     },
     "execution_count": 21,
     "metadata": {},
     "output_type": "execute_result"
    }
   ],
   "source": [
    "# 1. Crea una matriz de 4x5, con una secuencia del 1 al 20\n",
    "matriz_4 = np.arange(1, 21)\n",
    "matriz_4 = matriz_4.reshape(4, 5)\n",
    "print('matriz de 4 x 5:\\n', matriz_4)\n",
    "\n",
    "print(\"-------------\")\n",
    "# 2. Invierte totalmente la matriz. Tanto las filas, como las columnas\n",
    "print('matriz de 4 x 5 invertida:\\n', matriz_4[::-1, ::-1])"
   ]
  },
  {
   "cell_type": "markdown",
   "metadata": {},
   "source": [
    "## Ejercicio 5\n",
    "\n",
    "Obtén el siguiente array, partiendo de la matriz del ejercicio 4\n",
    "```Python\n",
    "array([[1, 2],\n",
    "       [6, 7]])\n",
    "```"
   ]
  },
  {
   "cell_type": "code",
   "execution_count": 25,
   "metadata": {},
   "outputs": [
    {
     "name": "stdout",
     "output_type": "stream",
     "text": [
      "matriz original\n",
      " [[ 1  2  3  4  5]\n",
      " [ 6  7  8  9 10]\n",
      " [11 12 13 14 15]\n",
      " [16 17 18 19 20]]\n",
      "matriz modificada\n",
      " [[1 2]\n",
      " [6 7]]\n"
     ]
    }
   ],
   "source": [
    "print('matriz original\\n', matriz_4)\n",
    "matriz_5 = matriz_4[:2, :2]\n",
    "print('matriz modificada\\n', matriz_5)"
   ]
  },
  {
   "cell_type": "markdown",
   "metadata": {},
   "source": [
    "## Ejercicio 6\n",
    "Obtén el siguiente array, partiendo de la matriz del ejercicio 4\n",
    "```Python\n",
    "array([[ 1,  3,  5],\n",
    "       [11, 13, 15]])\n",
    "```"
   ]
  },
  {
   "cell_type": "code",
   "execution_count": 27,
   "metadata": {},
   "outputs": [
    {
     "name": "stdout",
     "output_type": "stream",
     "text": [
      "matriz original\n",
      " [[ 1  2  3  4  5]\n",
      " [ 6  7  8  9 10]\n",
      " [11 12 13 14 15]\n",
      " [16 17 18 19 20]]\n",
      "matriz modificada\n",
      " [[ 1  3  5]\n",
      " [11 13 15]]\n"
     ]
    }
   ],
   "source": [
    "print('matriz original\\n', matriz_4)\n",
    "matriz_6 = matriz_4[::2, ::2]\n",
    "print('matriz modificada\\n', matriz_6)"
   ]
  },
  {
   "cell_type": "markdown",
   "metadata": {},
   "source": [
    "## Ejercicio 7\n",
    "Obtén el siguiente array, partiendo de la matriz del ejercicio 4\n",
    "```Python\n",
    "array([[ 5,  4,  3,  2,  1],\n",
    "       [10,  9,  8,  7,  6],\n",
    "       [15, 14, 13, 12, 11]])\n",
    "```"
   ]
  },
  {
   "cell_type": "code",
   "execution_count": 38,
   "metadata": {},
   "outputs": [
    {
     "name": "stdout",
     "output_type": "stream",
     "text": [
      "matriz original\n",
      " [[ 1  2  3  4  5]\n",
      " [ 6  7  8  9 10]\n",
      " [11 12 13 14 15]\n",
      " [16 17 18 19 20]]\n",
      "matriz modificada\n",
      " [[ 5  4  3  2  1]\n",
      " [10  9  8  7  6]\n",
      " [15 14 13 12 11]]\n"
     ]
    }
   ],
   "source": [
    "print('matriz original\\n', matriz_4)\n",
    "matriz_5 = matriz_4[:3:, ::-1]\n",
    "print('matriz modificada\\n', matriz_5)"
   ]
  },
  {
   "cell_type": "markdown",
   "metadata": {},
   "source": [
    "## Ejercicio 8\n",
    "Dado el siguiente array:\n",
    "\n",
    "```Python\n",
    "x = np.array([\"Loro\", \"Perro\", \"Gato\", \"Loro\", \"Perro\"])\n",
    "```\n",
    "\n",
    "Filtra el array para quedarte únicamente con los loros.\n",
    "\n",
    "Resuélvelo de dos maneras diferentes"
   ]
  },
  {
   "cell_type": "code",
   "execution_count": 48,
   "metadata": {},
   "outputs": [
    {
     "name": "stdout",
     "output_type": "stream",
     "text": [
      "Método 1: con una máscara que permita filtrar sólo los loros\n",
      "['Loro' 'Loro']\n",
      "-----------\n",
      "Método 2: filtrando directamente en una línea\n",
      "['Loro' 'Loro']\n"
     ]
    }
   ],
   "source": [
    "x = np.array([\"Loro\", \"Perro\", \"Gato\", \"Loro\", \"Perro\"])\n",
    "\n",
    "print(\"Método 1: con una máscara que permita filtrar sólo los loros\")\n",
    "mascara = np.array(x == \"Loro\")\n",
    "solo_loros_1 = x[mascara]\n",
    "print(solo_loros_1)\n",
    "\n",
    "print(\"-----------\")\n",
    "\n",
    "print(\"Método 2: filtrando directamente en una línea\")\n",
    "solo_loros_2 = x[x == \"Loro\"]\n",
    "print(solo_loros_2)"
   ]
  },
  {
   "cell_type": "markdown",
   "metadata": {},
   "source": [
    "## Ejercicio 9\n",
    "Crea una secuencia de 20 elementos y transfórmala en un array compuesto por 2 matrices de 5x2"
   ]
  },
  {
   "cell_type": "code",
   "execution_count": 53,
   "metadata": {},
   "outputs": [
    {
     "name": "stdout",
     "output_type": "stream",
     "text": [
      "matriz de 20 elementos:\n",
      " [ 0  1  2  3  4  5  6  7  8  9 10 11 12 13 14 15 16 17 18 19]\n",
      "array de 2 matrices de 5x2:\n",
      " [[[ 0  1]\n",
      "  [ 2  3]\n",
      "  [ 4  5]\n",
      "  [ 6  7]\n",
      "  [ 8  9]]\n",
      "\n",
      " [[10 11]\n",
      "  [12 13]\n",
      "  [14 15]\n",
      "  [16 17]\n",
      "  [18 19]]]\n"
     ]
    }
   ],
   "source": [
    "# Crea una secuencia de 20 elementos\n",
    "matriz_9 = np.arange(20)\n",
    "print('matriz de 20 elementos:\\n', matriz_9)\n",
    "\n",
    "matriz_9 = matriz_9.reshape(2, 5, 2)\n",
    "print('array de 2 matrices de 5x2:\\n', matriz_9)"
   ]
  },
  {
   "cell_type": "markdown",
   "metadata": {},
   "source": [
    "## Ejercicio 10\n",
    "\n",
    "Crea un array de 10 0s. ¿Cuánto ocupa en memoria?\n",
    "\n",
    "Sustituye el 4to elemento por 1, e imprime el array por pantalla"
   ]
  },
  {
   "cell_type": "code",
   "execution_count": 61,
   "metadata": {},
   "outputs": [
    {
     "name": "stdout",
     "output_type": "stream",
     "text": [
      "Array inicial: [0 0 0 0 0 0 0 0 0 0]\n",
      "Ocupa 80 bytes en memoria.\n",
      "\n",
      "Array modificado: [0 0 0 1 0 0 0 0 0 0]\n",
      "Sigue ocupando 80 bytes en memoria.\n"
     ]
    }
   ],
   "source": [
    "x = np.zeros(10, dtype=int)\n",
    "print(\"Array inicial:\", x)\n",
    "print(\"Ocupa\", x.nbytes, \"bytes en memoria.\")\n",
    "\n",
    "x[3]= 1\n",
    "print(\"\\nArray modificado:\", x)\n",
    "print(\"Sigue ocupando\", x.nbytes, \"bytes en memoria.\")"
   ]
  },
  {
   "cell_type": "markdown",
   "metadata": {},
   "source": [
    "## Ejercicio 11\n",
    "\n",
    "Crea un vector que vaya del 10 al 49\n",
    "\n",
    "Inviértelo"
   ]
  },
  {
   "cell_type": "code",
   "execution_count": 65,
   "metadata": {},
   "outputs": [
    {
     "name": "stdout",
     "output_type": "stream",
     "text": [
      "Vector original:\n",
      " [10 11 12 13 14 15 16 17 18 19 20 21 22 23 24 25 26 27 28 29 30 31 32 33\n",
      " 34 35 36 37 38 39 40 41 42 43 44 45 46 47 48 49]\n",
      "Vector invertido:\n",
      " [49 48 47 46 45 44 43 42 41 40 39 38 37 36 35 34 33 32 31 30 29 28 27 26\n",
      " 25 24 23 22 21 20 19 18 17 16 15 14 13 12 11 10]\n"
     ]
    }
   ],
   "source": [
    "vector = np.arange(10, 50)\n",
    "print(\"Vector original:\\n\", vector)\n",
    "\n",
    "vector_invertido = vector[::-1]\n",
    "print(\"Vector invertido:\\n\", vector_invertido)\n"
   ]
  },
  {
   "cell_type": "markdown",
   "metadata": {},
   "source": [
    "## Ejercicio 12\n",
    "Encuentra los índices de los valores que no sean 0 del siguiente vector [1,2,0,0,4,0]. El output sería [0, 1, 4]. [Encuentra el método apropiado en la documentación.](https://numpy.org/doc/) Encapsúlalo en una función, con un argumento de entrada de un vector."
   ]
  },
  {
   "cell_type": "code",
   "execution_count": 71,
   "metadata": {},
   "outputs": [],
   "source": [
    "def indices(vector):\n",
    "    return np.nonzero(vector)[0]"
   ]
  },
  {
   "cell_type": "code",
   "execution_count": 73,
   "metadata": {},
   "outputs": [
    {
     "name": "stdout",
     "output_type": "stream",
     "text": [
      "[0 1 4]\n"
     ]
    }
   ],
   "source": [
    "vector_12 = np.array([1,2,0,0,4,0])\n",
    "print(indices(vector_12))"
   ]
  },
  {
   "attachments": {},
   "cell_type": "markdown",
   "metadata": {},
   "source": [
    "## Ejercicio 13\n",
    "Crea una matriz de números aleatorios 10x10. Encuentra los valores mínimo y máximo."
   ]
  },
  {
   "cell_type": "code",
   "execution_count": 94,
   "metadata": {},
   "outputs": [
    {
     "name": "stdout",
     "output_type": "stream",
     "text": [
      "Matriz:\n",
      " [[6.41775967e-01 6.99814117e-01 2.64021389e-01 5.84830847e-02\n",
      "  2.62255416e-01 2.07866454e-01 7.97636980e-01 2.69300698e-01\n",
      "  2.27767616e-01 9.04838725e-01]\n",
      " [7.82601047e-01 1.91738578e-01 8.03802305e-01 8.47054457e-01\n",
      "  3.54044934e-01 3.15875599e-01 2.00063271e-01 5.88005923e-01\n",
      "  4.92777011e-01 8.55431009e-01]\n",
      " [8.04966838e-01 9.39982124e-01 7.19287530e-01 7.23015922e-01\n",
      "  3.20109096e-02 5.55349249e-01 3.89095007e-01 7.89503416e-02\n",
      "  5.01150431e-01 3.86369674e-01]\n",
      " [4.61813075e-01 5.65570163e-01 2.70986233e-01 7.09946935e-01\n",
      "  3.87252710e-01 2.97706193e-01 6.56933831e-01 5.48654378e-01\n",
      "  4.09321577e-01 1.19931178e-02]\n",
      " [7.76606857e-01 7.46526453e-01 1.95239007e-01 8.69352072e-01\n",
      "  2.90795149e-01 3.43342093e-01 2.74344591e-01 8.01737656e-01\n",
      "  5.77779566e-01 9.56465107e-01]\n",
      " [9.86652745e-01 4.12918097e-01 7.23219224e-01 7.60847941e-01\n",
      "  8.43824274e-01 2.51231353e-02 3.08657667e-01 2.47446588e-01\n",
      "  4.87757624e-02 6.70100431e-02]\n",
      " [6.90613907e-01 4.26900437e-01 8.72052573e-01 1.18564916e-01\n",
      "  1.68040502e-01 6.43985587e-01 4.26812970e-01 5.52939821e-01\n",
      "  9.67970631e-01 9.51331173e-01]\n",
      " [4.30798681e-01 5.25455738e-01 7.85489746e-04 7.89383501e-01\n",
      "  3.23305785e-01 1.22511808e-01 2.74836521e-01 1.77368919e-01\n",
      "  9.94593073e-02 1.47365722e-01]\n",
      " [5.25083863e-01 7.80545272e-02 1.92901058e-01 6.28843207e-01\n",
      "  3.85524522e-01 8.29142378e-01 3.13867911e-01 6.02063385e-03\n",
      "  4.63165123e-01 4.41095993e-01]\n",
      " [1.63327521e-01 4.87278315e-01 2.43869896e-01 4.57752110e-02\n",
      "  8.89071760e-01 6.52557009e-01 4.09143749e-01 2.25617393e-01\n",
      "  9.75528318e-01 2.34007084e-02]]\n",
      "\n",
      "Valor mínimo: 0.000785489746412793\n",
      "Valor máximo: 0.9866527452812424\n"
     ]
    }
   ],
   "source": [
    "# Crea una matriz de números aleatorios 10x10\n",
    "matriz_13 = np.random.rand(10, 10)\n",
    "print(\"Matriz:\\n\", matriz_13)\n",
    "\n",
    "# Encuentra los valores mínimo y máximo\n",
    "minimo = np.min(matriz_13)\n",
    "maximo = np.max(matriz_13)\n",
    "\n",
    "print(\"\\nValor mínimo:\", minimo)\n",
    "print(\"Valor máximo:\", maximo)\n"
   ]
  },
  {
   "cell_type": "markdown",
   "metadata": {},
   "source": [
    "## Ejercicio 14\n",
    "Crea un vector aleatorio de tamaño 30 y calcula su media"
   ]
  },
  {
   "cell_type": "code",
   "execution_count": 74,
   "metadata": {},
   "outputs": [
    {
     "name": "stdout",
     "output_type": "stream",
     "text": [
      "Vector aleatorio: [0.21839617 0.08604605 0.43885073 0.25012022 0.2495894  0.8335099\n",
      " 0.4390999  0.97156815 0.49883795 0.01268824 0.14121408 0.92633284\n",
      " 0.39165428 0.86415193 0.66187743 0.01091753 0.64448101 0.94729239\n",
      " 0.49532163 0.20979789 0.35292712 0.79568344 0.32433876 0.00650007\n",
      " 0.90657297 0.43257513 0.09977642 0.0281117  0.97494263 0.23535717]\n",
      "Media del vector: 0.448284437614845\n"
     ]
    }
   ],
   "source": [
    "vector_aleatorio = np.random.rand(30)\n",
    "print(\"Vector aleatorio:\", vector_aleatorio)\n",
    "\n",
    "media = np.mean(vector_aleatorio)\n",
    "print(\"Media del vector:\", media)\n",
    "\n"
   ]
  },
  {
   "cell_type": "markdown",
   "metadata": {},
   "source": [
    "## Ejercicio 15\n",
    "Crea un array cuadrado de 2D, con las dimensiones que quieras, pero que todo el borde esté compuesto por 1s, y el interior por 0s"
   ]
  },
  {
   "cell_type": "code",
   "execution_count": 87,
   "metadata": {},
   "outputs": [
    {
     "name": "stdout",
     "output_type": "stream",
     "text": [
      "[[1 1 1 1 1]\n",
      " [1 0 0 0 1]\n",
      " [1 0 0 0 1]\n",
      " [1 0 0 0 1]\n",
      " [1 1 1 1 1]]\n"
     ]
    }
   ],
   "source": [
    "cuadrado = np.zeros((5, 5), dtype=int)\n",
    "\n",
    "# primera fila\n",
    "cuadrado[0, :] = 1\n",
    "\n",
    "# última fila\n",
    "cuadrado[-1, :] = 1\n",
    "\n",
    "# primera columna\n",
    "cuadrado[:, 0] = 1\n",
    "\n",
    "# última columna\n",
    "cuadrado[:, -1] = 1\n",
    "\n",
    "print(cuadrado)\n"
   ]
  },
  {
   "cell_type": "markdown",
   "metadata": {},
   "source": [
    "## Ejercicio 16\n",
    "Crea una matriz de 8x8, y rellénala con 0s y 1s. Tienes que replicar:\n",
    "```Python\n",
    "[[0 1 0 1 0 1 0 1]\n",
    " [1 0 1 0 1 0 1 0]\n",
    " [0 1 0 1 0 1 0 1]\n",
    " [1 0 1 0 1 0 1 0]\n",
    " [0 1 0 1 0 1 0 1]\n",
    " [1 0 1 0 1 0 1 0]\n",
    " [0 1 0 1 0 1 0 1]\n",
    " [1 0 1 0 1 0 1 0]]\n",
    "```"
   ]
  },
  {
   "cell_type": "code",
   "execution_count": 86,
   "metadata": {},
   "outputs": [
    {
     "name": "stdout",
     "output_type": "stream",
     "text": [
      "[[0 1 0 1 0 1 0 1]\n",
      " [1 0 1 0 1 0 1 0]\n",
      " [0 1 0 1 0 1 0 1]\n",
      " [1 0 1 0 1 0 1 0]\n",
      " [0 1 0 1 0 1 0 1]\n",
      " [1 0 1 0 1 0 1 0]\n",
      " [0 1 0 1 0 1 0 1]\n",
      " [1 0 1 0 1 0 1 0]]\n"
     ]
    }
   ],
   "source": [
    "matriz_16 = np.zeros((8, 8), dtype=int)\n",
    "\n",
    "# ponemos a 1 los 0's alternando en cada columna / fila\n",
    "matriz_16[1::2, ::2] = 1\n",
    "matriz_16[::2, 1::2] = 1\n",
    "\n",
    "print(matriz_16)"
   ]
  },
  {
   "cell_type": "markdown",
   "metadata": {},
   "source": [
    "## Ejercicio 17\n",
    "Replica la matriz del apartado anterior, pero en este caso usando [la función `tile`](https://numpy.org/doc/stable/reference/generated/numpy.tile.html)"
   ]
  },
  {
   "cell_type": "code",
   "execution_count": 85,
   "metadata": {},
   "outputs": [
    {
     "name": "stdout",
     "output_type": "stream",
     "text": [
      "[[0 1 0 1 0 1 0 1]\n",
      " [1 0 1 0 1 0 1 0]\n",
      " [0 1 0 1 0 1 0 1]\n",
      " [1 0 1 0 1 0 1 0]\n",
      " [0 1 0 1 0 1 0 1]\n",
      " [1 0 1 0 1 0 1 0]\n",
      " [0 1 0 1 0 1 0 1]\n",
      " [1 0 1 0 1 0 1 0]]\n"
     ]
    }
   ],
   "source": [
    "# creamos el patrón a repetir\n",
    "matriz_17 = np.array([[0, 1],\n",
    "                   [1, 0]])\n",
    "matriz_17 = np.tile(matriz_17, (4,4))\n",
    "print(matriz_17)"
   ]
  },
  {
   "cell_type": "markdown",
   "metadata": {},
   "source": [
    "## Ejercicio 18\n",
    "Crea una matriz aleatoria de 5x5 y normaliza sus valores. Para normalizar tienes que restar sus valores por la media(`np.mean`) y dividir el resultado por la desviación estándar(`np.std`)."
   ]
  },
  {
   "cell_type": "code",
   "execution_count": 89,
   "metadata": {},
   "outputs": [
    {
     "name": "stdout",
     "output_type": "stream",
     "text": [
      "Matriz original:\n",
      " [[0.98578598 0.69767626 0.98667558 0.41480538 0.53241181]\n",
      " [0.13664493 0.56155452 0.43550103 0.68267965 0.02348519]\n",
      " [0.98633784 0.54895021 0.57622906 0.99744342 0.77120551]\n",
      " [0.5035747  0.65086404 0.30436797 0.38882144 0.59320929]\n",
      " [0.32302778 0.0372207  0.67469001 0.81118412 0.16181825]]\n",
      "\n",
      "Matriz normalizada:\n",
      " [[ 1.53966817  0.5183623   1.54282167 -0.48437262 -0.06747544]\n",
      " [-1.47040981  0.03583112 -0.41100965  0.46520156 -1.87154415]\n",
      " [ 1.54162441 -0.00884929  0.08785015  1.58099203  0.77901249]\n",
      " [-0.16969866  0.35241999 -0.87585672 -0.57648181  0.14804253]\n",
      " [-0.8097105  -1.8228538   0.4368795   0.92073068 -1.38117415]]\n"
     ]
    }
   ],
   "source": [
    "# Crear matriz aleatoria 5x5\n",
    "matriz = np.random.rand(5, 5)\n",
    "print(\"Matriz original:\\n\", matriz)\n",
    "\n",
    "# Calcular media y desviación estándar\n",
    "media = np.mean(matriz)\n",
    "estandar = np.std(matriz)\n",
    "\n",
    "# Normalizar\n",
    "matriz_normalizada = (matriz - media) / estandar\n",
    "print(\"\\nMatriz normalizada:\\n\", matriz_normalizada)\n"
   ]
  },
  {
   "cell_type": "markdown",
   "metadata": {},
   "source": [
    "## Ejercicio 19\n",
    "1. Crea una secuencia de números que vayan del 0 al 10.\n",
    "2. Crea un nuevo array, que parta del anterior, pero sustituya por el valor -1, todos los elementos cuyo valor se encuentre entre el 3 y el 8.\n",
    "3. Crea un nuevo array que niegue todos los elementos entre el 3 y el 8"
   ]
  },
  {
   "cell_type": "code",
   "execution_count": 99,
   "metadata": {},
   "outputs": [
    {
     "name": "stdout",
     "output_type": "stream",
     "text": [
      "Array inicial: [ 0  1  2  3  4  5  6  7  8  9 10]\n",
      "[ 0  1  2 -1 -1 -1 -1 -1 -1  9 10]\n"
     ]
    }
   ],
   "source": [
    "#1. Crea una secuencia de números que vayan del 0 al 10.\n",
    "x = np.arange(0, 11)\n",
    "print(\"Array inicial:\", x)\n",
    "\n",
    "# 2. Crea un nuevo array, que parta del anterior, pero sustituya por el valor -1,\n",
    "# todos los elementos cuyo valor se encuentre entre el 3 y el 8.\n",
    "x_copia = x.copy()\n",
    "x_copia[(x_copia >= 3) & (x_copia <= 8)] = -1\n",
    "print(x_copia)"
   ]
  },
  {
   "cell_type": "code",
   "execution_count": null,
   "metadata": {},
   "outputs": [],
   "source": [
    "\n"
   ]
  }
 ],
 "metadata": {
  "kernelspec": {
   "display_name": "Python 3",
   "language": "python",
   "name": "python3"
  },
  "language_info": {
   "codemirror_mode": {
    "name": "ipython",
    "version": 3
   },
   "file_extension": ".py",
   "mimetype": "text/x-python",
   "name": "python",
   "nbconvert_exporter": "python",
   "pygments_lexer": "ipython3",
   "version": "3.11.0"
  }
 },
 "nbformat": 4,
 "nbformat_minor": 4
}
