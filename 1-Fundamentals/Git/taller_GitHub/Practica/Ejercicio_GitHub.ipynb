{
 "cells": [
  {
   "cell_type": "markdown",
   "metadata": {},
   "source": [
    "# Ejercicio GitHub."
   ]
  },
  {
   "cell_type": "markdown",
   "metadata": {},
   "source": [
    "## Ejercicio grupal\n",
    "1. Cada grupo debe elegir un líder.\n",
    "2. El líder será responsable de crear un repositorio de trabajo para el equipo, que deberá incluir un archivo Jupyter Notebook con el nombre del equipo.\n",
    "3. En ese repositorio, cada miembro del equipo deberá crear su propia rama con su nombre.\n",
    "4. Una vez que todos los miembros del equipo hayan creado sus ramas, cada uno realizará un trabajo de web scraping relacionado con los siguientes temas:\n",
    "    - Un dataframe con los 14 picos de más de 8000 metros de altura, incluyendo nombre, altura y ubicación.\n",
    "    - Un dataframe con los 10 libros más vendidos, incluyendo nombre, autor y fecha de publicación.\n",
    "    - Un dataframe con los 10 videojuegos más vendidos de la historia, incluyendo título, desarrollador y fecha de lanzamiento.\n",
    "    - Un dataframe con los campeonatos de la NBA ganados por cada equipo, incluyendo nombre del equipo, número de campeonatos y años en los que fueron campeones.\n",
    "5. Cada miembro deberá integrar su trabajo en el notebook principal del equipo y hacer un merge de los cambios en la rama principal.\n"
   ]
  },
  {
   "cell_type": "markdown",
   "metadata": {},
   "source": [
    "## Equipos.\n",
    "- Grupo 1: Iñigo, Nacho, Lucas, Felix\n",
    "- Grupo 2: Borja, Yanelis, Daniel Masana, Billy\n",
    "- Grupo 3: Juan, Irene, Vanessa, Daniel Garrido"
   ]
  }
 ],
 "metadata": {
  "kernelspec": {
   "display_name": "Python 3",
   "language": "python",
   "name": "python3"
  },
  "language_info": {
   "codemirror_mode": {
    "name": "ipython",
    "version": 3
   },
   "file_extension": ".py",
   "mimetype": "text/x-python",
   "name": "python",
   "nbconvert_exporter": "python",
   "pygments_lexer": "ipython3",
   "version": "3.11.5"
  }
 },
 "nbformat": 4,
 "nbformat_minor": 2
}
