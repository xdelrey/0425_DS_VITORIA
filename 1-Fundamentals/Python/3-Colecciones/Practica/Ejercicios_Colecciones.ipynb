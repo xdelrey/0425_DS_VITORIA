{
 "cells": [
  {
   "cell_type": "markdown",
   "metadata": {},
   "source": [
    "![imagen](./img/ejercicios.png)"
   ]
  },
  {
   "cell_type": "markdown",
   "metadata": {},
   "source": [
    "## Ejercicio 1\n",
    "Dada la siguiente lista:\n",
    "> ```ejer_1 = [1,2,3,4,5]```\n",
    "\n",
    "Inviértela para que quede de la siguiente manera\n",
    "> ```ejer_1 = [5,4,3,2,1]```"
   ]
  },
  {
   "cell_type": "code",
   "execution_count": 1,
   "metadata": {},
   "outputs": [
    {
     "name": "stdout",
     "output_type": "stream",
     "text": [
      "[5, 4, 3, 2, 1]\n"
     ]
    }
   ],
   "source": [
    "# declaro variables\n",
    "lista = [1,2,3,4,5]\n",
    "\n",
    "# imprimo la lista invertida\n",
    "lista = (lista[-1:-(len(lista) +1):-1])\n",
    "print(lista)\n"
   ]
  },
  {
   "cell_type": "markdown",
   "metadata": {},
   "source": [
    "## Ejercicio 3\n",
    "Crea una lista nueva con todas las combinaciones de las siguientes dos listas:\n",
    "> ```ejer_3_1 = [\"Hola\", \"amigo\"]```\n",
    ">\n",
    "> ```ejer_3_2 = [\"Que\", \"tal\"]```\n",
    "\n",
    "Obten el siguiente output:\n",
    "\n",
    "```['Hola Que', 'Hola tal', 'amigo Que', 'amigo tal']```"
   ]
  },
  {
   "cell_type": "code",
   "execution_count": 2,
   "metadata": {},
   "outputs": [
    {
     "name": "stdout",
     "output_type": "stream",
     "text": [
      "['Hola Que', 'Hola tal', 'amigo Que', 'amigo tal']\n"
     ]
    }
   ],
   "source": [
    "# declaro variables\n",
    "lista_1 = [\"Hola\", \"amigo\"]\n",
    "lista_2 = [\"Que\", \"tal\"]\n",
    "lista_output = []\n",
    "\n",
    "# asigno a una nueva lista las combinaciones de las listas\n",
    "for i in lista_1:\n",
    "    for j in lista_2:\n",
    "        lista_output.append(i + \" \" + j)\n",
    "print(lista_output)\n"
   ]
  },
  {
   "attachments": {},
   "cell_type": "markdown",
   "metadata": {},
   "source": [
    "## Ejercicio 4\n",
    "Dada la siguiente lista, encuentra por el índice el valor 45 y sustitúyelo por el 0\n",
    "> ```ejer_4 = [20, 47, 19, 29, 45, 67, 78, 90]```"
   ]
  },
  {
   "cell_type": "code",
   "execution_count": 3,
   "metadata": {},
   "outputs": [
    {
     "name": "stdout",
     "output_type": "stream",
     "text": [
      "[20, 47, 19, 29, 0, 67, 78, 90]\n"
     ]
    }
   ],
   "source": [
    "# declaro variables\n",
    "lista = [20, 47, 19, 29, 45, 67, 78, 90]\n",
    "valor_inicial = 45\n",
    "valor_final = 0\n",
    "\n",
    "# sustituyo 45 por 0\n",
    "lista[lista.index(valor_inicial)] = valor_final\n",
    "print(lista)\n"
   ]
  },
  {
   "cell_type": "markdown",
   "metadata": {},
   "source": [
    "## Ejercicio 5\n",
    "Dada la siguiente lista, elimina todos los valores iguales a 3\n",
    "> ```ejer_5 = [3, 20, 3, 47, 19, 3, 29, 45, 67, 78, 90, 3, 3]```\n",
    "\n",
    "TIP: No intentes eliminar elementos sobre la lista que estás iterando. Haz una copia con `ejer_5.copy()`."
   ]
  },
  {
   "cell_type": "code",
   "execution_count": 4,
   "metadata": {},
   "outputs": [
    {
     "name": "stdout",
     "output_type": "stream",
     "text": [
      "[20, 47, 19, 29, 45, 67, 78, 90]\n"
     ]
    }
   ],
   "source": [
    "# declaro variables\n",
    "ejer_5 = [3, 20, 3, 47, 19, 3, 29, 45, 67, 78, 90, 3, 3]\n",
    "valor_eliminar = 3\n",
    "lista = ejer_5.copy()\n",
    "\n",
    "# elimino los 3 de la lista\n",
    "for i in ejer_5:\n",
    "    if i == valor_eliminar:\n",
    "        lista.remove(i)\n",
    "print(lista)\n"
   ]
  },
  {
   "attachments": {},
   "cell_type": "markdown",
   "metadata": {},
   "source": [
    "## Ejercicio 6\n",
    "1. Crea una tupla con 3 elementos\n",
    "2. Crea otra tupla con un elemento y comprueba su tipo\n",
    "3. Crea una tupla con elementos de diferentes tipos\n",
    "4. Imprime por pantalla el primer y último elemento de la tupla del apartado 3. Usa `len` para el último\n",
    "5. Añade un elemento a la tupla del apartado 3.\n",
    "6. Eliminar un elemento de la tupla del apartado 5, que se encuentre más o menos en la mitad.\n",
    "7. Convierte la tupla del apartado 5 en una lista"
   ]
  },
  {
   "cell_type": "code",
   "execution_count": 22,
   "metadata": {},
   "outputs": [
    {
     "name": "stdout",
     "output_type": "stream",
     "text": [
      "1. Crea una tupla con 3 elementos:\n",
      " ('juan', 'jon', 'john')\n",
      "\n",
      "2. Crea otra tupla con un elemento y comprueba su tipo:\n",
      " ('johannes',) <class 'tuple'>\n",
      "\n",
      "3. Crea una tupla con elementos de diferentes tipos:\n",
      " ('Giovanni', 42, 71.0, True)\n",
      "\n",
      "4. Imprime por pantalla el primer y último elemento de la tupla del apartado 3:\n",
      "Primer elemento: Giovanni \n",
      "Último elemento: True\n",
      "\n",
      "5. Añade un elemento a la tupla del apartado 3:\n",
      " ('Giovanni', 42, 71.0, True, 'Smith')\n",
      "\n",
      "6. Eliminar un elemento de la tupla del apartado 5:\n",
      " Tupla_3 inicial: ('Giovanni', 42, 71.0, True, 'Smith')\n",
      " Tupla_3 final: ('Giovanni', 42, True, 'Smith')\n",
      "\n",
      "7. Convierte la tupla del apartado 5 en una lista:\n",
      "['Giovanni', 42, 71.0, True, 'Smith']\n"
     ]
    }
   ],
   "source": [
    "#1. Crea una tupla con 3 elementos\n",
    "tupla_1 = (\"juan\", \"jon\", \"john\")\n",
    "print(\"1. Crea una tupla con 3 elementos:\\n\", tupla_1)\n",
    "\n",
    "#2. Crea otra tupla con un elemento y comprueba su tipo\n",
    "tupla_2 = (\"johannes\",)\n",
    "print(\"\\n2. Crea otra tupla con un elemento y comprueba su tipo:\\n\", tupla_2, type(tupla_2))\n",
    "\n",
    "#3. Crea una tupla con elementos de diferentes tipos\n",
    "tupla_3 = (\"Giovanni\", 42, 71.0, True)\n",
    "print(\"\\n3. Crea una tupla con elementos de diferentes tipos:\\n\", tupla_3)\n",
    "\n",
    "#4. Imprime por pantalla el primer y último elemento de la tupla del apartado 3. Usa `len` para el último\n",
    "print(\"\\n4. Imprime por pantalla el primer y último elemento de la tupla del apartado 3:\")\n",
    "print(\"Primer elemento:\", tupla_3[0],\"\\nÚltimo elemento:\", tupla_3[len(tupla_3)-1])\n",
    "\n",
    "#5. Añade un elemento a la tupla del apartado 3.\n",
    "elemento_extra = (\"Smith\",)\n",
    "tupla_3 = tupla_3 + elemento_extra\n",
    "print(\"\\n5. Añade un elemento a la tupla del apartado 3:\\n\", tupla_3)\n",
    "\n",
    "#6. Eliminar un elemento de la tupla del apartado 5, que se encuentre más o menos en la mitad.\n",
    "print(\"\\n6. Eliminar un elemento de la tupla del apartado 5:\")\n",
    "print(\" Tupla_3 inicial:\", tupla_3)\n",
    "\n",
    "tupla_3_copia = tupla_3 # creo una copia de tupla_3\n",
    "tupla_3 = () # vacío tupla_3\n",
    "j = 0 # inicializo un contador\n",
    "\n",
    "for i in tupla_3_copia:\n",
    "    if j == round(len(tupla_3_copia)/2): # al llegar a la mitad aprox, salto a la próxima iteración sin hacer nada\n",
    "        j += 1\n",
    "        continue\n",
    "    j += 1\n",
    "    tupla_intermedia = (i,) # creo una tupla intermedia de un sólo elemento, para poder añadir el elemento a tupla_3\n",
    "    tupla_3 = tupla_3 + tupla_intermedia\n",
    "\n",
    "print(\" Tupla_3 final:\",tupla_3)\n",
    "\n",
    "#7. Convierte la tupla del apartado 5 en una lista\n",
    "print(\"\\n7. Convierte la tupla del apartado 5 en una lista:\")\n",
    "lista_tupla_3 = [] # inicializo la lista\n",
    "\n",
    "for i in tupla_3_copia: # añado a la lista los elementos de la copia que hice de la tupla_3 completa del apartado 5\n",
    "    lista_tupla_3.append(i)\n",
    "\n",
    "print(lista_tupla_3)\n"
   ]
  },
  {
   "attachments": {},
   "cell_type": "markdown",
   "metadata": {},
   "source": [
    "## Ejercicio 7\n",
    "Concatena todos los elementos de la tupla en un único string. Para ello utiliza el metodo `.join()` de los Strings\n",
    "> ```ejer_7 = (\"cien\", \"cañones\", \"por\", \"banda\")```\n",
    "\n",
    "Resultado: `cien cañones por banda`"
   ]
  },
  {
   "cell_type": "code",
   "execution_count": 24,
   "metadata": {},
   "outputs": [
    {
     "name": "stdout",
     "output_type": "stream",
     "text": [
      "cien cañones por banda\n"
     ]
    }
   ],
   "source": [
    "# defino variables\n",
    "ejer_7 = (\"cien\", \"cañones\", \"por\", \"banda\")\n",
    "separador = \" \"\n",
    "\n",
    "# concateno los elementos de la tupla\n",
    "resultado = separador.join(ejer_7)\n",
    "\n",
    "print(resultado)"
   ]
  },
  {
   "cell_type": "markdown",
   "metadata": {},
   "source": [
    "## Ejercicio 8\n",
    "Obten el tercer elemento de la siguiente tupla, y el tercero empezando por la cola\n",
    "> ```ejer_8 = (3, 20, 3, 47, 19, 3, 29, 45, 67, 78, 90, 3, 3)```"
   ]
  },
  {
   "cell_type": "code",
   "execution_count": 26,
   "metadata": {},
   "outputs": [
    {
     "name": "stdout",
     "output_type": "stream",
     "text": [
      "Tercer elemento: 47 \n",
      "Tercer elemento por la cola: 90\n"
     ]
    }
   ],
   "source": [
    "# declaro variables\n",
    "ejer_8 = (3, 20, 3, 47, 19, 3, 29, 45, 67, 78, 90, 3, 3)\n",
    "\n",
    "# obtengo el 3er elemento y el 3º empezando por la cola\n",
    "print(\"Tercer elemento:\", ejer_8[3], \"\\nTercer elemento por la cola:\", ejer_8[-3])"
   ]
  },
  {
   "cell_type": "markdown",
   "metadata": {},
   "source": [
    "## Ejercicio 11\n",
    "Convierte la siguiente lista en un diccionario\n",
    "> ```ejer_11 = [(\"x\", 1), (\"x\", 2), (\"x\", 3), (\"y\", 1), (\"y\", 2), (\"z\", 1)]```\n",
    "\n",
    "TIP: Puedes usar dos variables de control en un bucle `for`. Una por cada valor de las tuplas."
   ]
  },
  {
   "cell_type": "code",
   "execution_count": null,
   "metadata": {},
   "outputs": [],
   "source": []
  },
  {
   "attachments": {},
   "cell_type": "markdown",
   "metadata": {},
   "source": [
    "## Ejercicio 12\n",
    "1. Crea una lista ordenada ascendente con las claves del diccionario\n",
    "2. Crea otra lista ordenada descendente con los valores\n",
    "3. Añade una nueva clave/valor\n",
    "4. Busca la clave igual a 2 dentro del diccionario\n",
    "5. Itera la clave y el valor del diccionario con un único for\n",
    "> ```ejer_12 = {4:78, 2:98, 8:234, 5:29}```"
   ]
  },
  {
   "cell_type": "code",
   "execution_count": null,
   "metadata": {},
   "outputs": [],
   "source": []
  },
  {
   "cell_type": "markdown",
   "metadata": {},
   "source": [
    "## Ejercicio 13\n",
    "Junta ambos diccionarios. Para ello, utiliza `update`\n",
    "> ```ejer_13_1 = {1: 11, 2: 22}```\n",
    ">\n",
    "> ```ejer_13_2 = {3: 33, 4: 44}```"
   ]
  },
  {
   "cell_type": "code",
   "execution_count": null,
   "metadata": {},
   "outputs": [],
   "source": []
  },
  {
   "cell_type": "markdown",
   "metadata": {},
   "source": [
    "## Ejercicio 14\n",
    "Suma todos los valores del dicionario\n",
    "> ```ejer_14 = {1: 11, 2: 22, 3: 33, 4: 44, 5: 55}```"
   ]
  },
  {
   "cell_type": "code",
   "execution_count": null,
   "metadata": {},
   "outputs": [],
   "source": []
  },
  {
   "cell_type": "markdown",
   "metadata": {},
   "source": [
    "## Ejercicio 15\n",
    "Multiplica todos los valores del diccionario\n",
    "> ```ejer_15 = {1: 11, 2: 22, 3: 33, 4: 44, 5: 55}```"
   ]
  },
  {
   "cell_type": "code",
   "execution_count": null,
   "metadata": {},
   "outputs": [],
   "source": []
  },
  {
   "cell_type": "markdown",
   "metadata": {},
   "source": [
    "## Ejercicio 16\n",
    "1. Crea un set de tres elementos\n",
    "2. Añade un cuarto\n",
    "3. Elimina el último elemento añadido\n",
    "4. Elimina el elemento 10, si está presente. Usa `discard()`"
   ]
  },
  {
   "cell_type": "code",
   "execution_count": null,
   "metadata": {},
   "outputs": [],
   "source": []
  }
 ],
 "metadata": {
  "kernelspec": {
   "display_name": "Python 3",
   "language": "python",
   "name": "python3"
  },
  "language_info": {
   "codemirror_mode": {
    "name": "ipython",
    "version": 3
   },
   "file_extension": ".py",
   "mimetype": "text/x-python",
   "name": "python",
   "nbconvert_exporter": "python",
   "pygments_lexer": "ipython3",
   "version": "3.11.0"
  }
 },
 "nbformat": 4,
 "nbformat_minor": 4
}
