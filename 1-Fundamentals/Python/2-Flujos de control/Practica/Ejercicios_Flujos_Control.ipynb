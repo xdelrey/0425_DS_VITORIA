{
 "cells": [
  {
   "cell_type": "markdown",
   "metadata": {},
   "source": [
    "![imagen](./img/ejercicios.png)"
   ]
  },
  {
   "cell_type": "markdown",
   "metadata": {},
   "source": [
    "# Ejercicios Flujos de control"
   ]
  },
  {
   "cell_type": "markdown",
   "metadata": {},
   "source": [
    "## Ejercicio 1\n",
    "Declara una variable numérica que será una hora cualquiera del día. Implementa la siguiente casuística:\n",
    "\n",
    "* Si es entre las 0 y las 8, print \"Durmiendo\"\n",
    "* Si es entre las 9 y las 18, print \"Trabajando\"\n",
    "* Si es entre las 19 y las 21, print \"Clase\"\n",
    "* Si es entre las 22 y las 24, print \"Descanso\"\n",
    "* En cualquier otro caso, print \"Transporte o error\""
   ]
  },
  {
   "cell_type": "code",
   "execution_count": 15,
   "metadata": {},
   "outputs": [
    {
     "name": "stdout",
     "output_type": "stream",
     "text": [
      "Trabajando\n"
     ]
    }
   ],
   "source": [
    "# solicitamos la hora\n",
    "hora = int(input(\"¿Qué hora es?\"))\n",
    "\n",
    "# calculamos el output\n",
    "if hora < 8:\n",
    "    print(\"Durmiendo\")\n",
    "elif hora >= 9 and hora < 18:\n",
    "    print(\"Trabajando\")\n",
    "elif hora >= 19 and hora < 21:\n",
    "    print(\"Clase\")\n",
    "elif hora >= 22 and hora < 24:\n",
    "    print(\"Descanso\")\n",
    "else:\n",
    "    print(\"Transporte o error\")"
   ]
  },
  {
   "cell_type": "markdown",
   "metadata": {},
   "source": [
    "## Ejercicio 2\n",
    "En este ejercicio vamos a implementar un calculador de precios de casas muy sencillo. Tenemos las siguientes variables:\n",
    "\n",
    "> superficie\n",
    ">\n",
    "> distrito\n",
    "\n",
    "Implementa la siguiente casuística:\n",
    "\n",
    "1. Si el distrito es \"Moncloa\" o \"Centro\", y además la superficie es superior a 100 metros cuadrados, el precio de la casa es de 1000\n",
    "2. Si el distrito es \"Salamanca\", y además la superficie de la casa es al menos de 150 metros, el precio de la casa es de 1500\n",
    "3. Si el distrito no es \"Retiro\" y la superficie está entre 60 y 80 metros, el precio es de 600\n",
    "4. En cualquier otro caso, el precio será de 0"
   ]
  },
  {
   "cell_type": "code",
   "execution_count": 30,
   "metadata": {},
   "outputs": [
    {
     "name": "stdout",
     "output_type": "stream",
     "text": [
      "El precio es 0 euros\n"
     ]
    }
   ],
   "source": [
    "# solicitamos los datos al usuario\n",
    "superficie = float(input(\"Superficie de la casa:\"))\n",
    "distrito = input(\"Distrito donde se encuentra:\")\n",
    "\n",
    "# calculamos el precio de la casa\n",
    "if (distrito == \"Moncloa\" or distrito == \"Centro\") and superficie > 100:\n",
    "    print(\"El precio de la casa es de 1000 euros.\")\n",
    "elif distrito == \"Salamanca\" and superficie >= 150:\n",
    "    print(\"El precio de la casa es de 1500 euros\")\n",
    "elif (distrito != \"Retiro\") and (superficie >= 60 and superficie <= 80):\n",
    "    print(\"El precio de la casa es de 600 euros\")\n",
    "else:\n",
    "    print(\"El precio es 0 euros\")\n"
   ]
  },
  {
   "cell_type": "markdown",
   "metadata": {},
   "source": [
    "## Ejercicio 3\n",
    "En este ejercicio vamos a realizar un programa muy parecido. Para este caso queremos que se cumplan las siguientes condiciones:\n",
    "\n",
    "1. Primero se compruebe si el distrito es \"Retiro\". Si es asá, que imprima \"Distrito Retiro\", y si no, \"Otro distrito\"\n",
    "2. Si el distrito es \"Retiro\", comprueba si la superficie es mayor de 100 metros cuadrados. En tal caso, que imprima un precio de 1000, y si no, de 500.\n",
    "\n",
    "Prueba a usar `ifs` anidados"
   ]
  },
  {
   "cell_type": "code",
   "execution_count": null,
   "metadata": {},
   "outputs": [
    {
     "name": "stdout",
     "output_type": "stream",
     "text": [
      "Otro distrito\n"
     ]
    }
   ],
   "source": [
    "# solicitamos los datos al usuario\n",
    "superficie = float(input(\"Superficie de la casa:\"))\n",
    "distrito = input(\"Distrito donde se encuentra:\")\n",
    "\n",
    "# mostramos el precio de la casa\n",
    "if distrito == \"Retiro\":\n",
    "    print(\"Distrito Retiro\")\n",
    "    if superficie > 100:\n",
    "        print(\"El precio es de 1000 euros\")\n",
    "    else:\n",
    "        print(\"El precio es de 500 euros\")\n",
    "else:\n",
    "    print(\"Otro distrito\")"
   ]
  },
  {
   "cell_type": "markdown",
   "metadata": {},
   "source": [
    "## Ejercicio 4\n",
    "Escribe un programa que tenga dos variables: un numero, y una lista numérica. El programa debe recorrer la lista e imprimir por pantalla cada elemento de la lista multiplicado por el número"
   ]
  },
  {
   "cell_type": "code",
   "execution_count": 11,
   "metadata": {},
   "outputs": [
    {
     "name": "stdout",
     "output_type": "stream",
     "text": [
      "3  x  1 = 3\n",
      "3  x  2 = 6\n",
      "3  x  3 = 9\n",
      "3  x  5 = 15\n",
      "3  x  8 = 24\n",
      "3  x  13 = 39\n"
     ]
    }
   ],
   "source": [
    "# defino las variables\n",
    "numero = 3\n",
    "lista_numerica = [1, 2, 3, 5, 8, 13]\n",
    "\n",
    "# imprimo los múltiplos\n",
    "for i in lista_numerica:\n",
    "    print(numero, \" x \", i, \"=\", i * numero)"
   ]
  },
  {
   "cell_type": "markdown",
   "metadata": {},
   "source": [
    "## Ejercicio 5\n",
    "Imprime por pantalla cada número del -10 al -1. En ese orden. Consulta [la documentación](https://www.w3schools.com/python/ref_func_range.asp) de `range`"
   ]
  },
  {
   "cell_type": "code",
   "execution_count": 20,
   "metadata": {},
   "outputs": [
    {
     "name": "stdout",
     "output_type": "stream",
     "text": [
      "-10\n",
      "-9\n",
      "-8\n",
      "-7\n",
      "-6\n",
      "-5\n",
      "-4\n",
      "-3\n",
      "-2\n",
      "-1\n"
     ]
    }
   ],
   "source": [
    "# defino las variables\n",
    "numero_inicial = -10\n",
    "numero_final = -1\n",
    "\n",
    "# imprimo los números\n",
    "for i in list(range(numero_inicial, numero_final + 1)):\n",
    "    print(i)"
   ]
  },
  {
   "cell_type": "markdown",
   "metadata": {},
   "source": [
    "## Ejercicio 6\n",
    "Dada la siguiente lista:\n",
    "\n",
    "> list1 = [12, 15, 32, 42, 55, 75, 122, 132, 150, 180, 200]\n",
    "\n",
    "Implementa un programa que los recorra e imprima por pantalla todos los divisibles por 5. Si nos encontramos con alguno que sea mayor que 150, detener el bucle."
   ]
  },
  {
   "cell_type": "code",
   "execution_count": 33,
   "metadata": {},
   "outputs": [
    {
     "name": "stdout",
     "output_type": "stream",
     "text": [
      "15\n",
      "55\n",
      "75\n",
      "150\n"
     ]
    }
   ],
   "source": [
    "# defino variables\n",
    "list1 = [12, 15, 32, 42, 55, 75, 122, 132, 150, 180, 200]\n",
    "divisor = 5\n",
    "limite = 150\n",
    "\n",
    "# imprimo los divisibles por 5\n",
    "for i in list1:\n",
    "    if i % divisor == 0 and i <= limite:\n",
    "        print(i)"
   ]
  },
  {
   "attachments": {},
   "cell_type": "markdown",
   "metadata": {},
   "source": [
    "## Ejercicio 7\n",
    "Escribe un programa en Python que imprima por pantalla todos los números que cumplan que sean divisibles por 5 y divisibles por 7, dentro del rango de valores (150, 350)."
   ]
  },
  {
   "cell_type": "code",
   "execution_count": 42,
   "metadata": {},
   "outputs": [
    {
     "name": "stdout",
     "output_type": "stream",
     "text": [
      "175\n",
      "210\n",
      "245\n",
      "280\n",
      "315\n"
     ]
    }
   ],
   "source": [
    "# defino variables\n",
    "divisor_1 = 5\n",
    "divisor_2 = 7\n",
    "limite_inferior = 150\n",
    "limite_superior = 350\n",
    "\n",
    "# recorro el rango de valores\n",
    "for i in range(limite_inferior, limite_superior):\n",
    "    # imprimo los que sean divisibles por 5 y 7\n",
    "    if (i % (divisor_1 * divisor_2) == 0):\n",
    "        print(i)"
   ]
  },
  {
   "cell_type": "markdown",
   "metadata": {},
   "source": [
    "## Ejercicio 8\n",
    "Implementa un programa que imprima por pantalla el siguiente patrón\n",
    "\n",
    "5 4 3 2 1 \n",
    "\n",
    "4 3 2 1 \n",
    "\n",
    "3 2 1 \n",
    "\n",
    "2 1 \n",
    "\n",
    "1\n",
    "\n",
    "NOTA: NO hay lineas en blanco entre una línea y otra."
   ]
  },
  {
   "cell_type": "code",
   "execution_count": 111,
   "metadata": {},
   "outputs": [
    {
     "name": "stdout",
     "output_type": "stream",
     "text": [
      "5 4 3 2 1 \n",
      "\n",
      "4 3 2 1 \n",
      "\n",
      "3 2 1 \n",
      "\n",
      "2 1 \n",
      "\n",
      "1 \n",
      "\n"
     ]
    }
   ],
   "source": [
    "# defino variables\n",
    "numero_inicial = 5\n",
    "numero_final = 1\n",
    "\n",
    "# compruebo si el orden es ascendente (1) o descendente (-1)\n",
    "if numero_final > numero_inicial:\n",
    "    orden = 1\n",
    "else:\n",
    "    orden = -1\n",
    "\n",
    "# compruebo cuántas líneas hay que imprimir\n",
    "numero_lineas = abs (abs(numero_final + orden) - abs(numero_inicial))\n",
    "\n",
    "while numero_lineas > 0:\n",
    "    # defino e imprimo la línea\n",
    "    linea = list(range(numero_inicial, numero_final + orden, orden))\n",
    "    for i in linea:\n",
    "        print(i, end=' ')\n",
    "    print(\"\\n\") # después de imprimir una línea, salto de línea\n",
    "    numero_inicial = numero_inicial + orden\n",
    "    numero_lineas -= 1\n"
   ]
  },
  {
   "cell_type": "markdown",
   "metadata": {},
   "source": [
    "## Ejercicio 9\n",
    "En este ejercicio vamos a crear un pequeño juego. Se trata de intentar adivinar un numero del 1 al 5. Tenemos dos intentos para acertar. Pasos a seguir:\n",
    "\n",
    "1. Ya viene implementado con la librería `random` cómo obtener un número aleatorio del 1 al 5\n",
    "2. Tendrás que declarar en una variable el numero de vidas, y mediante un bucle while, comprobar que todavia quedan vidas.\n",
    "3. Dentro del bucle, obtener el valor del usuario y comprobar si es ese el numero a adivinar. Si no, actualizar las vidas.\n",
    "4. Si acertamos, salimos del bucle e imprimimos por pantalla \"You win\". Y si perdemos también salimos del bucle, pero en este caso imprimimos por pantalla \"You lose\".\n",
    "\n",
    "TIP: te puede resultar útil usar la sentencia `else` cuando acabe el bucle `while`. Lo que haya dentro de ese `else` se ejecutará una vez acabe la ejecución del `while`. Lo podrás usar para cuando pierdas."
   ]
  },
  {
   "cell_type": "code",
   "execution_count": 28,
   "metadata": {},
   "outputs": [
    {
     "name": "stdout",
     "output_type": "stream",
     "text": [
      "##### Mensaje secreto: El número aleatorio es... el 2 (shhhhhh!) #####\n",
      "Has introducido el valor...  3\n",
      "No es el 3 . Prueba de nuevo!\n",
      "Has introducido el valor...  2\n",
      "You win!\n"
     ]
    }
   ],
   "source": [
    "import time\n",
    "\n",
    "# obtener un número aleatorio entre 1 y 5\n",
    "import random\n",
    "aleatorio = random.randint(1, 5)\n",
    "print(\"##### Mensaje secreto: El número aleatorio es... el\", aleatorio, \"(shhhhhh!) #####\")\n",
    "\n",
    "# declaro variables\n",
    "vidas = 2\n",
    "\n",
    "# recoger el valor del usuario y responder si ha acertado o no\n",
    "while vidas > 0:\n",
    "    valor_usuario = int(input(\"Adivina un número del 1 al 5:\"))\n",
    "    print(\"Has introducido el valor... \", valor_usuario)\n",
    "    if valor_usuario == aleatorio:\n",
    "        print(\"You win!\")\n",
    "        break\n",
    "    else:\n",
    "        vidas = vidas - 1\n",
    "        if vidas > 0:\n",
    "            print(\"No es el\", valor_usuario, \". Prueba de nuevo!\")\n",
    "        else:\n",
    "            print(\"You lose!\")"
   ]
  }
 ],
 "metadata": {
  "kernelspec": {
   "display_name": "Python 3",
   "language": "python",
   "name": "python3"
  },
  "language_info": {
   "codemirror_mode": {
    "name": "ipython",
    "version": 3
   },
   "file_extension": ".py",
   "mimetype": "text/x-python",
   "name": "python",
   "nbconvert_exporter": "python",
   "pygments_lexer": "ipython3",
   "version": "3.11.0"
  }
 },
 "nbformat": 4,
 "nbformat_minor": 4
}
