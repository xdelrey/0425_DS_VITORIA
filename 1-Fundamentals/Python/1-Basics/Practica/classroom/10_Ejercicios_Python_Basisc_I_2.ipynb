{
  "cells": [
    {
      "cell_type": "markdown",
      "metadata": {
        "id": "GB2K42EgK9q5"
      },
      "source": [
        "![TheBridge_logo_RGB_color.jpg](attachment:TheBridge_logo_RGB_color.jpg)"
      ]
    },
    {
      "cell_type": "markdown",
      "metadata": {
        "id": "GnwVlO37K9q6"
      },
      "source": [
        "![imagen](./img/ejercicios.png)"
      ]
    },
    {
      "cell_type": "markdown",
      "metadata": {
        "id": "_9pTa0PXK9q6"
      },
      "source": [
        "## EJERCICIOS PYTHON BASICO 2:\n",
        "## Tipos y conversión de tipos"
      ]
    },
    {
      "cell_type": "markdown",
      "metadata": {
        "id": "tYmV-veoK9q6"
      },
      "source": [
        "Completa los siguiente ejercicios, la solución a los mismos se publicarán en el repo del curso a lo largo del sprint"
      ]
    },
    {
      "cell_type": "markdown",
      "metadata": {
        "id": "YAdFbIOXK9q7"
      },
      "source": [
        "![ejercicio.png](./img/ejercicio.png)\n",
        "\n",
        "## Ejercicio 1\n",
        "\n",
        "1. Crea dos variables numericas: un `int` y un `float`\n",
        "2. Comprueba sus tipos\n",
        "3. Sumalas en otra nueva\n",
        "4. ¿De qué tipo es la nueva variable?\n",
        "5. Elimina las dos primeras variables creadas"
      ]
    },
    {
      "cell_type": "code",
      "execution_count": 12,
      "metadata": {
        "id": "8QZmuLOsK9q7"
      },
      "outputs": [
        {
          "name": "stdout",
          "output_type": "stream",
          "text": [
            "<class 'int'>\n",
            "<class 'float'>\n",
            "<class 'float'>\n",
            "Suma: 71.7\n"
          ]
        }
      ],
      "source": [
        "#1. Crea dos variables numericas: un `int` y un `float`\n",
        "peso_kg = 70\n",
        "altura_m = 1.70\n",
        "#2. Comprueba sus tipos\n",
        "print(type(peso_kg))\n",
        "print(type(altura_m))\n",
        "#3. Sumalas en otra nueva\n",
        "suma = peso_kg + altura_m\n",
        "#4. ¿De qué tipo es la nueva variable?\n",
        "print(type(suma))\n",
        "#5. Elimina las dos primeras variables creadas\n",
        "del(peso_kg,altura_m)\n",
        "print(\"Suma:\",suma)"
      ]
    },
    {
      "cell_type": "markdown",
      "metadata": {
        "id": "f5xfpkpQK9q7"
      },
      "source": [
        "![ejercicio.png](./img/ejercicio.png)\n",
        "\n",
        "## Ejercicio 2\n",
        "Escribe un programa para pasar de grados a radianes. Hay que usar `input`. Recuerda que la conversión se realiza mediante\n",
        "\n",
        "radianes = grados*(pi/180)"
      ]
    },
    {
      "cell_type": "code",
      "execution_count": null,
      "metadata": {
        "id": "V50TUQMzK9q7"
      },
      "outputs": [
        {
          "name": "stdout",
          "output_type": "stream",
          "text": [
            "has metido 22.0 grados\n",
            "Dato en radianes: 0.3839724354387525\n"
          ]
        }
      ],
      "source": [
        "# definición de Pi\n",
        "import math\n",
        "\n",
        "# el usuario añade el dato en Grados\n",
        "grados = float(input(\"Añade el dato en Grados:\").replace(\",\",\".\"))\n",
        "print(\"has metido\",grados,\"grados\")\n",
        "\n",
        "# calcular el dato en Radianes\n",
        "radianes = grados*(math.pi/180)\n",
        "print(\"Dato en radianes:\",radianes)"
      ]
    },
    {
      "cell_type": "markdown",
      "metadata": {
        "id": "zX3-p58CK9q7"
      },
      "source": [
        "![ejercicio.png](./img/ejercicio.png)\n",
        "\n",
        "## Ejercicio 3\n",
        "Escribe un programa que calcule el area de un paralelogramo (base x altura). También con `input`"
      ]
    },
    {
      "cell_type": "code",
      "execution_count": 7,
      "metadata": {
        "id": "s2QfNiBAK9q7"
      },
      "outputs": [
        {
          "name": "stdout",
          "output_type": "stream",
          "text": [
            "Área: 6.0\n"
          ]
        }
      ],
      "source": [
        "# el usuario introduce el dato de la base y se convierte a integer\n",
        "base = float(input(\"Base:\").replace(\",\",\".\"))\n",
        "\n",
        "# el usuario introduce el dato de la altura y se convierte a integer\n",
        "altura = float(input(\"Altura:\").replace(\",\",\".\"))\n",
        "\n",
        "# cálculo del área y mostrar el dato en pantalla\n",
        "area = base * altura\n",
        "print(\"Área:\",area)"
      ]
    },
    {
      "cell_type": "markdown",
      "metadata": {
        "id": "-6TBo_HvK9q8"
      },
      "source": [
        "![ejercicio.png](./img/ejercicio.png)\n",
        "\n",
        "## Ejercicio 4\n",
        "Escribe un programa que calcule el area de un paralelogramo (base x altura). También con `input`. En este caso debe ser capaz de admitir valores reales, con decimales, para base y altura en español. (PISTA: Recuerda que tendrás que hacer uso del método replace)"
      ]
    },
    {
      "cell_type": "code",
      "execution_count": 42,
      "metadata": {
        "id": "uzUIa1JqK9q8"
      },
      "outputs": [
        {
          "name": "stdout",
          "output_type": "stream",
          "text": [
            "Área: 5.289999999999999\n"
          ]
        }
      ],
      "source": [
        "# el usuario introduce el dato de la base\n",
        "base = input(\"Base:\")\n",
        "\n",
        "# sustituimos la ',' (coma) por un punto '.', para que sea reconocible como un float\n",
        "base = float(base.replace(\",\",\".\"))\n",
        "\n",
        "# el usuario introduce el dato de la altura y se convierte a integer\n",
        "altura = input(\"Altura:\")\n",
        "altura = float(altura.replace(\",\",\".\"))\n",
        "\n",
        "# cálculo del área y mostrar el dato en pantalla\n",
        "area = base * altura\n",
        "print(\"Área:\",area)"
      ]
    },
    {
      "cell_type": "markdown",
      "metadata": {
        "id": "5zKugi5iK9q8"
      },
      "source": [
        "![ejercicio.png](./img/ejercicio.png)\n",
        "\n",
        "## Ejercicio 5\n",
        "Complete el siguiente código para solicitar al usuario su nombre y su edad. Luego, calcule en qué año nació el usuario y muestre el resultado."
      ]
    },
    {
      "cell_type": "code",
      "execution_count": 8,
      "metadata": {
        "id": "LISfTnRkK9q8"
      },
      "outputs": [
        {
          "name": "stdout",
          "output_type": "stream",
          "text": [
            "ksjd, naciste en el año 1992.\n"
          ]
        }
      ],
      "source": [
        "nombre = input(\"¿Cuál es tu nombre? \")\n",
        "edad = int(input(\"¿Cuál es tu edad? \"))\n",
        "ano_actual = 2025  # Puedes cambiarlo según el año en curso\n",
        "ano_nacimiento = ano_actual - edad\n",
        "\n",
        "print(f\"{nombre}, naciste en el año {ano_nacimiento}.\")\n"
      ]
    }
  ],
  "metadata": {
    "colab": {
      "provenance": []
    },
    "kernelspec": {
      "display_name": "Python 3",
      "language": "python",
      "name": "python3"
    },
    "language_info": {
      "codemirror_mode": {
        "name": "ipython",
        "version": 3
      },
      "file_extension": ".py",
      "mimetype": "text/x-python",
      "name": "python",
      "nbconvert_exporter": "python",
      "pygments_lexer": "ipython3",
      "version": "3.11.0"
    },
    "orig_nbformat": 4
  },
  "nbformat": 4,
  "nbformat_minor": 0
}
