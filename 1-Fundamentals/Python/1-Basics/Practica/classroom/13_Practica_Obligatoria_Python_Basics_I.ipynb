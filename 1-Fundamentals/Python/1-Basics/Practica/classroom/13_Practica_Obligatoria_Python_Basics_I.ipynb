{
  "cells": [
    {
      "cell_type": "markdown",
      "metadata": {
        "id": "59zPhBxXNPxs"
      },
      "source": [
        "## PRACTICA OBLIGATORIA: PYTHON"
      ]
    },
    {
      "cell_type": "markdown",
      "metadata": {
        "id": "mv2kb1GMNPxs"
      },
      "source": [
        "* La práctica obligatoria de esta unidad consiste en dos ejercicios de programación libre a completar.   \n",
        "* Recuerda que debes subirla a tu repositorio personal antes de la sesión en vivo para que puntúe adecuadamente.  \n",
        "* Recuerda también que no es necesario que esté perfecta, sólo es necesario que se vea el esfuerzo.\n",
        "* Esta práctica se resolverá en la sesión en vivo correspondiente y la solución se publicará en el repo del curso."
      ]
    },
    {
      "cell_type": "markdown",
      "metadata": {
        "id": "Kl9JzST2NPxt"
      },
      "source": [
        "\n",
        "## PARTE I\n",
        "\n",
        "En este ejercicio debes simular un chatbot al que le haremos pedidos de pizzas.\n",
        "\n",
        "1. El chatbot tiene que saludar con un: \"Buenas tardes, bienvenido al servicio de pedido online, el precio de nuestra pizzas es de 8,95 para la familiar o de 9,90 para la mediana ¿Cuántas pizzas  familiares desea?\"\n",
        "2. El ususario tiene que introducir un número de pizzas en una variable llamada 'pizz_familiar'\n",
        "3. El chatbot debe responder: \"Estupendo, ¿cuántas pizzas medianas desea?\" y guardar el número de pizzas medianas en otra variable 'pizz_mediana'\n",
        "4. Además debe responder del chatbot: \"Estupendo, se están preparando 'pizz' pizzas familiares y 'pizz_mediana' pizzas medianas. Digame su dirección\"\n",
        "5. El ususario tiene que introducir una direccion en formato String en otra variable llamada 'direcc'\n",
        "6. El programa debe calcular el monto total\n",
        "7. Respuesta final del chatbot: \"Le mandaremos las '(número total de pizzas)' pizzas a la dirección 'direcc'. Serán <precio total a pagar en euros>. Muchas gracias por su pedido.\"\n",
        "         \n"
      ]
    },
    {
      "cell_type": "code",
      "execution_count": 45,
      "metadata": {
        "id": "qkKibyt-NPxt"
      },
      "outputs": [
        {
          "name": "stdout",
          "output_type": "stream",
          "text": [
            "Estupendo, se están preparando 3  pizzas familiares y 1 pizzas medianas.\n",
            "Le mandaremos las 4 pizzas a la dirección: calle principal . \n",
            "Serán 36.75 €. Muchas gracias por su pedido.\n"
          ]
        }
      ],
      "source": [
        "# establezco los precios\n",
        "precio_familiar = 8.95\n",
        "precio_mediana = 9.90\n",
        "\n",
        "# pido que me indiquen el número de pizzas que quieren\n",
        "pizz_familiar = input(\"Buenas tardes, bienvenido al servicio de pedido online. El precio de nuestra pizzas es de 8,95 para la familiar o de 9,90 para la mediana. ¿Cuántas pizzas  familiares desea?\")\n",
        "pizz_mediana = input(\"Estupendo, ¿cuántas pizzas medianas desea?\")\n",
        "\n",
        "print(\"Estupendo, se están preparando\", pizz_familiar, \" pizzas familiares y\", pizz_mediana, \"pizzas medianas.\")\n",
        "\n",
        "# pido la dirección al cliente\n",
        "direcc = input(\"Digame su dirección:\")\n",
        "\n",
        "# calculo el precio total y el número de pizzas\n",
        "pizz_familiar = int(pizz_familiar)\n",
        "pizz_mediana = int(pizz_mediana)\n",
        "monto_total = (precio_familiar * pizz_familiar) + (precio_mediana * pizz_mediana)\n",
        "num_pizzas = pizz_familiar + pizz_mediana\n",
        "\n",
        "# respondo al cliente con el número de pizzas, el importe y le confirmo la dirección\n",
        "print(\"Le mandaremos las\", num_pizzas, \"pizzas a la dirección:\", direcc, \". \\nSerán\", monto_total, \"€. Muchas gracias por su pedido.\")"
      ]
    },
    {
      "cell_type": "markdown",
      "metadata": {
        "id": "f0oqoGDGNPxt"
      },
      "source": [
        "\n",
        "## Parte II\n",
        "\n",
        "Crea un programa que realice las siguientes acciones:\n",
        "\n",
        "1. Solicite al usuario que introduzca 3 números enteros separados por comas (por ejemplo: 1,2,3).\n",
        "2. Convierta esa entrada en una lista de números enteros.\n",
        "3. Utilizando funciones built-in, determine el número máximo, el número mínimo y la suma total de los números introducidos.\n",
        "4. Determine la verdad o falsedad de la siguiente afirmación: \"El número máximo menos el número mínimo es igual a la suma total dividida por 5\".\n",
        "5. Muestre los resultados utilizando print."
      ]
    },
    {
      "cell_type": "code",
      "execution_count": null,
      "metadata": {
        "id": "rAlpWiQ9NPxt"
      },
      "outputs": [
        {
          "name": "stdout",
          "output_type": "stream",
          "text": [
            "Lista Números Enteros: [1, 2, 3]\n",
            "\n",
            "El número máximo de la lista es: 3\n",
            "El número mínimo de la lista es: 1\n",
            "La suma total de los números es: 6\n",
            "\n",
            "¿Máximo - Mínimo es igual a la 5ª parte de la suma?\n",
            " No, ni por asomo!\n"
          ]
        }
      ],
      "source": [
        "# el usuario añade un string de 3 números enteros separados por comas\n",
        "entrada = input(\"Introduzce 3 números enteros separados por comas, por favor:\")\n",
        "\n",
        "# convierto el string (\"3,4,5\" p.ej.) en una lista de elementos string\n",
        "lista_entrada = entrada.split(\",\")\n",
        "\n",
        "# guardo cada elemento string de la lista entrada en un elemento integer de otra lista\n",
        "lista_numeros = [int(lista_entrada[0]), int(lista_entrada[1]), int(lista_entrada[2])]\n",
        "print(\"Lista Números Enteros:\",lista_numeros)\n",
        "\n",
        "# determino el núm. máximo, mínimo y la suma total de los números\n",
        "maximo = max(lista_numeros)\n",
        "minimo = min(lista_numeros)\n",
        "suma = sum(lista_numeros)\n",
        "print(\"\\nEl número máximo de la lista es:\",maximo)\n",
        "print(\"El número mínimo de la lista es:\",minimo)\n",
        "print(\"La suma total de los números es:\",suma)\n",
        "\n",
        "# verdadero o falso? el máximo menos el mínimo es igual a la suma total dividida por 5?\".\n",
        "print(\"\\n¿Máximo - Mínimo es igual a la 5ª parte de la suma?\")\n",
        "resultado = maximo - minimo == round(suma / 5)\n",
        "print(\"Sí, clavao!\"*resultado, \"No, ni por asomo!\"*(not resultado))"
      ]
    },
    {
      "cell_type": "code",
      "execution_count": null,
      "metadata": {},
      "outputs": [],
      "source": []
    }
  ],
  "metadata": {
    "colab": {
      "provenance": []
    },
    "kernelspec": {
      "display_name": "Python 3",
      "language": "python",
      "name": "python3"
    },
    "language_info": {
      "codemirror_mode": {
        "name": "ipython",
        "version": 3
      },
      "file_extension": ".py",
      "mimetype": "text/x-python",
      "name": "python",
      "nbconvert_exporter": "python",
      "pygments_lexer": "ipython3",
      "version": "3.11.0"
    },
    "orig_nbformat": 4
  },
  "nbformat": 4,
  "nbformat_minor": 0
}
