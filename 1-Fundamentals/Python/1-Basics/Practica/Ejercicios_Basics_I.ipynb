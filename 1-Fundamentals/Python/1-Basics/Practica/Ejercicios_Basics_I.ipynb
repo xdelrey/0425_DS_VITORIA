{
 "cells": [
  {
   "cell_type": "markdown",
   "metadata": {},
   "source": [
    "![imagen](./img/ejercicios.png)"
   ]
  },
  {
   "cell_type": "markdown",
   "metadata": {},
   "source": [
    "# Ejercicios Python Basics I"
   ]
  },
  {
   "cell_type": "markdown",
   "metadata": {},
   "source": [
    "## Ejercicio 0\n",
    "Imprime por pantalla esta cita con el siguiente formato\n",
    "\n",
    "![imagen](./img/frase_Einstein.PNG)"
   ]
  },
  {
   "cell_type": "code",
   "execution_count": 2,
   "metadata": {},
   "outputs": [
    {
     "name": "stdout",
     "output_type": "stream",
     "text": [
      "¿Por qué esta magnífica tecnología científica,\n",
      "\tque ahorra trabajo y nos hace la vida más fácil,\n",
      "\t\tnos aporta tan poca felicidad?\n",
      "\t\t\tLa respuesta es ésta, simplemente: porque aún no hemos aprendido a usarla con tino.\n",
      "\"Albert Einstein\"\n"
     ]
    }
   ],
   "source": [
    "print(\"¿Por qué esta magnífica tecnología científica,\\n\\tque ahorra trabajo y nos hace la vida más fácil,\\n\\t\\tnos aporta tan poca felicidad?\\n\\t\\t\\tLa respuesta es ésta, simplemente: porque aún no hemos aprendido a usarla con tino.\")\n",
    "print('\"Albert Einstein\"')"
   ]
  },
  {
   "cell_type": "markdown",
   "metadata": {},
   "source": [
    "## Ejercicio 1\n",
    "1. Escribe el nombre de la calle de tu domicilio en una variable\n",
    "2. Escribe el numero de la calle en otra\n",
    "3. Ciudad en una tercera\n",
    "4. Codigo postal en la cuarta variable\n",
    "5. Imprime las 4 variables concatenadas por pantalla\n",
    "6. Crea una quinta variable que concatene todas ellas\n",
    "7. Imprímela por pantalla"
   ]
  },
  {
   "cell_type": "code",
   "execution_count": 11,
   "metadata": {},
   "outputs": [
    {
     "name": "stdout",
     "output_type": "stream",
     "text": [
      "1. Avda. Pasealekua\n",
      "2. 19\n",
      "3. Arrasate\n",
      "4. 20500\n",
      "Avda. Pasealekua 19 Arrasate 20500\n",
      "Avda. Pasealekua 19 Arrasate 20500\n"
     ]
    }
   ],
   "source": [
    "# 1. Escribe el nombre de la calle de tu domicilio en una variable\n",
    "calle = \"Avda. Pasealekua\"\n",
    "print(\"1.\", calle)\n",
    "\n",
    "# 2. Escribe el numero de la calle en otra\n",
    "numero_calle = 19\n",
    "print(\"2.\", numero_calle)\n",
    "\n",
    "# 3. Ciudad en una tercera\n",
    "ciudad = \"Arrasate\"\n",
    "print(\"3.\", ciudad)\n",
    "\n",
    "# 4. Codigo postal en la cuarta variable\n",
    "codigo_postal = \"20500\"\n",
    "print(\"4.\", codigo_postal)\n",
    "\n",
    "# 5. Imprime las 4 variables concatenadas por pantalla\n",
    "print(calle, numero_calle, ciudad, codigo_postal)\n",
    "\n",
    "# 6. Crea una quinta variable que concatene todas ellas\n",
    "espacio = \" \"\n",
    "direccion = calle + espacio + str(numero_calle) + espacio + ciudad + espacio + codigo_postal\n",
    "\n",
    "# 7. Imprímela por pantalla\n",
    "print(direccion)"
   ]
  },
  {
   "cell_type": "markdown",
   "metadata": {},
   "source": [
    "## Ejercicio 2\n",
    "Repite el ejercicio 1, pero pidiendo estos datos al usuario mediante un input(), imprimiendo a continuación la dirección completa"
   ]
  },
  {
   "cell_type": "code",
   "execution_count": 18,
   "metadata": {},
   "outputs": [
    {
     "name": "stdout",
     "output_type": "stream",
     "text": [
      "Tu dirección es: erguin 19, arrasate, 20500\n"
     ]
    }
   ],
   "source": [
    "# Solicito la calle\n",
    "calle = input(\"Introduce tu calle:\")\n",
    "\n",
    "# Solicito el número de la calle\n",
    "numero_calle = input(\"Introduce ahora el número:\")\n",
    "\n",
    "# Solicito la ciudad\n",
    "ciudad = input (\"Introduce tu ciudad:\")\n",
    "\n",
    "# Solicito el código postal\n",
    "codigo_postal = input(\"Introduce el código postal:\")\n",
    "\n",
    "# Creo una variable que concatene todos los datos\n",
    "espacio_coma = \", \"\n",
    "direccion = calle + \" \" + str(numero_calle) + espacio_coma + ciudad + espacio_coma + codigo_postal\n",
    "\n",
    "# Imprimo la direccióin completa\n",
    "print(\"Tu dirección es:\",direccion)"
   ]
  },
  {
   "cell_type": "markdown",
   "metadata": {},
   "source": [
    "## Ejercicio 3\n",
    "¿Qué variables están mal escritas y por qué? Realiza primero tu hipótesis y luego ejecuta las variables para comprobarlo. En ese orden :)\n",
    "\n",
    "\n",
    "1. mi_variable = \"Economía\"\n",
    "2. otra_var = \"Ejercicio\n",
    "3. True = \"Ejercicio\"\n",
    "4. mi variab1e = \"Alpha\"\n",
    "5. import = 40\n",
    "6. 81mi_variable = \"Agua\"\n",
    "7. mi_variable10 = 6"
   ]
  },
  {
   "cell_type": "code",
   "execution_count": 29,
   "metadata": {},
   "outputs": [
    {
     "name": "stdout",
     "output_type": "stream",
     "text": [
      "1. mi_variable = \"Economía\" >> Está BIEN escrita.\n",
      "2. otra_var = \"Ejercicio >> Está MAL escrita. No se han cerrado las comillas en el valor de la Variable.\n",
      "3. True = \"Ejercicio\" >> Está MAL escrita. La palabra reservada 'True' no se puede utilizar como nombre de Variable.\n",
      "4. mi variab1e = \"Alpha\" >> Está MAL escrita. Una Variable no puede contener espacios.\n",
      "5. import = 40 >> Está MAL escrita. La palabra reservada 'import' no se puede utilizar como nombre de Variable\n",
      "6. 81mi_variable = \"Agua\" >> Está MAL escrita. Una Variable no puede empezar con dígitos\n",
      "7. mi_variable10 = 6 >> Está BIEN escrita.\n"
     ]
    }
   ],
   "source": [
    "print('1. mi_variable = \"Economía\"', \">> Está BIEN escrita.\")\n",
    "mi_variable = \"Economía\"\n",
    "\n",
    "print('2. otra_var = \"Ejercicio', \">> Está MAL escrita. No se han cerrado las comillas en el valor de la Variable.\")\n",
    "# otra_var = \"Ejercicio\n",
    "\n",
    "print('3. True = \"Ejercicio\"', \">> Está MAL escrita. La palabra reservada 'True' no se puede utilizar como nombre de Variable.\")\n",
    "# True = \"Ejercicio\"\n",
    "\n",
    "print('4. mi variab1e = \"Alpha\"', \">> Está MAL escrita. Una Variable no puede contener espacios.\")\n",
    "# mi variab1e = \"Alpha\"\n",
    "\n",
    "print('5. import = 40', \">> Está MAL escrita. La palabra reservada 'import' no se puede utilizar como nombre de Variable\")\n",
    "# import = 40\n",
    "\n",
    "print('6. 81mi_variable = \"Agua\"', \">> Está MAL escrita. Una Variable no puede empezar con dígitos\")\n",
    "# 81mi_variable = \"Agua\"\n",
    "\n",
    "print('7. mi_variable10 = 6', \">> Está BIEN escrita.\")\n",
    "mi_variable10 = 6"
   ]
  },
  {
   "cell_type": "markdown",
   "metadata": {},
   "source": [
    "## Ejercicio 4\n",
    "Realiza un conversor de grados Celsius a Fahrenheit. El conversor tiene que recibir el input del usuario y devolver la conversión.\n",
    "\n",
    "La conversión de grados sigue la siguiente fórmula: F = C × (9 / 5) + 32 "
   ]
  },
  {
   "cell_type": "code",
   "execution_count": 33,
   "metadata": {},
   "outputs": [
    {
     "name": "stdout",
     "output_type": "stream",
     "text": [
      "100.4\n"
     ]
    }
   ],
   "source": [
    "celsius = input(\"Introduce los grados Celsius:\")\n",
    "fahrenheit = (float(celsius) * (9 / 5)) + 32\n",
    "print(fahrenheit)"
   ]
  },
  {
   "cell_type": "markdown",
   "metadata": {},
   "source": [
    "## Ejercicio 5\n",
    "Comenta  el Ejercicio 4. Pon un comentario multilinea y haz comentarios de cada linea de código. Indica cuál es el input y el output de tu código."
   ]
  },
  {
   "cell_type": "code",
   "execution_count": 51,
   "metadata": {},
   "outputs": [
    {
     "name": "stdout",
     "output_type": "stream",
     "text": [
      "Grados Celsius: 37.78 \n",
      "Grados Fahrenheit: 100.004\n"
     ]
    }
   ],
   "source": [
    "'''\n",
    "Este código convierte los grados Celsius a grados Fahrenheit.\n",
    "Y en este ejercicico se deben poner un comentario multilínea y otros comentarios en cada línea de código.\n",
    "'''\n",
    "celsius = input(\"Introduce los grados Celsius:\") # Recibimos como INPUT el dato que proporciona el usuario\n",
    "fahrenheit = (float(celsius) * (9 / 5)) + 32  # Calculamos los grados Fahrenheit\n",
    "print(\"Grados Celsius:\",celsius,\"\\nGrados Fahrenheit:\",fahrenheit) # Imprimimos por pantalla el OUTPUT generado"
   ]
  }
 ],
 "metadata": {
  "kernelspec": {
   "display_name": "Python 3",
   "language": "python",
   "name": "python3"
  },
  "language_info": {
   "codemirror_mode": {
    "name": "ipython",
    "version": 3
   },
   "file_extension": ".py",
   "mimetype": "text/x-python",
   "name": "python",
   "nbconvert_exporter": "python",
   "pygments_lexer": "ipython3",
   "version": "3.11.0"
  },
  "nbTranslate": {
   "displayLangs": [
    "*"
   ],
   "hotkey": "alt-t",
   "langInMainMenu": true,
   "sourceLang": "en",
   "targetLang": "fr",
   "useGoogleTranslate": true
  },
  "varInspector": {
   "cols": {
    "lenName": 16,
    "lenType": 16,
    "lenVar": 40
   },
   "kernels_config": {
    "python": {
     "delete_cmd_postfix": "",
     "delete_cmd_prefix": "del ",
     "library": "var_list.py",
     "varRefreshCmd": "print(var_dic_list())"
    },
    "r": {
     "delete_cmd_postfix": ") ",
     "delete_cmd_prefix": "rm(",
     "library": "var_list.r",
     "varRefreshCmd": "cat(var_dic_list()) "
    }
   },
   "types_to_exclude": [
    "module",
    "function",
    "builtin_function_or_method",
    "instance",
    "_Feature"
   ],
   "window_display": false
  }
 },
 "nbformat": 4,
 "nbformat_minor": 4
}
