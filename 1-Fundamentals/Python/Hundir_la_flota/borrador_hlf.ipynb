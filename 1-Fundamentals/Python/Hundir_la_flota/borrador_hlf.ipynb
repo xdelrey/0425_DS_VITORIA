{
 "cells": [
  {
   "cell_type": "code",
   "execution_count": null,
   "id": "d95dac4b",
   "metadata": {},
   "outputs": [],
   "source": [
    "import numpy as np\n",
    "x = 10\n",
    "tablero_numeros = np.arange(100)\n",
    "tablero_numeros = np.reshape(tablero_numeros, (x,x))\n",
    "print(tablero)"
   ]
  },
  {
   "cell_type": "markdown",
   "id": "a94e4cc3",
   "metadata": {},
   "source": [
    "# PROGRAMA"
   ]
  },
  {
   "cell_type": "markdown",
   "id": "aa0e6466",
   "metadata": {},
   "source": [
    "#### Importar"
   ]
  },
  {
   "cell_type": "code",
   "execution_count": 1,
   "id": "01758158",
   "metadata": {},
   "outputs": [],
   "source": [
    "from utils import *\n",
    "import variables as vr"
   ]
  },
  {
   "cell_type": "markdown",
   "id": "cce84cbb",
   "metadata": {},
   "source": [
    "### Crear tableros vacíos"
   ]
  },
  {
   "cell_type": "code",
   "execution_count": 2,
   "id": "ec4c58a3",
   "metadata": {},
   "outputs": [],
   "source": [
    "#Tablero 1 Jugador (barcos Jug con disparos Rival)\n",
    "tablero_barcos_jugador = crear_tablero()\n",
    "\n",
    "#Tablero 2 Jugador (disparos Jug)\n",
    "tablero_disparos_jugador = crear_tablero()\n",
    "\n",
    "#Tablero 1 Rival (barcos Rival con disparos Jug)\n",
    "tablero_barcos_rival = crear_tablero()\n",
    "\n",
    "#Tablero 2 Rival (disparos Rival)\n",
    "tablero_disparos_rival = crear_tablero()"
   ]
  },
  {
   "cell_type": "markdown",
   "id": "3d60b700",
   "metadata": {},
   "source": [
    "#### Colocar barcos\n"
   ]
  },
  {
   "cell_type": "code",
   "execution_count": 3,
   "id": "1d4b27a5",
   "metadata": {},
   "outputs": [
    {
     "name": "stdout",
     "output_type": "stream",
     "text": [
      "TABLERO BARCOS JUGADOR\n",
      "[['_' '_' '_' '_' '_' '_' '_' '_' '_' 'O']\n",
      " ['_' '_' '_' '_' '_' 'O' 'O' '_' '_' 'O']\n",
      " ['_' '_' '_' '_' '_' 'O' 'O' 'O' '_' '_']\n",
      " ['_' '_' '_' '_' '_' 'O' 'O' '_' '_' '_']\n",
      " ['_' '_' '_' '_' '_' 'O' '_' '_' '_' '_']\n",
      " ['_' '_' '_' '_' '_' 'O' 'O' '_' '_' '_']\n",
      " ['_' '_' '_' '_' '_' 'O' 'O' '_' '_' '_']\n",
      " ['_' '_' '_' '_' '_' '_' 'O' '_' '_' '_']\n",
      " ['_' '_' '_' '_' '_' '_' 'O' '_' '_' '_']\n",
      " ['_' '_' '_' '_' '_' '_' '_' '_' '_' '_']]\n",
      "TABLERO BARCOS RIVAL\n",
      "[['_' '_' '_' '_' '_' '_' '_' '_' '_' '_']\n",
      " ['_' '_' 'O' '_' '_' '_' '_' '_' '_' '_']\n",
      " ['_' '_' 'O' '_' '_' '_' '_' '_' 'O' '_']\n",
      " ['_' '_' 'O' '_' '_' '_' '_' '_' 'O' '_']\n",
      " ['_' '_' '_' '_' '_' '_' '_' '_' 'O' '_']\n",
      " ['_' '_' '_' '_' '_' '_' '_' '_' 'O' '_']\n",
      " ['_' '_' '_' 'O' '_' '_' '_' '_' '_' '_']\n",
      " ['O' 'O' 'O' 'O' '_' '_' '_' '_' 'O' 'O']\n",
      " ['_' '_' '_' '_' '_' '_' 'O' 'O' '_' '_']\n",
      " ['_' '_' '_' '_' '_' '_' '_' '_' '_' '_']]\n"
     ]
    }
   ],
   "source": [
    "barcos_jugador = inicializar_barcos()\n",
    "print(\"TABLERO BARCOS JUGADOR\")\n",
    "print(dibujar_tablero_con_barcos(tablero_barcos_jugador, barcos_jugador))\n",
    "\n",
    "barcos_rival = inicializar_barcos()\n",
    "print(\"TABLERO BARCOS RIVAL\")\n",
    "print(dibujar_tablero_con_barcos(tablero_barcos_rival, barcos_rival))"
   ]
  },
  {
   "cell_type": "code",
   "execution_count": 8,
   "id": "3f73b9c5",
   "metadata": {},
   "outputs": [
    {
     "data": {
      "text/plain": [
       "array([['_', '_', '_', '_', '_', '_', '_', '_', '_', '_'],\n",
       "       ['_', '_', 'X', 'A', '_', '_', '_', '_', '_', '_'],\n",
       "       ['_', '_', 'X', '_', '_', '_', '_', '_', 'O', '_'],\n",
       "       ['_', '_', 'X', '_', 'A', '_', '_', '_', 'O', '_'],\n",
       "       ['_', '_', '_', '_', '_', '_', '_', '_', 'O', '_'],\n",
       "       ['_', '_', '_', '_', '_', '_', '_', '_', 'O', '_'],\n",
       "       ['_', '_', '_', 'O', '_', '_', '_', '_', '_', '_'],\n",
       "       ['O', 'O', 'O', 'O', '_', '_', '_', '_', 'O', 'O'],\n",
       "       ['_', '_', '_', '_', '_', '_', 'O', 'O', '_', '_'],\n",
       "       ['_', '_', '_', '_', '_', '_', '_', '_', '_', '_']], dtype='<U1')"
      ]
     },
     "execution_count": 8,
     "metadata": {},
     "output_type": "execute_result"
    }
   ],
   "source": [
    "disparar((3,2), tablero_barcos_rival)"
   ]
  },
  {
   "cell_type": "code",
   "execution_count": null,
   "id": "4fa31e5a",
   "metadata": {},
   "outputs": [],
   "source": []
  }
 ],
 "metadata": {
  "kernelspec": {
   "display_name": "Python 3",
   "language": "python",
   "name": "python3"
  },
  "language_info": {
   "codemirror_mode": {
    "name": "ipython",
    "version": 3
   },
   "file_extension": ".py",
   "mimetype": "text/x-python",
   "name": "python",
   "nbconvert_exporter": "python",
   "pygments_lexer": "ipython3",
   "version": "3.11.0"
  }
 },
 "nbformat": 4,
 "nbformat_minor": 5
}
