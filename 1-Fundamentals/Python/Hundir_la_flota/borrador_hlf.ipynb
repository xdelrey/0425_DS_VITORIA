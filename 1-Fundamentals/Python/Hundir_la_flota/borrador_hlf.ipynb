{
 "cells": [
  {
   "cell_type": "code",
   "execution_count": 30,
   "id": "d95dac4b",
   "metadata": {},
   "outputs": [
    {
     "name": "stdout",
     "output_type": "stream",
     "text": [
      "[[ 0  1  2  3  4  5  6  7  8  9]\n",
      " [10 11 12 13 14 15 16 17 18 19]\n",
      " [20 21 22 23 24 25 26 27 28 29]\n",
      " [30 31 32 33 34 35 36 37 38 39]\n",
      " [40 41 42 43 44 45 46 47 48 49]\n",
      " [50 51 52 53 54 55 56 57 58 59]\n",
      " [60 61 62 63 64 65 66 67 68 69]\n",
      " [70 71 72 73 74 75 76 77 78 79]\n",
      " [80 81 82 83 84 85 86 87 88 89]\n",
      " [90 91 92 93 94 95 96 97 98 99]]\n"
     ]
    }
   ],
   "source": [
    "import numpy as np\n",
    "x = 10\n",
    "tablero_numeros = np.arange(100)\n",
    "tablero_numeros = np.reshape(tablero_numeros, (x,x))\n",
    "print(tablero)"
   ]
  },
  {
   "cell_type": "markdown",
   "id": "a94e4cc3",
   "metadata": {},
   "source": [
    "# PROGRAMA"
   ]
  },
  {
   "cell_type": "markdown",
   "id": "aa0e6466",
   "metadata": {},
   "source": [
    "#### Importar"
   ]
  },
  {
   "cell_type": "code",
   "execution_count": 14,
   "id": "01758158",
   "metadata": {},
   "outputs": [],
   "source": [
    "from utils import *\n",
    "import variables as vr"
   ]
  },
  {
   "cell_type": "markdown",
   "id": "cce84cbb",
   "metadata": {},
   "source": [
    "### Crear tableros vacíos"
   ]
  },
  {
   "cell_type": "code",
   "execution_count": 15,
   "id": "ec4c58a3",
   "metadata": {},
   "outputs": [],
   "source": [
    "#Tablero 1 Jugador (barcos Jug con disparos Rival)\n",
    "tablero_barcos_jugador = crear_tablero()\n",
    "\n",
    "#Tablero 2 Jugador (disparos Jug)\n",
    "tablero_disparos_jugador = crear_tablero()\n",
    "\n",
    "#Tablero 1 Rival (barcos Rival con disparos Jug)\n",
    "tablero_barcos_rival = crear_tablero()\n",
    "\n",
    "#Tablero 2 Rival (disparos Rival)\n",
    "tablero_disparos_rival = crear_tablero()"
   ]
  },
  {
   "cell_type": "code",
   "execution_count": 16,
   "id": "caf59c10",
   "metadata": {},
   "outputs": [
    {
     "name": "stdout",
     "output_type": "stream",
     "text": [
      "[['_' '_' '_' '_' '_' '_' '_' '_' '_' '_']\n",
      " ['_' '_' '_' '_' '_' '_' '_' '_' '_' '_']\n",
      " ['_' '_' '_' '_' '_' '_' '_' '_' '_' '_']\n",
      " ['_' '_' '_' '_' '_' '_' '_' '_' '_' '_']\n",
      " ['_' '_' '_' '_' '_' '_' '_' '_' '_' '_']\n",
      " ['_' '_' '_' '_' '_' '_' '_' '_' '_' '_']\n",
      " ['_' '_' '_' '_' '_' '_' '_' '_' '_' '_']\n",
      " ['_' '_' '_' '_' '_' '_' '_' '_' '_' '_']\n",
      " ['_' '_' '_' '_' '_' '_' '_' '_' '_' '_']\n",
      " ['_' '_' '_' '_' '_' '_' '_' '_' '_' '_']]\n",
      "[['_' '_' '_' '_' '_' '_' '_' '_' '_' '_']\n",
      " ['_' '_' '_' '_' '_' '_' '_' '_' '_' '_']\n",
      " ['_' '_' '_' '_' '_' '_' '_' '_' '_' '_']\n",
      " ['_' '_' '_' '_' '_' '_' '_' '_' '_' '_']\n",
      " ['_' '_' '_' '_' '_' '_' '_' '_' '_' '_']\n",
      " ['_' '_' '_' '_' '_' '_' '_' '_' '_' '_']\n",
      " ['_' '_' '_' '_' '_' '_' '_' '_' '_' '_']\n",
      " ['_' '_' '_' '_' '_' '_' '_' '_' '_' '_']\n",
      " ['_' '_' '_' '_' '_' '_' '_' '_' '_' '_']\n",
      " ['_' '_' '_' '_' '_' '_' '_' '_' '_' '_']]\n",
      "[['_' '_' '_' '_' '_' '_' '_' '_' '_' '_']\n",
      " ['_' '_' '_' '_' '_' '_' '_' '_' '_' '_']\n",
      " ['_' '_' '_' '_' '_' '_' '_' '_' '_' '_']\n",
      " ['_' '_' '_' '_' '_' '_' '_' '_' '_' '_']\n",
      " ['_' '_' '_' '_' '_' '_' '_' '_' '_' '_']\n",
      " ['_' '_' '_' '_' '_' '_' '_' '_' '_' '_']\n",
      " ['_' '_' '_' '_' '_' '_' '_' '_' '_' '_']\n",
      " ['_' '_' '_' '_' '_' '_' '_' '_' '_' '_']\n",
      " ['_' '_' '_' '_' '_' '_' '_' '_' '_' '_']\n",
      " ['_' '_' '_' '_' '_' '_' '_' '_' '_' '_']]\n",
      "[['_' '_' '_' '_' '_' '_' '_' '_' '_' '_']\n",
      " ['_' '_' '_' '_' '_' '_' '_' '_' '_' '_']\n",
      " ['_' '_' '_' '_' '_' '_' '_' '_' '_' '_']\n",
      " ['_' '_' '_' '_' '_' '_' '_' '_' '_' '_']\n",
      " ['_' '_' '_' '_' '_' '_' '_' '_' '_' '_']\n",
      " ['_' '_' '_' '_' '_' '_' '_' '_' '_' '_']\n",
      " ['_' '_' '_' '_' '_' '_' '_' '_' '_' '_']\n",
      " ['_' '_' '_' '_' '_' '_' '_' '_' '_' '_']\n",
      " ['_' '_' '_' '_' '_' '_' '_' '_' '_' '_']\n",
      " ['_' '_' '_' '_' '_' '_' '_' '_' '_' '_']]\n"
     ]
    }
   ],
   "source": [
    "print(tablero_barcos_jugador)\n",
    "print(tablero_disparos_jugador)\n",
    "print(tablero_barcos_rival)\n",
    "print(tablero_disparos_rival)"
   ]
  },
  {
   "cell_type": "markdown",
   "id": "3d60b700",
   "metadata": {},
   "source": [
    "#### Colocar barcos\n"
   ]
  },
  {
   "cell_type": "code",
   "execution_count": 41,
   "id": "1c450330",
   "metadata": {},
   "outputs": [
    {
     "name": "stdout",
     "output_type": "stream",
     "text": [
      "[['O' '_' '_' '_' '_' '_' '_' '_' '_' '_']\n",
      " ['O' 'O' '_' '_' '_' '_' 'O' 'O' 'O' '_']\n",
      " ['O' 'O' '_' '_' '_' '_' '_' '_' 'O' '_']\n",
      " ['_' 'O' '_' 'O' 'O' '_' '_' '_' '_' '_']\n",
      " ['_' '_' '_' '_' '_' '_' '_' '_' '_' '_']\n",
      " ['_' '_' '_' '_' '_' '_' '_' '_' '_' '_']\n",
      " ['_' '_' '_' '_' '_' '_' '_' '_' '_' '_']\n",
      " ['_' '_' '_' '_' '_' 'O' 'O' 'O' 'O' '_']\n",
      " ['_' '_' '_' '_' '_' '_' '_' '_' '_' '_']\n",
      " ['_' '_' '_' '_' '_' '_' '_' '_' '_' '_']]\n"
     ]
    }
   ],
   "source": [
    "tablero_barcos_jugador = crear_tablero()\n",
    "barcos_eslora = ((3,2),(2,3),(1,4)) # (nº de barcos, longitud del barco)\n",
    "\n",
    "todos_los_barcos = []\n",
    "\n",
    "for num_barcos, eslora in barcos_eslora:\n",
    "    for _ in range(num_barcos):\n",
    "        barco = colocar_barco(eslora)\n",
    "        todos_los_barcos.append(barco)\n",
    "\n",
    "for barco in todos_los_barcos:\n",
    "    tablero_barcos_jugador = dibujar_barco(barco, tablero_barcos_jugador)\n",
    "print(tablero_barcos_jugador)"
   ]
  },
  {
   "cell_type": "code",
   "execution_count": null,
   "id": "a67909dc",
   "metadata": {},
   "outputs": [],
   "source": []
  }
 ],
 "metadata": {
  "kernelspec": {
   "display_name": "Python 3",
   "language": "python",
   "name": "python3"
  },
  "language_info": {
   "codemirror_mode": {
    "name": "ipython",
    "version": 3
   },
   "file_extension": ".py",
   "mimetype": "text/x-python",
   "name": "python",
   "nbconvert_exporter": "python",
   "pygments_lexer": "ipython3",
   "version": "3.11.0"
  }
 },
 "nbformat": 4,
 "nbformat_minor": 5
}
