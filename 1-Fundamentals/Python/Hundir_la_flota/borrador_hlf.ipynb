{
 "cells": [
  {
   "cell_type": "code",
   "execution_count": 5,
   "id": "cc328946",
   "metadata": {},
   "outputs": [],
   "source": [
    "import numpy as np"
   ]
  },
  {
   "cell_type": "code",
   "execution_count": 6,
   "id": "ea05476a",
   "metadata": {},
   "outputs": [
    {
     "name": "stdout",
     "output_type": "stream",
     "text": [
      "[['_' '_' '_' '_' '_' '_' '_' '_' '_' '_']\n",
      " ['_' '_' '_' '_' '_' '_' '_' '_' '_' '_']\n",
      " ['_' '_' '_' '_' '_' '_' '_' '_' '_' '_']\n",
      " ['_' '_' '_' '_' '_' '_' '_' '_' '_' '_']\n",
      " ['_' '_' '_' '_' '_' '_' '_' '_' '_' '_']\n",
      " ['_' '_' '_' '_' '_' '_' '_' '_' '_' '_']\n",
      " ['_' '_' '_' '_' '_' '_' '_' '_' '_' '_']\n",
      " ['_' '_' '_' '_' '_' '_' '_' '_' '_' '_']\n",
      " ['_' '_' '_' '_' '_' '_' '_' '_' '_' '_']\n",
      " ['_' '_' '_' '_' '_' '_' '_' '_' '_' '_']]\n"
     ]
    }
   ],
   "source": [
    "tablero = np.full((10,10), \"_\")\n",
    "print(tablero)"
   ]
  },
  {
   "cell_type": "code",
   "execution_count": 7,
   "id": "ed284f1d",
   "metadata": {},
   "outputs": [
    {
     "name": "stdout",
     "output_type": "stream",
     "text": [
      "[['_' '_' '_' 'O' 'O' 'O' 'O' '_' '_' '_']\n",
      " ['_' '_' '_' '_' '_' '_' '_' '_' '_' '_']\n",
      " ['_' '_' '_' '_' '_' '_' '_' '_' '_' '_']\n",
      " ['_' '_' '_' '_' '_' '_' '_' '_' '_' '_']\n",
      " ['_' '_' '_' '_' '_' '_' '_' '_' '_' '_']\n",
      " ['_' '_' '_' '_' '_' '_' '_' '_' '_' '_']\n",
      " ['_' '_' '_' '_' '_' '_' '_' '_' '_' '_']\n",
      " ['_' '_' '_' '_' '_' '_' '_' '_' '_' '_']\n",
      " ['_' '_' '_' '_' '_' '_' '_' '_' '_' '_']\n",
      " ['_' '_' '_' '_' '_' '_' '_' '_' '_' '_']]\n"
     ]
    }
   ],
   "source": [
    "###### barcos colocados manualmente #####\n",
    "\n",
    "# reseteamos el tablero\n",
    "tablero = np.full((10,10), \"_\")\n",
    "\n",
    "# ponemos sólo el extremo de cada barco\n",
    "tablero[0,3] = \"O\"\n",
    "tablero[0,4] = \"O\"\n",
    "tablero[0,5] = \"O\"\n",
    "tablero[0,6] = \"O\"\n",
    "print(tablero)"
   ]
  },
  {
   "cell_type": "code",
   "execution_count": 8,
   "id": "13dd5538",
   "metadata": {},
   "outputs": [
    {
     "name": "stdout",
     "output_type": "stream",
     "text": [
      "[['_' '_' '_' 'O' 'O' 'O' 'O' '_' '_' '_']\n",
      " ['_' '_' '_' '_' '_' '_' '_' '_' '_' '_']\n",
      " ['_' '_' '_' '_' '_' '_' '_' '_' '_' '_']\n",
      " ['_' '_' '_' '_' '_' '_' '_' '_' '_' '_']\n",
      " ['_' '_' '_' '_' '_' '_' '_' '_' '_' '_']\n",
      " ['_' '_' '_' '_' '_' '_' '_' '_' '_' '_']\n",
      " ['_' '_' '_' '_' '_' '_' '_' '_' '_' '_']\n",
      " ['_' '_' '_' '_' '_' '_' '_' '_' '_' '_']\n",
      " ['_' '_' '_' '_' '_' '_' '_' '_' '_' '_']\n",
      " ['_' '_' '_' '_' '_' '_' '_' '_' '_' '_']]\n"
     ]
    }
   ],
   "source": [
    "###### barcos colocados manualmente #####\n",
    "\n",
    "# reseteamos el tablero\n",
    "tablero = np.full((10,10), \"_\")\n",
    "\n",
    "# colocamos los barcos desde lista\n",
    "barco = [[0,3], [0,4], [0,5], [0,6]]\n",
    "\n",
    "for i in barco:\n",
    "    tablero[i[0],i[1]]= \"O\"\n",
    "\n",
    "print(tablero)"
   ]
  },
  {
   "cell_type": "code",
   "execution_count": 9,
   "id": "a9451628",
   "metadata": {},
   "outputs": [],
   "source": [
    "#### definimos una función para colocar los barcos automáticamente\n",
    "\n",
    "def colocar_barco(barco):\n",
    "    # colocamos los barcos desde lista\n",
    "    barco = [[0,3], [0,4], [0,5], [0,6]]\n",
    "\n",
    "    for i in barco:\n",
    "        tablero[i[0],i[1]]= \"O\"\n",
    "\n",
    "    print(tablero)"
   ]
  },
  {
   "cell_type": "code",
   "execution_count": 10,
   "id": "82ba2d38",
   "metadata": {},
   "outputs": [
    {
     "name": "stdout",
     "output_type": "stream",
     "text": [
      "[['_' '_' '_' 'O' 'O' 'O' 'O' '_' '_' '_']\n",
      " ['_' '_' '_' '_' '_' '_' '_' '_' '_' '_']\n",
      " ['_' '_' '_' '_' '_' '_' '_' '_' '_' '_']\n",
      " ['_' '_' '_' '_' '_' '_' '_' '_' '_' '_']\n",
      " ['_' '_' '_' '_' '_' '_' '_' '_' '_' '_']\n",
      " ['_' '_' '_' '_' '_' '_' '_' '_' '_' '_']\n",
      " ['_' '_' '_' '_' '_' '_' '_' '_' '_' '_']\n",
      " ['_' '_' '_' '_' '_' '_' '_' '_' '_' '_']\n",
      " ['_' '_' '_' '_' '_' '_' '_' '_' '_' '_']\n",
      " ['_' '_' '_' '_' '_' '_' '_' '_' '_' '_']]\n",
      "[['_' '_' '_' 'O' 'O' 'O' 'O' '_' '_' '_']\n",
      " ['_' '_' '_' '_' '_' '_' '_' '_' '_' '_']\n",
      " ['_' '_' '_' '_' '_' '_' '_' '_' '_' '_']\n",
      " ['_' '_' '_' '_' '_' '_' '_' '_' '_' '_']\n",
      " ['_' '_' '_' '_' '_' '_' '_' '_' '_' '_']\n",
      " ['_' '_' '_' '_' '_' '_' '_' '_' '_' '_']\n",
      " ['_' '_' '_' '_' '_' '_' '_' '_' '_' '_']\n",
      " ['_' '_' '_' '_' '_' '_' '_' '_' '_' '_']\n",
      " ['_' '_' '_' '_' '_' '_' '_' '_' '_' '_']\n",
      " ['_' '_' '_' '_' '_' '_' '_' '_' '_' '_']]\n"
     ]
    }
   ],
   "source": [
    "##### definimos los barcos\n",
    "barco_1 = [[0,3], [0,4], [0,5], [0,6]]\n",
    "barco_2 = [[4,7], [5,7], [6,7]]\n",
    "\n",
    "colocar_barco(barco_1)\n",
    "colocar_barco(barco_2)"
   ]
  },
  {
   "cell_type": "code",
   "execution_count": 11,
   "id": "63185a96",
   "metadata": {},
   "outputs": [
    {
     "name": "stdout",
     "output_type": "stream",
     "text": [
      "[['_' '_' '_' 'O' 'O' 'O' 'O' '_' '_' '_']\n",
      " ['_' '_' '_' '_' '_' '_' '_' 'O' '_' '_']\n",
      " ['_' '_' '_' '_' '_' '_' '_' '_' '_' '_']\n",
      " ['_' '_' '_' '_' '_' '_' '_' '_' '_' '_']\n",
      " ['_' '_' '_' '_' '_' '_' '_' 'O' '_' '_']\n",
      " ['_' '_' '_' '_' '_' '_' '_' 'O' '_' '_']\n",
      " ['_' '_' '_' '_' '_' '_' '_' 'O' '_' '_']\n",
      " ['_' '_' '_' '_' '_' '_' '_' '_' '_' '_']\n",
      " ['_' '_' '_' '_' '_' '_' '_' '_' 'O' 'O']\n",
      " ['_' '_' '_' '_' '_' '_' '_' '_' '_' '_']]\n"
     ]
    }
   ],
   "source": [
    "\n",
    "\n",
    "barco_jugador = [[[0,3], [0,4], [0,5], [0,6]], [[4,7], [5,7], [6,7]], [[8,8], [8,9]], [[1,7]]]\n",
    "\n",
    "for i in barco_jugador:\n",
    "    for j in i:\n",
    "        tablero[j[0], j[1]] = 'O'\n",
    "\n",
    "print(tablero)\n"
   ]
  },
  {
   "cell_type": "code",
   "execution_count": 12,
   "id": "b9373d96",
   "metadata": {},
   "outputs": [
    {
     "ename": "TypeError",
     "evalue": "colocar_barco() takes 1 positional argument but 2 were given",
     "output_type": "error",
     "traceback": [
      "\u001b[31m---------------------------------------------------------------------------\u001b[39m",
      "\u001b[31mTypeError\u001b[39m                                 Traceback (most recent call last)",
      "\u001b[36mCell\u001b[39m\u001b[36m \u001b[39m\u001b[32mIn[12]\u001b[39m\u001b[32m, line 6\u001b[39m\n\u001b[32m      2\u001b[39m \u001b[38;5;28;01mimport\u001b[39;00m\u001b[38;5;250m \u001b[39m\u001b[34;01mvariables\u001b[39;00m\u001b[38;5;250m \u001b[39m\u001b[38;5;28;01mas\u001b[39;00m\u001b[38;5;250m \u001b[39m\u001b[34;01mvr\u001b[39;00m\n\u001b[32m      4\u001b[39m tablero_jugador = utils.crear_tablero()\n\u001b[32m----> \u001b[39m\u001b[32m6\u001b[39m tablero_modificado = \u001b[43mutils\u001b[49m\u001b[43m.\u001b[49m\u001b[43mcolocar_barco\u001b[49m\u001b[43m(\u001b[49m\u001b[43mvr\u001b[49m\u001b[43m.\u001b[49m\u001b[43mbarco_jugador\u001b[49m\u001b[43m,\u001b[49m\u001b[43m \u001b[49m\u001b[43mtablero_jugador\u001b[49m\u001b[43m)\u001b[49m\n\u001b[32m      7\u001b[39m \u001b[38;5;66;03m#print(tablero_jugador)\u001b[39;00m\n\u001b[32m      8\u001b[39m \n\u001b[32m      9\u001b[39m \u001b[38;5;66;03m# disparar\u001b[39;00m\n\u001b[32m     10\u001b[39m \u001b[38;5;28;01mdef\u001b[39;00m\u001b[38;5;250m \u001b[39m\u001b[34mdisparar\u001b[39m(casilla,tablero):\n",
      "\u001b[31mTypeError\u001b[39m: colocar_barco() takes 1 positional argument but 2 were given"
     ]
    }
   ],
   "source": [
    "import utils\n",
    "import variables as vr\n",
    "\n",
    "tablero_jugador = utils.crear_tablero()\n",
    "\n",
    "tablero_modificado = utils.colocar_barco(vr.barco_jugador, tablero_jugador)\n",
    "#print(tablero_jugador)\n",
    "\n",
    "# disparar\n",
    "def disparar(casilla,tablero):\n",
    "    if tablero[casilla] in ('O', 'X'):\n",
    "        tablero[casilla] = \"X\"\n",
    "    elif tablero[casilla] in (\"_\", 'A'):\n",
    "        tablero[casilla] = \"A\"\n",
    "    return tablero\n",
    "\n",
    "print(disparar((1,3), tablero_en_curso))\n"
   ]
  },
  {
   "cell_type": "code",
   "execution_count": null,
   "id": "2e04518e",
   "metadata": {},
   "outputs": [],
   "source": [
    "#def crear_barco(eslora):\n",
    "#   barco = np.arange(eslora)\n",
    "import numpy as np\n",
    "\n",
    "# casilla inicial aleatoria\n",
    "eslora = 3\n",
    "casilla_inicial = [np.random.randint(0, 10, 2)]\n",
    "print(type(casilla_inicial), casilla_inicial)\n",
    "# p.ej. [0 8]\n",
    "\n",
    "# extiendo a derecha\n",
    "barco = np.append([],casilla_inicial)\n",
    "#barco = [[0,8],[0,9]]\n",
    "print(barco)"
   ]
  },
  {
   "cell_type": "code",
   "execution_count": null,
   "id": "303c71d9",
   "metadata": {},
   "outputs": [
    {
     "name": "stdout",
     "output_type": "stream",
     "text": [
      "Casilla inicial válida: True\n"
     ]
    }
   ],
   "source": [
    "# función que calcula si la casilla inicial es válida para un barco de una longitud y una dirección (vertical/horiz.) dadas\n",
    "def validar_casilla_inicial(casilla, eslora, es_vertical, tablero = 10):\n",
    "    if (0 <= casilla[0] <= (tablero - 1)) and (0 <= casilla[1] <= (tablero - 1)):\n",
    "        if es_vertical:\n",
    "            if (casilla[0] + eslora - 1) < tablero:\n",
    "                casilla_valida = True\n",
    "            else:\n",
    "                casilla_valida = False\n",
    "        else:\n",
    "            if (casilla[1] + eslora - 1) < tablero:\n",
    "                casilla_valida = True\n",
    "            else:\n",
    "                casilla_valida = False\n",
    "    else:\n",
    "        print(\"¡La casilla inicial debe estar dentro del Tablero!\")\n",
    "        casilla_valida = False\n",
    "    return casilla_valida\n",
    "\n",
    "print(\"Casilla inicial válida:\", validar_casilla_inicial((3,2), 2, False, 6))"
   ]
  },
  {
   "cell_type": "code",
   "execution_count": null,
   "id": "dc5789c6",
   "metadata": {},
   "outputs": [
    {
     "data": {
      "text/plain": [
       "array(['O', 'O'], dtype='<U1')"
      ]
     },
     "execution_count": 86,
     "metadata": {},
     "output_type": "execute_result"
    }
   ],
   "source": [
    "# crear barcos\n",
    "def crear_barco(eslora):\n",
    "    barco = np.full(eslora, \"O\")\n",
    "    return (barco)\n",
    "\n",
    "barco_1 = crear_barco(2)\n",
    "barco_2 = crear_barco(2)\n",
    "barco_3 = crear_barco(2)\n",
    "barco_4 = crear_barco(3)\n",
    "barco_5 = crear_barco(3)\n",
    "barco_6 = crear_barco(4)\n",
    "\n",
    "barco_1"
   ]
  },
  {
   "cell_type": "code",
   "execution_count": null,
   "id": "6d58915d",
   "metadata": {},
   "outputs": [],
   "source": [
    "\n",
    "def colocar_barco (barco):\n",
    "    eslora = len(barco)\n",
    "    casilla_valida = False\n",
    "    coordenadas = []\n",
    "\n",
    "    # obtengo una casilla inicial y una dirección válidas para la longitud del barco\n",
    "    while not casilla_valida:\n",
    "        casilla_inicial = np.random.randint(0, tamano_tablero, 2) # casilla inicial aleatoria\n",
    "        direccion = np.random.randint(0,2) # obtengo una dirección (horizontal o vertical) aleatoriamente\n",
    "        # 0: horizontal, 1: vertical\n",
    "        casilla_valida = validar_casilla_inicial(casilla_inicial, eslora, direccion)\n",
    "    #print(\"casilla inicial:\", casilla_inicial, \"vertical?\", direccion, \"eslora\", eslora)\n",
    "\n",
    "    # convierto la casilla inicial en la primera casilla del barco a colocar\n",
    "    coordenadas.append(casilla_inicial.tolist())\n",
    "    \n",
    "    # calculo la localización del barco en el tablero\n",
    "    fila_sgte = coordenadas[0][0]\n",
    "    columna_sgte = coordenadas[0][1]\n",
    "    #print(\"antes del for:\", coordenadas,\"fila y columna:\", fila_sgte, columna_sgte)\n",
    "\n",
    "    for i in range(1, eslora): #desde 1 hasta eslora-1\n",
    "        if direccion: #direccion = 1, es vertical\n",
    "            fila_sgte = fila_sgte + 1 # Vertical, Aumentamos la fila\n",
    "        else: # direccion = 0, es horizontal\n",
    "            columna_sgte = columna_sgte + 1 # Horizontal, Aumentamos la columna\n",
    "        celda_siguiente = [fila_sgte, columna_sgte]\n",
    "        coordenadas.append(celda_siguiente)\n",
    "\n",
    "    #print(\"después del for:\", coordenadas)\n",
    "\n",
    "    barco_colocado = np.array(coordenadas) # convierto la lista en un array de numpy\n",
    "    return barco_colocado"
   ]
  },
  {
   "cell_type": "code",
   "execution_count": null,
   "id": "c3bcfed7",
   "metadata": {},
   "outputs": [
    {
     "name": "stdout",
     "output_type": "stream",
     "text": [
      "[[5 6]\n",
      " [6 6]\n",
      " [7 6]\n",
      " [8 6]]\n"
     ]
    }
   ],
   "source": [
    "print(colocar_barco(barco_6))"
   ]
  },
  {
   "cell_type": "code",
   "execution_count": null,
   "id": "d95dac4b",
   "metadata": {},
   "outputs": [
    {
     "name": "stdout",
     "output_type": "stream",
     "text": [
      "[[ 0  1  2  3  4  5  6  7  8  9]\n",
      " [10 11 12 13 14 15 16 17 18 19]\n",
      " [20 21 22 23 24 25 26 27 28 29]\n",
      " [30 31 32 33 34 35 36 37 38 39]\n",
      " [40 41 42 43 44 45 46 47 48 49]\n",
      " [50 51 52 53 54 55 56 57 58 59]\n",
      " [60 61 62 63 64 65 66 67 68 69]\n",
      " [70 71 72 73 74 75 76 77 78 79]\n",
      " [80 81 82 83 84 85 86 87 88 89]\n",
      " [90 91 92 93 94 95 96 97 98 99]]\n"
     ]
    }
   ],
   "source": [
    "import numpy as np\n",
    "x = 10\n",
    "tablero = np.arange(100)\n",
    "tablero = np.reshape(tablero, (x,x))\n",
    "print(tablero)"
   ]
  },
  {
   "cell_type": "code",
   "execution_count": null,
   "id": "aa87b9c9",
   "metadata": {},
   "outputs": [],
   "source": [
    "import utils\n",
    "import variables as vr"
   ]
  },
  {
   "cell_type": "code",
   "execution_count": null,
   "id": "76d9b5f3",
   "metadata": {},
   "outputs": [
    {
     "ename": "NameError",
     "evalue": "name 'crear_barco' is not defined",
     "output_type": "error",
     "traceback": [
      "\u001b[31m---------------------------------------------------------------------------\u001b[39m",
      "\u001b[31mNameError\u001b[39m                                 Traceback (most recent call last)",
      "\u001b[36mCell\u001b[39m\u001b[36m \u001b[39m\u001b[32mIn[4]\u001b[39m\u001b[32m, line 1\u001b[39m\n\u001b[32m----> \u001b[39m\u001b[32m1\u001b[39m barco_1 = \u001b[43mcrear_barco\u001b[49m(\u001b[32m2\u001b[39m)\n\u001b[32m      2\u001b[39m barco_2 = crear_barco(\u001b[32m2\u001b[39m)\n\u001b[32m      3\u001b[39m barco_3 = crear_barco(\u001b[32m2\u001b[39m)\n",
      "\u001b[31mNameError\u001b[39m: name 'crear_barco' is not defined"
     ]
    }
   ],
   "source": [
    "barco_1 = crear_barco(2)\n",
    "barco_2 = crear_barco(2)\n",
    "barco_3 = crear_barco(2)\n",
    "barco_4 = crear_barco(3)\n",
    "barco_5 = crear_barco(3)\n",
    "barco_6 = crear_barco(4)"
   ]
  },
  {
   "cell_type": "code",
   "execution_count": null,
   "id": "ce3e28e4",
   "metadata": {},
   "outputs": [
    {
     "name": "stdout",
     "output_type": "stream",
     "text": [
      "----------\n"
     ]
    },
    {
     "ename": "AttributeError",
     "evalue": "module 'utils' has no attribute 'dibujar_barco'",
     "output_type": "error",
     "traceback": [
      "\u001b[31m---------------------------------------------------------------------------\u001b[39m",
      "\u001b[31mAttributeError\u001b[39m                            Traceback (most recent call last)",
      "\u001b[36mCell\u001b[39m\u001b[36m \u001b[39m\u001b[32mIn[117]\u001b[39m\u001b[32m, line 5\u001b[39m\n\u001b[32m      2\u001b[39m tablero_rival = utils.crear_tablero()\n\u001b[32m      3\u001b[39m \u001b[38;5;28mprint\u001b[39m(\u001b[33m\"\u001b[39m\u001b[33m-\u001b[39m\u001b[33m\"\u001b[39m*\u001b[32m10\u001b[39m)\n\u001b[32m----> \u001b[39m\u001b[32m5\u001b[39m tablero_modificado = \u001b[43mutils\u001b[49m\u001b[43m.\u001b[49m\u001b[43mdibujar_barco\u001b[49m(vr.barco_1, tablero_jugador)\n\u001b[32m      6\u001b[39m \u001b[38;5;28mprint\u001b[39m(tablero_jugador)\n\u001b[32m      8\u001b[39m \u001b[38;5;28mprint\u001b[39m(\u001b[33m\"\u001b[39m\u001b[33m-\u001b[39m\u001b[33m\"\u001b[39m*\u001b[32m10\u001b[39m)\n",
      "\u001b[31mAttributeError\u001b[39m: module 'utils' has no attribute 'dibujar_barco'"
     ]
    }
   ],
   "source": [
    "tablero_jugador = utils.crear_tablero()\n",
    "tablero_rival = utils.crear_tablero()\n",
    "print(\"-\"*10)\n",
    "\n",
    "tablero_modificado = utils.dibujar_barco(vr.barco_1, tablero_jugador)\n",
    "print(tablero_jugador)\n",
    "\n",
    "print(\"-\"*10)\n",
    "\n",
    "utils.disparar((0,2), tablero_modificado)\n",
    "print(tablero_jugador)\n",
    "\n",
    "utils.validar_casilla_inicial()"
   ]
  }
 ],
 "metadata": {
  "kernelspec": {
   "display_name": "Python 3",
   "language": "python",
   "name": "python3"
  },
  "language_info": {
   "codemirror_mode": {
    "name": "ipython",
    "version": 3
   },
   "file_extension": ".py",
   "mimetype": "text/x-python",
   "name": "python",
   "nbconvert_exporter": "python",
   "pygments_lexer": "ipython3",
   "version": "3.11.0"
  }
 },
 "nbformat": 4,
 "nbformat_minor": 5
}
