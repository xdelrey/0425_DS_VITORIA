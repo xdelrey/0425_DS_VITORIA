{
  "cells": [
    {
      "cell_type": "markdown",
      "metadata": {
        "id": "AyOlWS2nRWxH"
      },
      "source": [
        "## PRACTICA OBLIGATORIA: COLECCIONES Y FUNCIONES"
      ]
    },
    {
      "cell_type": "markdown",
      "metadata": {
        "id": "6UOgb0KVRWxH"
      },
      "source": [
        "* La práctica obligatoria de esta unidad consiste varios ejercicios de programación libre a completar sobre Colecciones y Funciones. Descarga este notebook en tu ordenador y trabaja en local.  \n",
        "* Recuerda que debes subirla a tu repositorio personal antes de la sesión en vivo para que puntúe adecuadamente y puedas participar en dicha sesión.  \n",
        "* Recuerda también que no es necesario que esté perfecta, sólo es necesario que se vea el esfuerzo.\n",
        "* Esta práctica se resolverá en la sesión en vivo correspondiente y la solución se publicará en el repo del curso."
      ]
    },
    {
      "cell_type": "markdown",
      "metadata": {
        "id": "j3yu-tEjRWxH"
      },
      "source": [
        "### Contenidos"
      ]
    },
    {
      "cell_type": "markdown",
      "metadata": {
        "id": "kO-fLH39RWxH"
      },
      "source": [
        "## Ejercicio 1\n",
        "Eleva todos los elementos de la lista al cuadrado\n",
        "> ```ejer_2 = [1,2,3,4,5]```"
      ]
    },
    {
      "cell_type": "code",
      "execution_count": 43,
      "metadata": {
        "id": "ks5l3yi7RWxH"
      },
      "outputs": [
        {
          "data": {
            "text/plain": [
              "[1, 4, 9, 16, 25]"
            ]
          },
          "execution_count": 43,
          "metadata": {},
          "output_type": "execute_result"
        }
      ],
      "source": [
        "# declaración de variables\n",
        "ejer_2 = [1,2,3,4,5]\n",
        "\n",
        "# declaración de la función para elevar al cuadrado los elementos de una lista\n",
        "def cuadrado(lista):\n",
        "    lista_cuadrados = []\n",
        "    for i in lista:\n",
        "        i = i * i\n",
        "        lista_cuadrados.append(i)\n",
        "    return lista_cuadrados\n",
        "\n",
        "# ejecución\n",
        "cuadrado(ejer_2)"
      ]
    },
    {
      "cell_type": "markdown",
      "metadata": {
        "id": "kI_Xr5oFRWxI"
      },
      "source": [
        "## Ejercicio 2\n",
        "Haz un programa que detecte todos los duplicados de un elemento en una lista:\n",
        "* Utiliza una variable duplicado para asignarle el valor del elemento del que queremos encontrar todos sus duplicados.\n",
        "* El programa debe devolver todos los índices de los elementos duplicados.\n",
        "* Aplícalo para encontrar los duplicados de \"un\", \"es\" y \"binario\" de:  \n",
        "\n",
        ">```ejer_3 = [\"Un\", \"árbol\", \"binario\", \"es\", \"una\", \"estructura\", \"de\", \"un\", \"tipo\", \"particular\", \"a\", \"veces\", \"no\", \"es\", \"ni\", \"binario\"]```\n"
      ]
    },
    {
      "cell_type": "code",
      "execution_count": 44,
      "metadata": {
        "id": "cLY9WB7YRWxI"
      },
      "outputs": [
        {
          "name": "stdout",
          "output_type": "stream",
          "text": [
            "Duplicados de \"un\": [7]\n",
            "Duplicados de \"es\": [3, 13]\n",
            "Duplicados de \"binario\": [2, 15]\n"
          ]
        }
      ],
      "source": [
        "# declaración de variables\n",
        "ejer_3 = [\"Un\", \"árbol\", \"binario\", \"es\", \"una\", \"estructura\", \"de\", \"un\", \"tipo\", \"particular\", \"a\", \"veces\", \"no\", \"es\", \"ni\", \"binario\"]\n",
        "lista_a_encontrar = [\"un\", \"es\", \"binario\"]\n",
        "\n",
        "# declaración de funciones\n",
        "def encontrar_duplicados(lista, duplicado):\n",
        "    indices = []\n",
        "    for i in range(len(lista)): # recorro los índices de lista en lugar de los valores\n",
        "        if lista[i] == duplicado:\n",
        "            indices.append(i)\n",
        "    return indices\n",
        "\n",
        "# ejecutar el programa\n",
        "for i in lista_a_encontrar:\n",
        "    print(f'Duplicados de \"{i}\": {encontrar_duplicados(ejer_3,i)}')"
      ]
    },
    {
      "cell_type": "markdown",
      "metadata": {
        "id": "3WrBd5QaRWxI"
      },
      "source": [
        "## Ejercicio 3\n",
        "1. ¿Cuántas veces se repite el 3 en la siguiente tupla?\n",
        "2. Crea una tupla nueva con los elementos desde la posicion 5 a la 10.\n",
        "3. ¿Cuántos elementos tiene la tupla `ejer_3`?\n",
        "> ```ejer_9 = (3, 20, 3, 47, 19, 3, 29, 45, 67, 78, 90, 3, 3, 5, 2, 4, 7, 9, 4, 2, 4, 3, 3, 4, 6, 7)```"
      ]
    },
    {
      "cell_type": "code",
      "execution_count": 45,
      "metadata": {
        "id": "bkv_R5LYRWxI"
      },
      "outputs": [
        {
          "name": "stdout",
          "output_type": "stream",
          "text": [
            "1. ¿Cuántas veces se repite el 3 en la siguiente tupla?\n",
            "(3, 20, 3, 47, 19, 3, 29, 45, 67, 78, 90, 3, 3, 5, 2, 4, 7, 9, 4, 2, 4, 3, 3, 4, 6, 7)\n",
            "    El 3 se repite 7 veces.\n",
            "\n",
            "2. Crea una tupla nueva con los elementos desde la posicion 5 a la 10.\n",
            "    (3, 29, 45, 67, 78, 90)\n",
            "\n",
            "3. ¿Cuántos elementos tiene la tupla?\n",
            "    26\n"
          ]
        }
      ],
      "source": [
        "# declaración de variables\n",
        "ejer_9 = (3, 20, 3, 47, 19, 3, 29, 45, 67, 78, 90, 3, 3, 5, 2, 4, 7, 9, 4, 2, 4, 3, 3, 4, 6, 7)\n",
        "elemento_buscado = 3\n",
        "posicion_inicial = 5\n",
        "posicion_final = 10\n",
        "\n",
        "# declaración de funciones\n",
        "def recortar_tupla(tupla, desde, hasta):\n",
        "    lista = []\n",
        "    for i in range(desde, (hasta + 1)):\n",
        "        lista.append(tupla[i])\n",
        "    recorte = tuple(lista)\n",
        "    return(recorte)\n",
        "\n",
        "#1. ¿Cuántas veces se repite el 3 en la siguiente tupla?\n",
        "print(\"1. ¿Cuántas veces se repite el 3 en la siguiente tupla?\")\n",
        "print(ejer_9)\n",
        "print(f\"    El {elemento_buscado} se repite {len(encontrar_duplicados(ejer_9, elemento_buscado))} veces.\\n\")\n",
        "\n",
        "#2. Crea una tupla nueva con los elementos desde la posicion 5 a la 10.\n",
        "print(\"2. Crea una tupla nueva con los elementos desde la posicion 5 a la 10.\")\n",
        "print(f\"    {recortar_tupla(ejer_9, posicion_inicial, posicion_final)}\\n\")\n",
        "\n",
        "#3. ¿Cuántos elementos tiene la tupla `ejer_3`?\n",
        "# >> entiendo que se refiere a la tupla ejer_9, que es la que estamos trabajando <<\n",
        "print(\"3. ¿Cuántos elementos tiene la tupla?\")\n",
        "print(f\"    {len(ejer_9)}\")"
      ]
    },
    {
      "cell_type": "markdown",
      "metadata": {
        "id": "6g8Y54AeRWxI"
      },
      "source": [
        "## Ejercicio 4\n",
        "Comprueba si el numero 60 esta en la tupla del ejercicio 3"
      ]
    },
    {
      "cell_type": "code",
      "execution_count": 46,
      "metadata": {
        "id": "F8VTEZonRWxI"
      },
      "outputs": [
        {
          "name": "stdout",
          "output_type": "stream",
          "text": [
            "Tupla: (3, 20, 3, 47, 19, 3, 29, 45, 67, 78, 90, 3, 3, 5, 2, 4, 7, 9, 4, 2, 4, 3, 3, 4, 6, 7)\n",
            "Elemento buscado: 60\n",
            "\n",
            ":-( El elemento 60 no se encuentra en la tupla\n"
          ]
        }
      ],
      "source": [
        "# declaración de variables\n",
        "elemento_buscado = 60\n",
        "\n",
        "# declaración de funciones\n",
        "def encontrar_elemento(tupla, elemento):\n",
        "    resultado = False\n",
        "    for i in range(len(tupla)): # recorro los índices de lista en lugar de los valores\n",
        "        if tupla[i] == elemento:\n",
        "            resultado = True\n",
        "            break\n",
        "    return resultado\n",
        "\n",
        "# ejecución del programa\n",
        "print(f\"Tupla: {ejer_9}\")\n",
        "print(f\"Elemento buscado: {elemento_buscado}\")\n",
        "if encontrar_elemento(ejer_9,elemento_buscado):\n",
        "    print(f\"\\n:-) El elemento {elemento_buscado} sí se encuentra en la tupla\")\n",
        "else:\n",
        "    print(f\"\\n:-( El elemento {elemento_buscado} no se encuentra en la tupla\")\n",
        "\n",
        "# NOTA ################################################################################\n",
        "# Se podría haber conseguido lo mismo de una manera mucho más sencilla:\n",
        "# > if elemento_buscado in ejer_9:\n",
        "# >     print(f\"\\n:-) El elemento {elemento_buscado} sí se encuentra en la tupla\")\n",
        "# > else:\n",
        "# >     print(f\"\\n:-( El elemento {elemento_buscado} no se encuentra en la tupla\")\n",
        "#########################################################################################"
      ]
    },
    {
      "cell_type": "markdown",
      "metadata": {
        "id": "y0fg-ZA6RWxI"
      },
      "source": [
        "## Ejercicio 5\n",
        "1. Convierte la tupla del ejercicio 3 en una lista\n",
        "2. Convierte la tupla del ejercicio 3 en un set\n",
        "3. Convierte la tupla del ejercicio 3 en un diccionario. Usa también los indices"
      ]
    },
    {
      "cell_type": "code",
      "execution_count": 47,
      "metadata": {
        "id": "_O5hXr01RWxI"
      },
      "outputs": [
        {
          "name": "stdout",
          "output_type": "stream",
          "text": [
            "Lista: [3, 20, 3, 47, 19, 3, 29, 45, 67, 78, 90, 3, 3, 5, 2, 4, 7, 9, 4, 2, 4, 3, 3, 4, 6, 7]\n",
            "Set: {2, 3, 67, 5, 4, 7, 6, 9, 45, 78, 47, 19, 20, 90, 29}\n",
            "Diccionario: {0: 3, 1: 20, 2: 3, 3: 47, 4: 19, 5: 3, 6: 29, 7: 45, 8: 67, 9: 78, 10: 90, 11: 3, 12: 3, 13: 5, 14: 2, 15: 4, 16: 7, 17: 9, 18: 4, 19: 2, 20: 4, 21: 3, 22: 3, 23: 4, 24: 6, 25: 7}\n"
          ]
        }
      ],
      "source": [
        "#1. Convierte la tupla del ejercicio 3 en una lista\n",
        "lista_de_tupla = list(ejer_9)\n",
        "print(\"Lista:\",lista_de_tupla)\n",
        "\n",
        "#2. Convierte la tupla del ejercicio 3 en un set\n",
        "set_de_tupla = set(ejer_9)\n",
        "print(\"Set:\",set_de_tupla)\n",
        "\n",
        "#3. Convierte la tupla del ejercicio 3 en un diccionario. Usa también los indices\n",
        "dicc_de_tupla = {}\n",
        "\n",
        "for indice, valor in enumerate(ejer_9):\n",
        "    dicc_de_tupla[indice] = valor\n",
        "\n",
        "print(\"Diccionario:\",dicc_de_tupla)"
      ]
    },
    {
      "cell_type": "markdown",
      "metadata": {
        "id": "eOdWWbxvRWxJ"
      },
      "source": [
        "## Ejercicio 6\n",
        "Multiplica todos los valores del diccionario\n",
        "> ```ejer_6 = {1: 11, 2: 22, 3: 33, 4: 44, 5: 55}```"
      ]
    },
    {
      "cell_type": "code",
      "execution_count": 48,
      "metadata": {
        "id": "KcuByovKRWxJ"
      },
      "outputs": [
        {
          "data": {
            "text/plain": [
              "19326120"
            ]
          },
          "execution_count": 48,
          "metadata": {},
          "output_type": "execute_result"
        }
      ],
      "source": [
        "# declaración de variables\n",
        "ejer_6 = {1: 11, 2: 22, 3: 33, 4: 44, 5: 55}\n",
        "\n",
        "def multiplicar_valores(dicc):\n",
        "    resultado = 1\n",
        "    for i, j in dicc.items():\n",
        "        resultado = resultado * j\n",
        "    return resultado\n",
        "\n",
        "multiplicar_valores(ejer_6)"
      ]
    },
    {
      "cell_type": "markdown",
      "metadata": {
        "id": "W7TUSaKRRWxJ"
      },
      "source": [
        "## Ejercicio 7\n",
        "\n",
        "1. Crea un diccionario que describa un libro, con los siguientes campos o claves: \"titulo\",\"autor\",\"idioma original\",\"año de publicación\".\n",
        "2. Crea un a lista, llamada librería.\n",
        "3. Añade cuatro libros a tu elección a la librería."
      ]
    },
    {
      "cell_type": "code",
      "execution_count": 49,
      "metadata": {
        "id": "d-IMRvxRRWxJ"
      },
      "outputs": [
        {
          "name": "stdout",
          "output_type": "stream",
          "text": [
            "1. Crea un diccionario que describa un libro:\n",
            "{'título': '', 'autor': '', 'idioma original': '', 'año de publicación': ''}\n",
            "\n",
            "2. Crea una lista, llamada librería:\n",
            "<class 'list'>\n",
            "\n",
            "3. Añade cuatro libros a tu elección a la librería.\n",
            "[{'título': 'Frankenstein o el moderno Prometeo', 'autor': 'Mary Shelley', 'idioma original': 'Inglés', 'año de publicación': 1818}, {'título': '2001: Una odisea del espacio', 'autor': 'Arthur C. Clarke', 'idioma original': 'Inglés', 'año de publicación': 1968}, {'título': '¿Sueñan los androides con ovejas eléctricas?', 'autor': 'Philip K. Dick', 'idioma original': 'Inglés', 'año de publicación': 1968}, {'título': 'Dune', 'autor': 'Frank Herbert', 'idioma original': 'Inglés', 'año de publicación': 1965}]\n"
          ]
        }
      ],
      "source": [
        "#1. Crea un diccionario que describa un libro, con los siguientes campos o claves: \"titulo\",\"autor\",\"idioma original\",\"año de publicación\".\n",
        "print('1. Crea un diccionario que describa un libro:')\n",
        "libro = {'título':'','autor':'','idioma original':'','año de publicación':''}\n",
        "print(libro)\n",
        "\n",
        "#2. Crea una lista, llamada librería.\n",
        "print('\\n2. Crea una lista, llamada librería:')\n",
        "libreria = []\n",
        "print(type(libreria))\n",
        "\n",
        "#3. Añade cuatro libros a tu elección a la librería.\n",
        "print('\\n3. Añade cuatro libros a tu elección a la librería.')\n",
        "# Información de los libros a añadir:\n",
        "libro_1 = ('Frankenstein o el moderno Prometeo','Mary Shelley','Inglés',1818)\n",
        "libro_2 = ('2001: Una odisea del espacio','Arthur C. Clarke','Inglés',1968)\n",
        "libro_3 = ('¿Sueñan los androides con ovejas eléctricas?','Philip K. Dick','Inglés',1968)\n",
        "libro_4 = ('Dune', 'Frank Herbert', 'Inglés', 1965)\n",
        "\n",
        "# Función para añadir libros (como diccionario) a la lista 'libreria'\n",
        "def añadir_libro(libreria,info_libro):\n",
        "    nuevo_libro = libro.copy()\n",
        "    nuevo_libro['título'] = info_libro[0]\n",
        "    nuevo_libro['autor'] = info_libro[1]\n",
        "    nuevo_libro['idioma original'] = info_libro[2]\n",
        "    nuevo_libro['año de publicación'] = info_libro[3]\n",
        "    libreria.append(nuevo_libro)\n",
        "\n",
        "# Añadir los 4 libros a la librería\n",
        "añadir_libro(libreria,libro_1)\n",
        "añadir_libro(libreria,libro_2)\n",
        "añadir_libro(libreria,libro_3)\n",
        "añadir_libro(libreria,libro_4)\n",
        "\n",
        "# imprimo la librería\n",
        "print(libreria)"
      ]
    },
    {
      "cell_type": "markdown",
      "metadata": {
        "id": "glMoedjYRWxJ"
      },
      "source": [
        "## Ejercicio 8\n",
        "Modifica los valores del idioma de todos los libros del ejercicio anterior para que sea \"esperanto\"\n"
      ]
    },
    {
      "cell_type": "code",
      "execution_count": 50,
      "metadata": {
        "id": "veNdC-uwRWxJ"
      },
      "outputs": [
        {
          "name": "stdout",
          "output_type": "stream",
          "text": [
            "{'título': 'Frankenstein o el moderno Prometeo', 'autor': 'Mary Shelley', 'idioma original': 'esperanto', 'año de publicación': 1818}\n",
            "{'título': '2001: Una odisea del espacio', 'autor': 'Arthur C. Clarke', 'idioma original': 'esperanto', 'año de publicación': 1968}\n",
            "{'título': '¿Sueñan los androides con ovejas eléctricas?', 'autor': 'Philip K. Dick', 'idioma original': 'esperanto', 'año de publicación': 1968}\n",
            "{'título': 'Dune', 'autor': 'Frank Herbert', 'idioma original': 'esperanto', 'año de publicación': 1965}\n"
          ]
        }
      ],
      "source": [
        "campo_a_modificar = 'idioma original'\n",
        "nuevo_valor = 'esperanto'\n",
        "\n",
        "for i in libreria:\n",
        "    i[campo_a_modificar]=nuevo_valor\n",
        "\n",
        "for i in range(len(libreria)):\n",
        "    print(libreria[i])"
      ]
    },
    {
      "cell_type": "markdown",
      "metadata": {
        "id": "DRCJG04KRWxJ"
      },
      "source": [
        "## Ejercicio 9\n",
        "1. Escribe un programa que dada una variable titulo busque los libros que hay en la librería con ese título. Si no se encuentra debe devolver el mensaje `Ese no lo tengo, ¿mola?`\n",
        "2. Pruena que el programa con uno de tus libros y con otro que no contenga tu librería."
      ]
    },
    {
      "cell_type": "code",
      "execution_count": 51,
      "metadata": {
        "id": "eWHdJi9BRWxJ"
      },
      "outputs": [
        {
          "name": "stdout",
          "output_type": "stream",
          "text": [
            "El juego de Ender :\n",
            "Ese no lo tengo, ¿mola?\n",
            "Dune :\n",
            "Lo tengo!\n"
          ]
        }
      ],
      "source": [
        "# función para buscar por título en la libreria\n",
        "def buscar_por_titulo(titulo,libreria):\n",
        "    for libro in libreria:\n",
        "        if libro['título'] == titulo:\n",
        "            print('Lo tengo!')\n",
        "            break\n",
        "    else:\n",
        "        print('Ese no lo tengo, ¿mola?')\n",
        "    return\n",
        "    \n",
        "# probamos con un libro que no está en la librería y otro que sí\n",
        "titulo_a_buscar = 'El juego de Ender'\n",
        "print(titulo_a_buscar,\":\")\n",
        "buscar_por_titulo(titulo_a_buscar,libreria)\n",
        "\n",
        "titulo_a_buscar = 'Dune'\n",
        "print(titulo_a_buscar,\":\")\n",
        "buscar_por_titulo(titulo_a_buscar,libreria)"
      ]
    },
    {
      "cell_type": "markdown",
      "metadata": {
        "id": "17YOpYuFRWxJ"
      },
      "source": [
        "## Ejercicio 10\n",
        "Convierte el programa del ejercicio 2 en una función al que se le pase el valor a buscar como un argumento posicional"
      ]
    },
    {
      "cell_type": "code",
      "execution_count": 52,
      "metadata": {
        "id": "xbj0LgvnRWxJ"
      },
      "outputs": [
        {
          "name": "stdout",
          "output_type": "stream",
          "text": [
            "Duplicados de \"un\": [7]\n",
            "Duplicados de \"es\": [3, 13]\n",
            "Duplicados de \"binario\": [2, 15]\n"
          ]
        }
      ],
      "source": [
        "######################################################################################\n",
        "######    NOTA                                                                  ######\n",
        "######    Creo que ya estaba haciendo en el Ejercicio 2 lo que se pide ahora    ######\n",
        "######                                                                          ######\n",
        "######################################################################################\n",
        "\n",
        "# declaración de variables\n",
        "ejer_3 = [\"Un\", \"árbol\", \"binario\", \"es\", \"una\", \"estructura\", \"de\", \"un\", \"tipo\", \"particular\", \"a\", \"veces\", \"no\", \"es\", \"ni\", \"binario\"]\n",
        "lista_a_encontrar = [\"un\", \"es\", \"binario\"]\n",
        "\n",
        "# declaración de funciones\n",
        "def encontrar_duplicados(lista, duplicado):\n",
        "    indices = []\n",
        "    for i in range(len(lista)): # recorro los índices de lista en lugar de los valores\n",
        "        if lista[i] == duplicado:\n",
        "            indices.append(i)\n",
        "    return indices\n",
        "\n",
        "# ejecutar el programa\n",
        "for i in lista_a_encontrar:\n",
        "    print(f'Duplicados de \"{i}\": {encontrar_duplicados(ejer_3,i)}')"
      ]
    },
    {
      "cell_type": "markdown",
      "metadata": {
        "id": "xZ-sWJxPRWxJ"
      },
      "source": [
        "## Ejercicio 11\n",
        "Convierte el programa del ejercicio 9 en una función al que se le pasen como argumentos la librería, posicional, y el título, argumento keyword con valor \"ninguno\", por defecto."
      ]
    },
    {
      "cell_type": "code",
      "execution_count": 53,
      "metadata": {
        "id": "4-JrsMdNRWxK"
      },
      "outputs": [
        {
          "name": "stdout",
          "output_type": "stream",
          "text": [
            "Ese no lo tengo, ¿mola?\n",
            "Lo tengo!\n",
            "Ese no lo tengo, ¿mola?\n"
          ]
        }
      ],
      "source": [
        "# función para buscar por título en la libreria\n",
        "def buscar_por_titulo(libreria, titulo=\"ninguno\"):\n",
        "    for libro in libreria:\n",
        "        if libro['título'] == titulo:\n",
        "            print('Lo tengo!')\n",
        "            break\n",
        "    else:\n",
        "        print('Ese no lo tengo, ¿mola?')\n",
        "    return\n",
        "    \n",
        "# probamos con un libro que no está en la librería y otro que sí, y sin añadir el titulo como argumento\n",
        "buscar_por_titulo(libreria,titulo=\"El juego de Ender\")\n",
        "buscar_por_titulo(libreria,titulo=\"Dune\")\n",
        "buscar_por_titulo(libreria) # sin argumento keyword, por lo que se considera el valor por defecto 'ninguno' como título"
      ]
    },
    {
      "cell_type": "markdown",
      "metadata": {
        "id": "FtJir95QRWxK"
      },
      "source": [
        "## Ejercicio 12\n",
        "Solicitar al usuario que ingrese su dirección email. Imprimir un mensaje indicando si la dirección es válida o no, valiéndose de una función para decidirlo. Una dirección se considerará válida si contiene el símbolo \"@\"."
      ]
    },
    {
      "cell_type": "code",
      "execution_count": 55,
      "metadata": {
        "id": "sk852IZ8RWxK"
      },
      "outputs": [
        {
          "name": "stdout",
          "output_type": "stream",
          "text": [
            "Email válido\n"
          ]
        },
        {
          "data": {
            "text/plain": [
              "True"
            ]
          },
          "execution_count": 55,
          "metadata": {},
          "output_type": "execute_result"
        }
      ],
      "source": [
        "# declaro la función para validar el email\n",
        "def email_valido(email):\n",
        "    if email == \"\":\n",
        "        print(\"Introduce un email, no lo dejes vacío!\")\n",
        "        return False\n",
        "    if '@' not in email:\n",
        "        print(\"El email no es válido\")\n",
        "        return False\n",
        "    else:\n",
        "        print(\"Email válido\")\n",
        "        return True\n",
        "\n",
        "# ejecuto el programa\n",
        "direccion_email = input(\"Introduce tu dirección de email:\")\n",
        "email_valido(direccion_email)\n"
      ]
    },
    {
      "cell_type": "markdown",
      "metadata": {
        "id": "Kw1MWBwBRWxK"
      },
      "source": [
        "## Ejercicio 13\n",
        "Escribe una función que compruebe si un DNI es válido, devolviendo `True` en caso afirmativo.  \n",
        "En primer lugar, el DNI debe tener entre 7 y 8 dígitos numéricos.  \n",
        "Para saber si la letra del DNI es correcta puedes utilizar el siguiente fragmento de código:\n",
        ">```Python\n",
        ">DNI= 55555555\n",
        ">palabra='TRWAGMYFPDXBNJZSQVHLCKE'\n",
        ">print('La letra del DNI es: ', palabra[DNI%23])\n",
        ">````\n"
      ]
    },
    {
      "cell_type": "code",
      "execution_count": 2,
      "metadata": {
        "id": "F5Z9rSHqRWxK"
      },
      "outputs": [
        {
          "name": "stdout",
          "output_type": "stream",
          "text": [
            "True\n"
          ]
        }
      ],
      "source": [
        "# Declaración de variables\n",
        "mi_dni = \"55555555k\"\n",
        "\n",
        "# Declaración de funciones\n",
        "def valida_dni (DNI):\n",
        "    # verifico longitud correcta (9 caracteres),\n",
        "    # compruebo entre 7 y 8 dígitos numéricos,\n",
        "    # separo dígitos de letra y compruebo letra DNI\n",
        "    numeros = DNI[:-1]\n",
        "    letra = DNI[-1]\n",
        "    palabra='TRWAGMYFPDXBNJZSQVHLCKE'\n",
        "    \n",
        "    if not ((len(DNI) == 9) and numeros.isdigit() and letra.isalpha()):\n",
        "        return False\n",
        "    elif letra.upper() == palabra[int(numeros) % 23]:\n",
        "        return True\n",
        "    else:\n",
        "        return False\n",
        "\n",
        "# Ejecutar el programa\n",
        "print(valida_dni(mi_dni))"
      ]
    }
  ],
  "metadata": {
    "colab": {
      "provenance": []
    },
    "kernelspec": {
      "display_name": "Python 3",
      "language": "python",
      "name": "python3"
    },
    "language_info": {
      "codemirror_mode": {
        "name": "ipython",
        "version": 3
      },
      "file_extension": ".py",
      "mimetype": "text/x-python",
      "name": "python",
      "nbconvert_exporter": "python",
      "pygments_lexer": "ipython3",
      "version": "3.11.0"
    },
    "orig_nbformat": 4
  },
  "nbformat": 4,
  "nbformat_minor": 0
}
