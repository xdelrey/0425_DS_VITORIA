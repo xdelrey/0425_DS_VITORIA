{
 "cells": [
  {
   "attachments": {},
   "cell_type": "markdown",
   "metadata": {},
   "source": [
    "## Juego del Ahorcado\n",
    "Desarrolla el juego del ahorcado en python. En cada turno irá mostrando por pantalla ```_ _ _ _ _``` las rayas bajas correspondientes al número de letras que tiene la palabra a adivinar. El usuario deberá insertar una letra y, si esa letra existe, se mostrará o mostrarán las letras acertadas ```S _ S _ _``` en sus posiciones correspondientes. \n",
    "\n",
    "Si falla, se mostrará el número de errores que lleva y, si lleva x errores, entonces se mostrará \"Fin del juego\"."
   ]
  },
  {
   "cell_type": "markdown",
   "metadata": {},
   "source": [
    "1. Inicializa el juego: declara una palabra a adivinar y muestra por pantalla la palabra oculta.\n"
   ]
  },
  {
   "cell_type": "markdown",
   "metadata": {},
   "source": [
    "\n",
    "```python\n",
    "_ _ _ _ _ _ _ _\n",
    "```"
   ]
  },
  {
   "cell_type": "markdown",
   "metadata": {},
   "source": [
    "2. Funcionamiento turnos: mediante un bucle genera el sistema de turnos donde el usuario introduce una letra y le va mostrando su progreso y sus vidas."
   ]
  },
  {
   "cell_type": "markdown",
   "metadata": {},
   "source": [
    "3. Desarrolla la finalización de la partida, tanto si gana como si pierde."
   ]
  },
  {
   "cell_type": "markdown",
   "metadata": {},
   "source": [
    "4. Encapsula el juego en una función llamada ```jugar_ahorcado()``` con la palabra a adivinar y el número de vidas para seleccionar la dificultad como argumentos de entrada."
   ]
  },
  {
   "cell_type": "code",
   "execution_count": 96,
   "metadata": {},
   "outputs": [
    {
     "name": "stdout",
     "output_type": "stream",
     "text": [
      "\n",
      "<<<<<< JUEGO DEL AHORCADO >>>>>>\n",
      "\n",
      "-----------------------------------------------------\n",
      "  palabra secreta: ASDFASDF  - vidas restantes: 10\n",
      "-----------------------------------------------------\n",
      "\n",
      "       _  _  _  _  _  _  _  _  La letra introducida es: D\n",
      "['_', '_', 'D', '_', '_', '_', 'D', '_', '_', '_']\n",
      "\n",
      "\n",
      "<<<<<< JUEGO FINALIZADO >>>>>>\n",
      "\n"
     ]
    }
   ],
   "source": [
    "\n",
    "\n",
    "def jugar_ahorcado(vidas=10):\n",
    "    '''\n",
    "    juego del ahorcado que admite como entrada una palabra y el número de vidas disponibles (por defecto, 10)\n",
    "    '''\n",
    "    # inicialización del juego: declarar la palabra a adivinar, mostrar _ _ _ _ _ por pantalla\n",
    "    # importar módulos e inicializar variables\n",
    "    import time\n",
    "    adivinada = []\n",
    "    \n",
    "    # cabecera\n",
    "    print(\"\\n<<<<<< JUEGO DEL AHORCADO >>>>>>\\n\")\n",
    "\n",
    "    # solicitar palabra a adivinar y crear la lista 'adivinada' con la longitud debida\n",
    "    palabra = input(\"Cuál es la palabra a adivinar?\")\n",
    "    palabra = palabra.upper()\n",
    "    for i in range(len(palabra)):\n",
    "        adivinada.append(\"_\")\n",
    "\n",
    "    # MOSTRAR RESULTADO ##########################################\n",
    "    # mostrar la palabra introducida y el nº de vidas restantes\n",
    "    print(\"-\" * (45 + len(palabra)))\n",
    "    print(\"  palabra secreta:\", palabra,\" - vidas restantes:\", vidas)\n",
    "    print(\"-\" * (45 + len(palabra)))\n",
    "    print(\"\\n       \", end=\"\")\n",
    "        # mostramos las letras adivinadas hasta el momento\n",
    "    for i in adivinada:\n",
    "        print(i, \" \", end=\"\")\n",
    "    # MOSTRAR RESULTADO ##########################################\n",
    "\n",
    "    # bucle: usuario introduce una letra, se muestra si ha acertado o ha perdido una vida   \n",
    "    # usuario introduce una letra\n",
    "    time.sleep(1)\n",
    "    texto = input(\"Introduce una Letra:\")\n",
    "    letra = texto[0] # si mete más de un caracter, sólo tenemos en cuenta el primero\n",
    "    letra = letra.upper()\n",
    "    print(\"La letra introducida es:\", letra)\n",
    "    time.sleep(1)\n",
    "\n",
    "    # si la letra existe en palabra, la incorporamos a adivinada, en la posición que corresponde\n",
    "    for i in range(len(palabra)-1):\n",
    "        if letra == palabra[i]:\n",
    "            adivinada.insert(i, palabra[i])\n",
    "    \n",
    "    palabra_temp = str(adivinada)\n",
    "    print(palabra_temp)\n",
    "\n",
    "'''\n",
    "    import IPython.display\n",
    "    IPython.display.clear_output()\n",
    "'''\n",
    "\n",
    "# mostrar si gana o pierde. si antes de perder todas las vidas adivina la palabra gana\n",
    "\n",
    "# ejecutar juego\n",
    "jugar_ahorcado()\n",
    "\n",
    "# se termina el juego\n",
    "print(\"\\n\\n<<<<<< JUEGO FINALIZADO >>>>>>\\n\")"
   ]
  },
  {
   "cell_type": "code",
   "execution_count": null,
   "metadata": {},
   "outputs": [],
   "source": []
  }
 ],
 "metadata": {
  "kernelspec": {
   "display_name": "Python 3",
   "language": "python",
   "name": "python3"
  },
  "language_info": {
   "codemirror_mode": {
    "name": "ipython",
    "version": 3
   },
   "file_extension": ".py",
   "mimetype": "text/x-python",
   "name": "python",
   "nbconvert_exporter": "python",
   "pygments_lexer": "ipython3",
   "version": "3.11.0"
  },
  "orig_nbformat": 4
 },
 "nbformat": 4,
 "nbformat_minor": 2
}
