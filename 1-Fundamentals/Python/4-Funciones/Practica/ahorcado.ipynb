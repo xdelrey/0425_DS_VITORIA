{
 "cells": [
  {
   "attachments": {},
   "cell_type": "markdown",
   "metadata": {},
   "source": [
    "## Juego del Ahorcado\n",
    "Desarrolla el juego del ahorcado en python. En cada turno irá mostrando por pantalla ```_ _ _ _ _``` las rayas bajas correspondientes al número de letras que tiene la palabra a adivinar. El usuario deberá insertar una letra y, si esa letra existe, se mostrará o mostrarán las letras acertadas ```S _ S _ _``` en sus posiciones correspondientes. \n",
    "\n",
    "Si falla, se mostrará el número de errores que lleva y, si lleva x errores, entonces se mostrará \"Fin del juego\"."
   ]
  },
  {
   "cell_type": "markdown",
   "metadata": {},
   "source": [
    "1. Inicializa el juego: declara una palabra a adivinar y muestra por pantalla la palabra oculta.\n"
   ]
  },
  {
   "cell_type": "markdown",
   "metadata": {},
   "source": [
    "\n",
    "```python\n",
    "_ _ _ _ _ _ _ _\n",
    "```"
   ]
  },
  {
   "cell_type": "markdown",
   "metadata": {},
   "source": [
    "2. Funcionamiento turnos: mediante un bucle genera el sistema de turnos donde el usuario introduce una letra y le va mostrando su progreso y sus vidas."
   ]
  },
  {
   "cell_type": "markdown",
   "metadata": {},
   "source": [
    "3. Desarrolla la finalización de la partida, tanto si gana como si pierde."
   ]
  },
  {
   "cell_type": "markdown",
   "metadata": {},
   "source": [
    "4. Encapsula el juego en una función llamada ```jugar_ahorcado()``` con la palabra a adivinar y el número de vidas para seleccionar la dificultad como argumentos de entrada."
   ]
  },
  {
   "cell_type": "code",
   "execution_count": 4,
   "metadata": {},
   "outputs": [
    {
     "name": "stdout",
     "output_type": "stream",
     "text": [
      "\n",
      "<<<<<< COMIENZA EL JUEGO >>>>>>\n",
      "\n",
      "-----------------------------\n",
      "  vidas iniciales: 5\n",
      "-----------------------------\n",
      "\n",
      "       _  _  _  _  \n",
      "\n",
      "La letra introducida es: H\n",
      "vidas restantes: 5\n",
      "       H  _  _  _  \n",
      "\n",
      "La letra introducida es: U\n",
      "vidas restantes: 5\n",
      "       H  U  _  _  \n",
      "\n",
      "La letra introducida es: S\n",
      "vidas restantes: 4\n",
      "       H  U  _  _  \n",
      "\n",
      "La letra introducida es: D\n",
      "vidas restantes: 3\n",
      "       H  U  _  _  \n",
      "\n",
      "La letra introducida es: \n",
      "vidas restantes: 2\n",
      "       H  U  _  _  \n",
      "\n",
      "La letra introducida es: FF\n",
      "vidas restantes: 1\n",
      "       H  U  _  _  \n",
      "\n",
      "La letra introducida es: S\n",
      "vidas restantes: 0\n",
      "       H  U  _  _  \n",
      " -------------------------------------------------\n",
      "\n",
      "(סּ︵סּ) Lo intentaste... la próxima acertarás!\n",
      "La palabra era 'HUMO'.\n",
      "-------------------------------------------------\n"
     ]
    }
   ],
   "source": [
    "def jugar_ahorcado(vidas=5):\n",
    "    '''\n",
    "    juego del ahorcado que pide como entrada una palabra y el número de vidas disponibles (por defecto, 10)\n",
    "    '''\n",
    "    # inicialización del juego: declarar la palabra a adivinar, mostrar _ _ _ _ _ por pantalla\n",
    "    # importar módulos e inicializar variables\n",
    "    import time\n",
    "    adivinada = []\n",
    "    \n",
    "    # cabecera\n",
    "    print(\"\\n<<<<<< COMIENZA EL JUEGO >>>>>>\\n\")\n",
    "\n",
    "    # solicitar palabra a adivinar y crear la lista 'adivinada' con la longitud debida\n",
    "    palabra = input(\"Cuál es la palabra a adivinar?\")\n",
    "    palabra = palabra.upper()\n",
    "    \n",
    "    for i in range(len(palabra)):\n",
    "        adivinada.append(\"_\")\n",
    "    \n",
    "    # mostrar la palabra introducida y el nº de vidas restantes\n",
    "    print(\"-\" * (25 + len(palabra)))\n",
    "    #print(\"  palabra secreta:\", palabra,\" - vidas iniciales:\", vidas)\n",
    "    print(\"  vidas iniciales:\", vidas)\n",
    "    print(\"-\" * (25 + len(palabra)))\n",
    "    print(\"\\n       \", end=\"\")\n",
    "\n",
    "    # mostramos las pistas para adivinar la palabra\n",
    "    for i in adivinada:\n",
    "        print(i, \" \", end=\"\")\n",
    "    \n",
    "    # repetimos bucle hasta que se agoten las vidas o se encuentre la palabra\n",
    "    while (palabra != \"\".join(adivinada)) and (vidas > 0):\n",
    "\n",
    "        # bucle: usuario introduce una letra, se muestra si ha acertado o ha perdido una vida   \n",
    "        # usuario introduce una letra y la guardamos\n",
    "        time.sleep(1)\n",
    "        letra = input(\"Introduce una Letra:\")\n",
    "        letra = letra.upper()\n",
    "        print(\"\\n\\nLa letra introducida es:\", letra)\n",
    "        time.sleep(1)\n",
    "\n",
    "        # si la letra existe en palabra, la incorporamos a adivinada, en la posición que corresponde\n",
    "        # si la letra no existe en la palabra, restamos vidas\n",
    "        acierto = False\n",
    "        for i in range(len(palabra)):\n",
    "            if letra == palabra[i]:\n",
    "                adivinada[i] = palabra[i]\n",
    "                acierto = True\n",
    "\n",
    "        if acierto == False:\n",
    "            vidas = vidas - 1\n",
    "\n",
    "        # limpiamos la pantalla\n",
    "        #import IPython.display\n",
    "        #    IPython.display.clear_output()\n",
    "\n",
    "        # mostrar el nº de vidas restantes\n",
    "        print(\"vidas restantes:\", vidas)\n",
    "        print(\"       \", end=\"\")\n",
    "\n",
    "        # mostramos las letras adivinadas hasta el momento\n",
    "        for i in adivinada:\n",
    "            print(i, \" \", end=\"\")\n",
    "\n",
    "    # mostrar si gana o pierde. si antes de perder todas las vidas adivina la palabra gana\n",
    "    if palabra == \"\".join(adivinada):\n",
    "        print(\"\\n\",\"-\" * (45 + len(palabra)))\n",
    "        print(\"\\nLo conseguiste! Has ganado! ⎦˚◡˚⎣\")\n",
    "        print(\"-\" * (45 + len(palabra)))\n",
    "    elif vidas == 0:\n",
    "        print(\"\\n\",\"-\" * (45 + len(palabra)))\n",
    "        print(\"\\n(סּ︵סּ) Lo intentaste... la próxima acertarás!\")\n",
    "        print(f\"La palabra era '{palabra}'.\")\n",
    "        print(\"-\" * (45 + len(palabra)))\n",
    "\n",
    "\n",
    "# ejecutar juego\n",
    "jugar_ahorcado()"
   ]
  },
  {
   "cell_type": "code",
   "execution_count": null,
   "metadata": {},
   "outputs": [],
   "source": [
    "d"
   ]
  },
  {
   "cell_type": "code",
   "execution_count": null,
   "metadata": {},
   "outputs": [],
   "source": []
  }
 ],
 "metadata": {
  "kernelspec": {
   "display_name": "Python 3",
   "language": "python",
   "name": "python3"
  },
  "language_info": {
   "codemirror_mode": {
    "name": "ipython",
    "version": 3
   },
   "file_extension": ".py",
   "mimetype": "text/x-python",
   "name": "python",
   "nbconvert_exporter": "python",
   "pygments_lexer": "ipython3",
   "version": "3.11.0"
  },
  "orig_nbformat": 4
 },
 "nbformat": 4,
 "nbformat_minor": 2
}
