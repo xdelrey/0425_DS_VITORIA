{
 "cells": [
  {
   "cell_type": "markdown",
   "metadata": {},
   "source": [
    "![imagen](./img/ejercicios.png)"
   ]
  },
  {
   "cell_type": "markdown",
   "metadata": {},
   "source": [
    "# Ejercicios funciones\n",
    "## Ejercicio 1\n",
    "Escribe una función que convierta números del 1 al 7 en nombres de los dias de la semana. La función constará de un único argumento numérico y una salida de tipo string"
   ]
  },
  {
   "cell_type": "code",
   "execution_count": 1,
   "metadata": {},
   "outputs": [
    {
     "name": "stdout",
     "output_type": "stream",
     "text": [
      "Viernes\n"
     ]
    },
    {
     "data": {
      "text/plain": [
       "str"
      ]
     },
     "execution_count": 1,
     "metadata": {},
     "output_type": "execute_result"
    }
   ],
   "source": [
    "# declaración de variables\n",
    "numero = 5\n",
    "\n",
    "# declaración de la función\n",
    "def numero_a_dia_semana(num):\n",
    "    '''\n",
    "    función que convierte números del 1 al 7 en nombres de los dias de la semana.\n",
    "    La función consta de un único argumento numérico y una salida de tipo string.\n",
    "    '''\n",
    "    # relación de días de la semana\n",
    "    dias_semana = (\"Lunes\", \"Martes\", \"Miércoles\", \"Jueves\", \"Viernes\", \"Sábado\", \"Domingo\")\n",
    "    \n",
    "    # comprobar que el argumento es un número entre 1 y 7\n",
    "    if int(num) >= 1 and int(num) <=7:\n",
    "        return dias_semana[num-1]\n",
    "    else:\n",
    "        print(\"El número debe estar entre 1 y 7.\")\n",
    "\n",
    "# ejecución del programa\n",
    "print(numero_a_dia_semana(numero))\n",
    "type(numero_a_dia_semana(numero))"
   ]
  },
  {
   "cell_type": "markdown",
   "metadata": {},
   "source": [
    "## Ejercicio 2\n",
    "En el ejercicio 8 de flujos de control, creábamos una pirámide invertida de números desde el 5. Crea una función que replique el comportamiento de la pirámide, y utiliza un único parámetro de entrada de la función para determinar el número de filas de la pirámide."
   ]
  },
  {
   "cell_type": "code",
   "execution_count": 2,
   "metadata": {},
   "outputs": [
    {
     "name": "stdout",
     "output_type": "stream",
     "text": [
      "10 9 8 7 6 5 4 3 2 1 \n",
      "\n",
      "9 8 7 6 5 4 3 2 1 \n",
      "\n",
      "8 7 6 5 4 3 2 1 \n",
      "\n",
      "7 6 5 4 3 2 1 \n",
      "\n",
      "6 5 4 3 2 1 \n",
      "\n",
      "5 4 3 2 1 \n",
      "\n",
      "4 3 2 1 \n",
      "\n",
      "3 2 1 \n",
      "\n",
      "2 1 \n",
      "\n",
      "1 \n",
      "\n"
     ]
    }
   ],
   "source": [
    "# defino variables\n",
    "numero_filas = 10\n",
    "\n",
    "# defino la función\n",
    "def piramide(altura):\n",
    "    '''\n",
    "    como output dibuja una pirámide invertida de la altura especificada en el input\n",
    "    '''\n",
    "    while altura > 0:\n",
    "        linea = list(range(altura, 0, -1))\n",
    "        for i in linea:\n",
    "            print(i, end=' ')\n",
    "        print(\"\\n\")\n",
    "        altura -= 1\n",
    "\n",
    "# ejecuto el programa\n",
    "piramide(numero_filas)"
   ]
  },
  {
   "cell_type": "markdown",
   "metadata": {},
   "source": [
    "## Ejercicio 3\n",
    "Escribe una función que compare dos números. La función tiene dos argumentos y hay tres salidas posibles: que sean iguales, que el primero sea  mayor que el segundo, o que el segundo sea mayor que el primero"
   ]
  },
  {
   "cell_type": "code",
   "execution_count": 3,
   "metadata": {},
   "outputs": [
    {
     "name": "stdout",
     "output_type": "stream",
     "text": [
      "el primero es mayor (3.5 > 3.21)\n"
     ]
    }
   ],
   "source": [
    "# declaración de variables\n",
    "numero_1 = 3.5\n",
    "numero_2 = 3.21\n",
    "\n",
    "# declaración de la función\n",
    "def compara_numeros(num_1, num_2):\n",
    "    '''\n",
    "    función para conocer cuál es mayor de 2 números o si son iguales\n",
    "    '''\n",
    "    if num_1 == num_2:\n",
    "        return print(\"son iguales\")\n",
    "    elif num_1 > num_2:\n",
    "        return print(f\"el primero es mayor ({num_1} > {num_2})\")\n",
    "    else:\n",
    "        return print(f\"el segundo es mayor ({num_2} > {num_1})\")\n",
    "\n",
    "# ejecuto el programa\n",
    "compara_numeros(numero_1, numero_2)"
   ]
  },
  {
   "attachments": {},
   "cell_type": "markdown",
   "metadata": {},
   "source": [
    "## Ejercicio 4\n",
    "Escribe una función que sea un contador de letras. En el primer argumento tienes que introducir un texto, y el segundo que sea una letra que contar. La función tiene que devolver un entero con el número de veces que aparece esa letra, tanto mayúscula, como minúscula"
   ]
  },
  {
   "cell_type": "code",
   "execution_count": 4,
   "metadata": {},
   "outputs": [
    {
     "data": {
      "text/plain": [
       "10"
      ]
     },
     "execution_count": 4,
     "metadata": {},
     "output_type": "execute_result"
    }
   ],
   "source": [
    "# declaración de variables\n",
    "mi_texto = \"He visto cosas que vosotros nunca creeríais: Atacar naves en llamas más allá de Orión.\"\n",
    "mi_letra = \"a\"\n",
    "\n",
    "# declaración de funciones\n",
    "def contar_letras(texto,letra):\n",
    "    '''\n",
    "    devuelve el número de veces que aparece una letra (minúsculas o mayúsculas) en un texto\n",
    "    '''\n",
    "    contador = 0\n",
    "    for i in range(len(texto)):\n",
    "        if texto[i].upper() == letra.upper():\n",
    "            contador += 1\n",
    "    return contador\n",
    "\n",
    "# ejecutar el programa\n",
    "contar_letras(mi_texto, mi_letra)"
   ]
  },
  {
   "cell_type": "markdown",
   "metadata": {},
   "source": [
    "## Ejercicio 5\n",
    "Escribe una función que tenga un único argumento, un string. La salida de la función tiene que ser un diccionario con el conteo de todas las letras de ese string, siendo la clave la letra y el valor el conteo."
   ]
  },
  {
   "cell_type": "code",
   "execution_count": 5,
   "metadata": {},
   "outputs": [
    {
     "name": "stdout",
     "output_type": "stream",
     "text": [
      "...como lágrimas en la lluvia :\n",
      " {'u': 1, 'a': 3, 'o': 2, 'g': 1, 'r': 1, 'c': 1, 'm': 2, 'e': 1, 's': 1, 'n': 1, 'i': 2, 'v': 1, 'l': 4, 'á': 1}\n"
     ]
    }
   ],
   "source": [
    "# declaración de variables\n",
    "mi_texto = \"...como lágrimas en la lluvia\"\n",
    "\n",
    "# declaración de la función\n",
    "def conteo_de_letras(texto):\n",
    "    '''\n",
    "    función que con un string de input, el output sea un diccionario con el conteo de las letras\n",
    "    '''\n",
    "    # recorrer cada caracter del texto y si es una letra guardarlo en un set\n",
    "    caracteres = set()\n",
    "    for i in texto:\n",
    "        caracter = i\n",
    "        if caracter.isalpha():\n",
    "            caracteres.add(caracter.lower())\n",
    "\n",
    "    # para cada caracter del set obtener cuántas veces aparece en el texto\n",
    "    # y añadir cada letra y el nº de apariciones en un diccionario\n",
    "    conteo = {}\n",
    "    for i in caracteres:\n",
    "        conteo[i] = contar_letras(texto,i)\n",
    "    return conteo\n",
    "\n",
    "# ejecuto el programa\n",
    "print(mi_texto,\":\\n\",conteo_de_letras(mi_texto))"
   ]
  },
  {
   "cell_type": "markdown",
   "metadata": {},
   "source": [
    "## Ejercicio 6\n",
    "Escribir una función que añada o elimine elementos en una lista. La función necesita los siguientes argumentos:\n",
    "* lista: la lista donde se añadirán o eliminarán los elementos\n",
    "* comando: \"add\" o \"remove\"\n",
    "* elemento: Por defecto es None.\n",
    "\n",
    "Tendrá como salida la lista"
   ]
  },
  {
   "cell_type": "code",
   "execution_count": 6,
   "metadata": {},
   "outputs": [
    {
     "name": "stdout",
     "output_type": "stream",
     "text": [
      "['Anakin', 'Luke', 'Leia']\n",
      "['Anakin', 'Luke', 'Leia', 'Han']\n",
      "['Anakin', 'Luke', 'Leia', 'Han', 'C-3PO']\n",
      "['Anakin', 'Luke', 'Leia', 'C-3PO']\n",
      "['Anakin', 'Luke', 'Leia', 'C-3PO']\n",
      "['Anakin', 'Luke', 'Leia', 'C-3PO', None]\n"
     ]
    }
   ],
   "source": [
    "# declaración de variables\n",
    "mi_lista = ['Anakin', 'Luke', 'Leia']\n",
    "mi_comando = 'add'\n",
    "mi_elemento = 'Han'\n",
    "\n",
    "# declaración de la función\n",
    "def actualiza_lista(lista, comando, elemento=None):\n",
    "    '''\n",
    "    función que actualiza una lista añadiendo o eliminando elementos.\n",
    "    '''\n",
    "    lista_actualizada = lista\n",
    "    if comando == \"add\":\n",
    "        lista_actualizada.append(elemento)\n",
    "    elif comando == 'remove':\n",
    "        lista_actualizada.remove(elemento)\n",
    "    return lista_actualizada\n",
    "\n",
    "# ejecución del programa\n",
    "print(mi_lista)\n",
    "print(actualiza_lista(mi_lista, mi_comando, mi_elemento))\n",
    "print(actualiza_lista(mi_lista, 'add', 'C-3PO'))\n",
    "print(actualiza_lista(mi_lista, 'remove', 'Han'))\n",
    "print(actualiza_lista(mi_lista, 'ni add ni remove', 'Han'))\n",
    "print(actualiza_lista(mi_lista, mi_comando))"
   ]
  },
  {
   "cell_type": "markdown",
   "metadata": {},
   "source": [
    "## Ejercicio 7\n",
    "Crea una función que reciba un número arbitrario de palabras, y devuelva una frase completa, separando las palabras con espacios."
   ]
  },
  {
   "cell_type": "code",
   "execution_count": 7,
   "metadata": {},
   "outputs": [
    {
     "data": {
      "text/plain": [
       "'La luz brilla con el doble de intensidad'"
      ]
     },
     "execution_count": 7,
     "metadata": {},
     "output_type": "execute_result"
    }
   ],
   "source": [
    "# declaración de variables\n",
    "las_palabras = ('La', 'luz', 'brilla', 'con', 'el', 'doble', 'de', 'intensidad')\n",
    "\n",
    "# declaración de la función\n",
    "def construye_frase(palabras):\n",
    "    '''\n",
    "    Une las palabras del input y devuelve una frase\n",
    "    '''\n",
    "    frase = \" \".join(palabras)\n",
    "    return frase\n",
    "\n",
    "# ejecución del programa\n",
    "construye_frase(las_palabras)"
   ]
  },
  {
   "cell_type": "markdown",
   "metadata": {},
   "source": [
    "## Ejercicio 8\n",
    "Escribe un programa que obtenga el enésimo número de la [serie de Fibonacci](https://es.wikipedia.org/wiki/Sucesi%C3%B3n_de_Fibonacci). Tienes que crear una función recursiva con un único argumento.\n",
    "\n",
    "```Python\n",
    "fibonacci(2) = 1\n",
    "fibonacci(4) = 3\n",
    "fibonacci(5) = 5\n",
    "fibonacci(8) = 21\n",
    "```"
   ]
  },
  {
   "cell_type": "markdown",
   "metadata": {},
   "source": [
    "fibonacci(n) = fibonacci(n-1) + fibonacci(n-2)"
   ]
  },
  {
   "cell_type": "code",
   "execution_count": 8,
   "metadata": {},
   "outputs": [
    {
     "name": "stdout",
     "output_type": "stream",
     "text": [
      "21\n"
     ]
    }
   ],
   "source": [
    "# declaración de variables\n",
    "numero = 8\n",
    "# la secuencia de fibonacci es: 0, 1, 1, 2, 3, 5, 8, 13, 21, 34...\n",
    "\n",
    "# declaración de la función\n",
    "'''\n",
    "#### PRIMER INTENTO SIN UTILIZAR RECURSIVIDAD ####\n",
    "def fibonacci (n):\n",
    "    secuencia = []\n",
    "    i = 0\n",
    "    while i <= n:\n",
    "        if (i - 1 >= 0):\n",
    "            resultado = secuencia[i - 1]\n",
    "            if (i - 2 >= 0):\n",
    "                resultado = resultado + secuencia[i - 2]\n",
    "            else:\n",
    "                resultado = 1\n",
    "        else:\n",
    "            resultado = 0\n",
    "        i += 1\n",
    "        secuencia.append(resultado)\n",
    "    print(secuencia)\n",
    "    return(resultado)\n",
    "'''\n",
    "\n",
    "def fibonacci (n):\n",
    "    '''\n",
    "    Devuelve el enésimo número de la serie de Fibonacci\n",
    "    '''\n",
    "    if n == 0:\n",
    "        return 0\n",
    "    elif n == 1:\n",
    "        return 1\n",
    "    else:\n",
    "        return fibonacci(n-1) + fibonacci(n-2)\n",
    "\n",
    "# ejecución del programa\n",
    "print(fibonacci(numero))"
   ]
  },
  {
   "attachments": {},
   "cell_type": "markdown",
   "metadata": {},
   "source": [
    "## Ejercicio 9\n",
    "Define en una única celda las siguientes funciones:\n",
    "* Función que calcule el área de un cuadrado\n",
    "* Función que calcule el área de un triángulo\n",
    "* Función que calcule el área de un círculo\n",
    "\n",
    "En otra celda, calcular el area de:\n",
    "* Dos círculos de radio 10 + un triángulo de base 3 y altura 7\n",
    "* Un cuadrado de lado = 10 + 3 círculos (uno de radio = 4 y los otros dos de radio = 6) + 5 triángulos de base = 2 + altura = 4"
   ]
  },
  {
   "cell_type": "code",
   "execution_count": 9,
   "metadata": {},
   "outputs": [],
   "source": [
    "# función para calcular el área de un cuadrado\n",
    "def area_cuadrado (lado):\n",
    "    return lado ** 2\n",
    "\n",
    "# función para calcular el área de un triángulo\n",
    "def area_triangulo (base, altura):\n",
    "    return (base * altura) / 2\n",
    "\n",
    "# función para calcular el área de un círculo\n",
    "def area_circulo (radio):\n",
    "    import math\n",
    "    return (math.pi) * (radio ** 2)"
   ]
  },
  {
   "cell_type": "code",
   "execution_count": 10,
   "metadata": {},
   "outputs": [
    {
     "name": "stdout",
     "output_type": "stream",
     "text": [
      "a) Área de dos círculos de radio 10 + un triángulo de base 3 y altura 7:\n",
      "638.8185307179587\n",
      "\n",
      "b) Área de un cuadrado de lado = 10 \n",
      "+ 3 círculos (uno de radio = 4 y los otros dos de radio = 6) \n",
      "+ 5 triángulos de base = 2 + altura = 4\n",
      "396.46015351590177\n"
     ]
    }
   ],
   "source": [
    "print('a) Área de dos círculos de radio 10 + un triángulo de base 3 y altura 7:')\n",
    "a = (area_circulo(10) * 2) + area_triangulo(3, 7)\n",
    "print(a)\n",
    "\n",
    "\n",
    "print('\\nb) Área de un cuadrado de lado = 10 \\n\\\n",
    "+ 3 círculos (uno de radio = 4 y los otros dos de radio = 6) \\n\\\n",
    "+ 5 triángulos de base = 2 + altura = 4')\n",
    "b = area_cuadrado(10) + (area_circulo(4) + (2 * area_circulo(6))) + (5 * area_triangulo(2,4))\n",
    "print(b)"
   ]
  },
  {
   "cell_type": "markdown",
   "metadata": {},
   "source": [
    "## Ejercicio 10\n",
    "\n",
    "Guarda las funciones de estos ejercicios en un fichero llamado `funciones.py` e importalas desde este jupyter notebook para probar que puedes hacer uso de ellas."
   ]
  },
  {
   "cell_type": "code",
   "execution_count": null,
   "metadata": {},
   "outputs": [],
   "source": [
    "# 1. abro un nuevo fichero funciones.py en modo escritura\n",
    "fichero = open(\"funciones.py\", 'w', encoding='utf-8')\n",
    "\n",
    "# 2. guardar las funciones en funciones.py\n",
    "import inspect\n",
    "\n",
    "funciones_ejercicios = [numero_a_dia_semana, piramide, compara_numeros, contar_letras, conteo_de_letras, actualiza_lista, construye_frase, fibonacci, area_cuadrado, area_triangulo, area_circulo]\n",
    "\n",
    "for i in funciones_ejercicios:\n",
    "    fichero.write(inspect.getsource(i))\n",
    "\n",
    "# 3. cierro el fichero para que se escriban los cambios\n",
    "fichero.close()"
   ]
  },
  {
   "cell_type": "code",
   "execution_count": 2,
   "metadata": {},
   "outputs": [
    {
     "data": {
      "text/plain": [
       "36"
      ]
     },
     "execution_count": 2,
     "metadata": {},
     "output_type": "execute_result"
    }
   ],
   "source": [
    "# importar las funciones desde funciones.py para comprobar que se puede hacer uso de ellas\n",
    "import funciones\n",
    "\n",
    "funciones.area_cuadrado(6)"
   ]
  },
  {
   "cell_type": "code",
   "execution_count": 1,
   "metadata": {},
   "outputs": [
    {
     "ename": "NameError",
     "evalue": "name 'funciones' is not defined",
     "output_type": "error",
     "traceback": [
      "\u001b[31m---------------------------------------------------------------------------\u001b[39m",
      "\u001b[31mNameError\u001b[39m                                 Traceback (most recent call last)",
      "\u001b[36mCell\u001b[39m\u001b[36m \u001b[39m\u001b[32mIn[1]\u001b[39m\u001b[32m, line 3\u001b[39m\n\u001b[32m      1\u001b[39m \u001b[38;5;66;03m# comprobar que sin importarlas desde funciones.py NO se puede hacer uso de ellas\u001b[39;00m\n\u001b[32m----> \u001b[39m\u001b[32m3\u001b[39m \u001b[43mfunciones\u001b[49m.area_cuadrado(\u001b[32m5\u001b[39m)\n",
      "\u001b[31mNameError\u001b[39m: name 'funciones' is not defined"
     ]
    }
   ],
   "source": [
    "# comprobar que sin importarlas desde funciones.py NO se puede hacer uso de ellas\n",
    "\n",
    "funciones.area_cuadrado(5)"
   ]
  },
  {
   "cell_type": "code",
   "execution_count": null,
   "metadata": {},
   "outputs": [],
   "source": []
  }
 ],
 "metadata": {
  "kernelspec": {
   "display_name": "Python 3",
   "language": "python",
   "name": "python3"
  },
  "language_info": {
   "codemirror_mode": {
    "name": "ipython",
    "version": 3
   },
   "file_extension": ".py",
   "mimetype": "text/x-python",
   "name": "python",
   "nbconvert_exporter": "python",
   "pygments_lexer": "ipython3",
   "version": "3.11.0"
  }
 },
 "nbformat": 4,
 "nbformat_minor": 4
}
