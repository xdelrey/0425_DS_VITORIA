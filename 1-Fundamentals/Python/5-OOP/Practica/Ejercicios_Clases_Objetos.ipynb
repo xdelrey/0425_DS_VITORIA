{
 "cells": [
  {
   "attachments": {},
   "cell_type": "markdown",
   "metadata": {},
   "source": [
    "## Ejercicio 1\n",
    "Somos una empresa que tiene varias tiendas de electrodomésticos. Necesitamos un programa para manejar las tiendas, ver las ventas que han tenido, cuántos empleados hay, etc... Para ello vamos a modelizar la tienda en una clase, que tendrá las siguientes características:\n",
    "* Nombre clase: \"Tienda\"\n",
    "* Atributos comunes:\n",
    "    * Tipo: \"Electrodomésticos\"\n",
    "    * Abierta: True\n",
    "* Atributos propios de cada tienda:\n",
    "    * Nombre - String\n",
    "    * Dirección - String\n",
    "    * Número de empleados - int\n",
    "    * Ventas últimos 3 meses - Lista de 3 numeros\n",
    "* Método para calcular las ventas de todos los meses, que devuelva un número con todas las ventas.\n",
    "* Método que calcula la media de ventas de los últimos meses, por empleado\n",
    "* Método que devuelve en un string el nombre de la tienda, junto con su dirección.\n",
    "* Método que obtiene las ventas del último mes.\n",
    "* Método para dar una proyección de las ventas en caso de haber invertido X dinero en marketing en esa tienda. Siendo X el parámetro de entrada. Si X es menor de 1000, las ventas de los ultimos 3 meses hubiesen sido de (1.2 x ventas), si es mayor o igual de 1000, las ventas hubiesen sido de (1.5 x venta). El método reescribe el atributo de ventas en los últimos 3 meses, y además devuelve las ventas con el aumento.\n",
    "\n",
    "Se pide:\n",
    "1. Implementar la clase \"Tienda\"\n",
    "2. Crear tres tiendas con datos inventados\n",
    "3. Comprueba en al menos una de ellas, todo lo implementado en la clase tienda (sus atributos, media de ventas, ventas/empleado...)\n",
    "3. Calcular las ventas del último mes de todas las tiendas. Para ello usa el bucle `for`\n",
    "4. Imprime por pantalla los nombres de las tiendas cuya dirección lleve el string \"Avenida\"\n",
    "5. Seguro que ya has hecho este apartado... Documenta la clase :)"
   ]
  },
  {
   "cell_type": "code",
   "execution_count": 32,
   "metadata": {},
   "outputs": [
    {
     "name": "stdout",
     "output_type": "stream",
     "text": [
      "Total Ventas:\n",
      " 600\n",
      "Media empleado:\n",
      " 120.0\n",
      "Nombre y Dirección:\n",
      " Elektra, Avenida Principal\n",
      "Ventas del último mes:\n",
      " 300\n",
      "Proyecciones de ventas:\n",
      " [120.0, 240.0, 360.0]\n",
      "\n",
      "Ventas del último mes de cada tienda:\n",
      " - Elektra: 360.0\n",
      " - Todo Precio: 130\n",
      " - Flash: 120\n",
      " - Electrodomésticos Santi: 110\n",
      "Avenidas:\n",
      " - Elektra: Avenida Principal\n"
     ]
    }
   ],
   "source": [
    "# 1. Implementar la clase \"Tienda\"\n",
    "class Tienda:\n",
    "    '''\n",
    "    Clase para tiendas de electrodomésticos\n",
    "    '''\n",
    "    tipo = 'Electrodomésticos'\n",
    "    abierta = True\n",
    "    tiendas = [] # lista donde se guardarán las tiendas que se vayan creando (las instancias)\n",
    "\n",
    "    def __init__(self, nombre, direccion, num_empleados, ventas_3_meses):\n",
    "        # se llama a este método cada vez que se crea una tienda\n",
    "        self.nombre = nombre # string\n",
    "        self.direccion = direccion # string\n",
    "        self.num_empleados = num_empleados # int\n",
    "        self.ventas_3_meses = ventas_3_meses # lista de 3 números\n",
    "\n",
    "        Tienda.tiendas.append(self) # añade la instancia actual a la lista tiendas.\n",
    "\n",
    "    # * Método para calcular las ventas de todos los meses, que devuelva un número con todas las ventas.\n",
    "    def total_ventas(self):\n",
    "        return sum(self.ventas_3_meses)\n",
    "\n",
    "    # * Método que calcula la media de ventas de los últimos meses, por empleado\n",
    "    def media_empleado(self):\n",
    "        return (self.total_ventas() / self.num_empleados)\n",
    "\n",
    "    # * Método que devuelve en un string el nombre de la tienda, junto con su dirección.\n",
    "    def nombre_direccion(self):\n",
    "        return self.nombre + \", \" + self.direccion\n",
    "\n",
    "    # * Método que obtiene las ventas del último mes.\n",
    "    def ventas_ultimo_mes(self):\n",
    "        return self.ventas_3_meses[-1]\n",
    "\n",
    "    # * Método para dar una proyección de las ventas en caso de haber invertido X dinero en marketing en esa tienda.\n",
    "    # Siendo X el parámetro de entrada. Si X es menor de 1000, las ventas de los ultimos 3 meses hubiesen sido de (1.2 x ventas), \n",
    "    # si es mayor o igual de 1000, las ventas hubiesen sido de (1.5 x venta). \n",
    "    # El método reescribe el atributo de ventas en los últimos 3 meses, y además devuelve las ventas con el aumento.\n",
    "    def proyecciones(self, inversion):\n",
    "        for i in range(len(self.ventas_3_meses)):\n",
    "            if inversion < 1000:\n",
    "                self.ventas_3_meses[i] *= 1.2\n",
    "            elif inversion >= 1000:\n",
    "                self.ventas_3_meses[i] *= 1.5\n",
    "        return self.ventas_3_meses\n",
    "\n",
    "\n",
    "# 2. Crear tres tiendas con datos inventados\n",
    "tienda_1 = Tienda(\"Elektra\", \"Avenida Principal\", 5, [100,200,300])\n",
    "tienda_2 = Tienda(\"Todo Precio\", \"Calle Secundaria\", 2, [80,120,130])\n",
    "tienda_3 = Tienda(\"Flash\", \"Alameda del Tres\", 4, [150,130,120])\n",
    "tienda_4 = Tienda(\"Electrodomésticos Santi\", \"Plaza del Cuatro\", 3, [100,120,110])\n",
    "\n",
    "# 3. Comprueba en al menos una de ellas, todo lo implementado en la clase tienda (sus atributos, media de ventas, ventas/empleado...)\n",
    "print(\"Total Ventas:\\n\", tienda_1.total_ventas())\n",
    "print(\"Media empleado:\\n\", tienda_1.media_empleado())\n",
    "print(\"Nombre y Dirección:\\n\", tienda_1.nombre_direccion())\n",
    "print(\"Ventas del último mes:\\n\", tienda_1.ventas_ultimo_mes())\n",
    "print(\"Proyecciones de ventas:\\n\", tienda_1.proyecciones(850))\n",
    "\n",
    "# 4. Calcular las ventas del último mes de todas las tiendas. Para ello usa el bucle `for`\n",
    "print(\"\\nVentas del último mes de cada tienda:\")\n",
    "for i in Tienda.tiendas:\n",
    "    print(f\" - {i.nombre}: {i.ventas_ultimo_mes()}\")\n",
    "\n",
    "# 5. Imprime por pantalla los nombres de las tiendas cuya dirección lleve el string \"Avenida\"\n",
    "print(\"Avenidas:\")\n",
    "for i in Tienda.tiendas:\n",
    "    if \"Avenida\" in i.direccion:\n",
    "        print(f\" - {i.nombre}: {i.direccion}\")\n",
    "\n",
    "# 6. Seguro que ya has hecho este apartado... Documenta la clase :)\n"
   ]
  },
  {
   "cell_type": "markdown",
   "metadata": {},
   "source": [
    "## Ejercicio 2\n",
    "En este ejercicio vamos a implementar una clase *Perro* en Python. La clase tiene las siguientes características:\n",
    "* Cosas que sabemos seguro que tiene un perro\n",
    "    * Tiene 4 patas\n",
    "    * 2 orejas\n",
    "    * 2 ojos\n",
    "    * Una velocidad de 0. Por defecto, el perro está parado\n",
    "* Cuando se inicialice:\n",
    "    * El perro será de una determinada raza\n",
    "    * Por defecto tendrá pelo \"Marrón\", a no ser que se diga lo contrario.\n",
    "    * Por defecto no tendrá dueño, a no ser que se diga lo contrario.\n",
    "    \n",
    "* Dispondrá también de un método llamado andar, que tiene un argumento de entrada (aumento_velocidad). Este valor se le sumará a la velocidad que ya llevaba el perro.\n",
    "* Necesita otro método (parar), donde pondremos la velocidad a 0.\n",
    "* Otro método llamado \"ladrar\", que tendrá un argumento de entrada, y la salida será el siguiente string: \"GUAU!\" + el argumento de entrada.\n",
    "\n",
    "\n",
    "Se pide:\n",
    "* Implementa la clase *Perro*\n",
    "* Crea un objeto de tipo *Perro*, sin dueño\n",
    "* Comprueba que están bien todos sus atributos\n",
    "* Prueba que ande, y comprueba su velocidad\n",
    "* Páralo\n",
    "* Documenta la clase *Perro*"
   ]
  },
  {
   "cell_type": "code",
   "execution_count": 33,
   "metadata": {},
   "outputs": [],
   "source": [
    "class Perro():\n",
    "    patas = 4\n",
    "    orejas = 2\n",
    "    ojos = 2\n",
    "    velocidad = 0\n",
    "\n",
    "    def __init__(self, raza, pelo=\"Marrón\", dueño=False):\n",
    "        self.raza = raza\n",
    "        self.pelo = pelo\n",
    "        self.dueño = dueño\n",
    "\n",
    "    def andar(self, aumento_velocidad):\n",
    "        self.velocidad = self.velocidad + aumento_velocidad\n",
    "        return self.velocidad\n",
    "    \n",
    "    def parar(self):\n",
    "        self.velocidad = 0\n",
    "        return self.velocidad\n",
    "    \n",
    "    def ladrar(self, mensaje):\n",
    "        return \"GUAU! \" + mensaje"
   ]
  },
  {
   "cell_type": "code",
   "execution_count": 34,
   "metadata": {},
   "outputs": [
    {
     "name": "stdout",
     "output_type": "stream",
     "text": [
      "False\n",
      "4\n",
      "2\n",
      "2\n",
      "0\n",
      "{'raza': 'Pastor alemán', 'pelo': 'Negro', 'dueño': False}\n"
     ]
    }
   ],
   "source": [
    "perro_1 = Perro(\"Pastor alemán\", \"Negro\")\n",
    "print(perro_1.dueño)\n",
    "print(perro_1.patas)\n",
    "print(perro_1.orejas)\n",
    "print(perro_1.ojos)\n",
    "print(perro_1.velocidad)\n",
    "print(perro_1.__dict__)"
   ]
  },
  {
   "cell_type": "code",
   "execution_count": 35,
   "metadata": {},
   "outputs": [
    {
     "name": "stdout",
     "output_type": "stream",
     "text": [
      "10\n",
      "10\n",
      "50\n",
      "50\n"
     ]
    }
   ],
   "source": [
    "print(perro_1.andar(10))\n",
    "print(perro_1.velocidad)\n",
    "print(perro_1.andar(40))\n",
    "print(perro_1.velocidad)"
   ]
  },
  {
   "cell_type": "code",
   "execution_count": 36,
   "metadata": {},
   "outputs": [
    {
     "name": "stdout",
     "output_type": "stream",
     "text": [
      "0\n",
      "0\n"
     ]
    }
   ],
   "source": [
    "print(perro_1.parar())\n",
    "print(perro_1.velocidad)"
   ]
  },
  {
   "cell_type": "code",
   "execution_count": 37,
   "metadata": {},
   "outputs": [
    {
     "name": "stdout",
     "output_type": "stream",
     "text": [
      "GUAU! Hola mundo\n"
     ]
    }
   ],
   "source": [
    "print(perro_1.ladrar(\"Hola mundo\"))"
   ]
  }
 ],
 "metadata": {
  "kernelspec": {
   "display_name": "Python 3",
   "language": "python",
   "name": "python3"
  },
  "language_info": {
   "codemirror_mode": {
    "name": "ipython",
    "version": 3
   },
   "file_extension": ".py",
   "mimetype": "text/x-python",
   "name": "python",
   "nbconvert_exporter": "python",
   "pygments_lexer": "ipython3",
   "version": "3.11.0"
  }
 },
 "nbformat": 4,
 "nbformat_minor": 4
}
